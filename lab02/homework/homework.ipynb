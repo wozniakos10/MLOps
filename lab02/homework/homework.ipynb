{
 "cells": [
  {
   "cell_type": "markdown",
   "id": "8b1f3471",
   "metadata": {},
   "source": [
    "# Homework"
   ]
  },
  {
   "cell_type": "markdown",
   "id": "8152622a",
   "metadata": {},
   "source": []
  },
  {
   "cell_type": "markdown",
   "id": "9853928a",
   "metadata": {},
   "source": [
    "### 1. Download data\n"
   ]
  },
  {
   "cell_type": "code",
   "execution_count": 6,
   "id": "d035e448",
   "metadata": {},
   "outputs": [
    {
     "name": "stderr",
     "output_type": "stream",
     "text": [
      "  % Total    % Received % Xferd  Average Speed   Time    Time     Time  Current\n",
      "                                 Dload  Upload   Total   Spent    Left  Speed\n",
      "  0     0    0     0    0     0      0      0 --:--:-- --:--:-- --:--:--     0             Dload  Upload   Total   Spent    Left  Speed\n",
      "100   153    0   153    0     0   1946      0 --:--:-- --:--:-- --:--:--  1961\n",
      "100   153    0   153    0     0   1946      0 --:--:-- --:--:-- --:--:--  1961\n"
     ]
    }
   ],
   "source": [
    "%%bash\n",
    "url=https://opendata.rijdendetreinen.nl/public/tariff-distances/tariff-distances-2022-01.csv\n",
    "output=data/distances/tariff-distances-2022-01.csv\n",
    "mkdir -p $(dirname \"$output\")\n",
    "curl $url -o $output"
   ]
  },
  {
   "cell_type": "markdown",
   "id": "04fb242e",
   "metadata": {},
   "source": [
    "For 2022 year, tarrif distances are only available for january"
   ]
  },
  {
   "cell_type": "code",
   "execution_count": 7,
   "id": "ae4f5c84",
   "metadata": {},
   "outputs": [
    {
     "name": "stderr",
     "output_type": "stream",
     "text": [
      "  % Total    % Received % Xferd  Average Speed   Time    Time     Time  Current\n",
      "                                 Dload  Upload   Total   Spent    Left  Speed\n",
      "  0     0    0     0    0     0      0      0 --:--:-- --:--:-- --:--:--     0             Dload  Upload   Total   Spent    Left  Speed\n",
      "100 65007  100 65007    0     0   378k      0 --:--:-- --:--:-- --:--:--  377k-     0-     0\n",
      "100 65007  100 65007    0     0   378k      0 --:--:-- --:--:-- --:--:--  377k\n"
     ]
    }
   ],
   "source": [
    "%%bash\n",
    "url=https://opendata.rijdendetreinen.nl/public/stations/stations-2023-09.csv\n",
    "output=data/stations/stations-2023-09.csv\n",
    "mkdir -p $(dirname \"$output\")\n",
    "curl $url -o $output"
   ]
  },
  {
   "cell_type": "markdown",
   "id": "70f8fb91",
   "metadata": {},
   "source": [
    "For 2023 year, stations data are only available for september"
   ]
  },
  {
   "cell_type": "code",
   "execution_count": 8,
   "id": "bbeb98be",
   "metadata": {},
   "outputs": [
    {
     "name": "stdout",
     "output_type": "stream",
     "text": [
      "Downloading disruptions data for year 2011...\n"
     ]
    },
    {
     "name": "stderr",
     "output_type": "stream",
     "text": [
      "  % Total    % Received % Xferd  Average Speed   Time    Time     Time  Current\n",
      "                                 Dload  Upload   Total   Spent    Left  Speed\n",
      "  0     0    0     0    0     0      0      0 --:--:-- --:--:-- --:--:--     0                         Dload  Upload   Total   Spent    Left  Speed\n",
      "100  400k  100  400k    0     0  1982k      0 --:--:-- --:--:-- --:--:-- 1982k\n",
      "100  400k  100  400k    0     0  1982k      0 --:--:-- --:--:-- --:--:-- 1982k\n"
     ]
    },
    {
     "name": "stdout",
     "output_type": "stream",
     "text": [
      "Downloading disruptions data for year 2012...\n"
     ]
    },
    {
     "name": "stderr",
     "output_type": "stream",
     "text": [
      "  % Total    % Received % Xferd  Average Speed   Time    Time     Time  Current\n",
      "                                 Dload  Upload   Total   Spent    Left  Speed\n",
      "  0     0    0     0    0     0      0      0 --:--:-- --:--:-- --:--:--     0             Dload  Upload   Total   Spent    Left  Speed\n",
      "100  464k  100  464k    0     0  1887k      0 --:--:-- --:--:-- --:--:-- 1894k\n",
      "100  464k  100  464k    0     0  1887k      0 --:--:-- --:--:-- --:--:-- 1894k\n"
     ]
    },
    {
     "name": "stdout",
     "output_type": "stream",
     "text": [
      "Downloading disruptions data for year 2013...\n"
     ]
    },
    {
     "name": "stderr",
     "output_type": "stream",
     "text": [
      "  % Total    % Received % Xferd  Average Speed   Time    Time     Time  Current\n",
      "                                 Dload  Upload   Total   Spent    Left  Speed\n",
      "  0     0    0     0    0     0      0      0 --:--:-- --:--:-- --:--:--     0             Dload  Upload   Total   Spent    Left  Speed\n",
      "100  498k  100  498k    0     0  2025k      0 --:--:-- --:--:-- --:--:-- 2034k\n",
      "100  498k  100  498k    0     0  2025k      0 --:--:-- --:--:-- --:--:-- 2034k\n"
     ]
    },
    {
     "name": "stdout",
     "output_type": "stream",
     "text": [
      "Downloading disruptions data for year 2014...\n"
     ]
    },
    {
     "name": "stderr",
     "output_type": "stream",
     "text": [
      "  % Total    % Received % Xferd  Average Speed   Time    Time     Time  Current\n",
      "                                 Dload  Upload   Total   Spent    Left  Speed\n",
      "  0     0    0     0    0     0      0      0 --:--:-- --:--:-- --:--:--     0             Dload  Upload   Total   Spent    Left  Speed\n",
      "100  530k  100  530k    0     0  2463k      0 --:--:-- --:--:-- --:--:-- 2468k\n",
      "100  530k  100  530k    0     0  2463k      0 --:--:-- --:--:-- --:--:-- 2468k\n"
     ]
    },
    {
     "name": "stdout",
     "output_type": "stream",
     "text": [
      "Downloading disruptions data for year 2015...\n"
     ]
    },
    {
     "name": "stderr",
     "output_type": "stream",
     "text": [
      "  % Total    % Received % Xferd  Average Speed   Time    Time     Time  Current\n",
      "                                 Dload  Upload   Total   Spent    Left  Speed\n",
      "  0     0    0     0    0     0      0      0 --:--:-- --:--:-- --:--:--     0             Dload  Upload   Total   Spent    Left  Speed\n",
      "100  638k  100  638k    0     0  2727k      0 --:--:-- --:--:--  0:00:11 56109--:-- --:--:-- 2717k\n",
      "100  638k  100  638k    0     0  2727k      0 --:--:-- --:--:-- --:--:-- 2717k\n"
     ]
    },
    {
     "name": "stdout",
     "output_type": "stream",
     "text": [
      "Downloading disruptions data for year 2016...\n"
     ]
    },
    {
     "name": "stderr",
     "output_type": "stream",
     "text": [
      "  % Total    % Received % Xferd  Average Speed   Time    Time     Time  Current\n",
      "                                 Dload  Upload   Total   Spent    Left  Speed\n",
      "  0     0    0     0    0     0      0      0 --:--:-- --:--:-- --:--:--     0                     Dload  Upload   Total   Spent    Left  Speed\n",
      "100  659k  100  659k    0     0  2498k      0 --:--:-- --:--:-- --:--:-- 2506k\n",
      "100  659k  100  659k    0     0  2498k      0 --:--:-- --:--:-- --:--:-- 2506k\n"
     ]
    },
    {
     "name": "stdout",
     "output_type": "stream",
     "text": [
      "Downloading disruptions data for year 2017...\n"
     ]
    },
    {
     "name": "stderr",
     "output_type": "stream",
     "text": [
      "  % Total    % Received % Xferd  Average Speed   Time    Time     Time  Current\n",
      "                                 Dload  Upload   Total   Spent    Left  Speed\n",
      "  0     0    0     0    0     0      0      0 --:--:-- --:--:-- --:--:--     0             Dload  Upload   Total   Spent    Left  Speed\n",
      "100 1238k  100 1238k    0     0  4222k      0 --:--:-- --:--:-- --:--:-- 4226k\n",
      "100 1238k  100 1238k    0     0  4222k      0 --:--:-- --:--:-- --:--:-- 4226k\n"
     ]
    },
    {
     "name": "stdout",
     "output_type": "stream",
     "text": [
      "Downloading disruptions data for year 2018...\n"
     ]
    },
    {
     "name": "stderr",
     "output_type": "stream",
     "text": [
      "  % Total    % Received % Xferd  Average Speed   Time    Time     Time  Current\n",
      "                                 Dload  Upload   Total   Spent    Left  Speed\n",
      "  0     0    0     0    0     0      0      0 --:--:-- --:--:-- --:--:--     0                    Dload  Upload   Total   Spent    Left  Speed\n",
      "100 1544k  100 1544k    0     0  5133k      0 --:--:-- --:--:-- --:--:-- 5130k\n",
      "100 1544k  100 1544k    0     0  5133k      0 --:--:-- --:--:-- --:--:-- 5130k\n"
     ]
    },
    {
     "name": "stdout",
     "output_type": "stream",
     "text": [
      "Downloading disruptions data for year 2019...\n"
     ]
    },
    {
     "name": "stderr",
     "output_type": "stream",
     "text": [
      "  % Total    % Received % Xferd  Average Speed   Time    Time     Time  Current\n",
      "                                 Dload  Upload   Total   Spent    Left  Speed\n",
      "  0     0    0     0    0     0      0      0 --:--:-- --:--:-- --:--:--     0             Dload  Upload   Total   Spent    Left  Speed\n",
      "100 1805k  100 1805k    0     0  6147k      0 --:--:-- --:--:-- --:--:-- 6161k\n",
      "100 1805k  100 1805k    0     0  6147k      0 --:--:-- --:--:-- --:--:-- 6161k\n"
     ]
    },
    {
     "name": "stdout",
     "output_type": "stream",
     "text": [
      "Downloading disruptions data for year 2020...\n"
     ]
    },
    {
     "name": "stderr",
     "output_type": "stream",
     "text": [
      "  % Total    % Received % Xferd  Average Speed   Time    Time     Time  Current\n",
      "                                 Dload  Upload   Total   Spent    Left  Speed\n",
      "  0     0    0     0    0     0      0      0 --:--:-- --:--:-- --:--:--     0             Dload  Upload   Total   Spent    Left  Speed\n",
      "100 1306k  100 1306k    0     0  4509k      0 --:--:-- --:--:-- --:--:-- 4521k\n",
      "100 1306k  100 1306k    0     0  4509k      0 --:--:-- --:--:-- --:--:-- 4521k\n"
     ]
    },
    {
     "name": "stdout",
     "output_type": "stream",
     "text": [
      "Downloading disruptions data for year 2021...\n"
     ]
    },
    {
     "name": "stderr",
     "output_type": "stream",
     "text": [
      "  % Total    % Received % Xferd  Average Speed   Time    Time     Time  Current\n",
      "                                 Dload  Upload   Total   Spent    Left  Speed\n",
      "  0     0    0     0    0     0      0      0 --:--:-- --:--:-- --:--:--     0             Dload  Upload   Total   Spent    Left  Speed\n",
      "100 1404k  100 1404k    0     0  4922k      0 --:--:-- --:--:-- --:--:-- 4927k\n",
      "100 1404k  100 1404k    0     0  4922k      0 --:--:-- --:--:-- --:--:-- 4927k\n"
     ]
    },
    {
     "name": "stdout",
     "output_type": "stream",
     "text": [
      "Downloading disruptions data for year 2022...\n"
     ]
    },
    {
     "name": "stderr",
     "output_type": "stream",
     "text": [
      "  % Total    % Received % Xferd  Average Speed   Time    Time     Time  Current\n",
      "                                 Dload  Upload   Total   Spent    Left  Speed\n",
      "  0     0    0     0    0     0      0      0 --:--:-- --:--:-- --:--:--     0               Dload  Upload   Total   Spent    Left  Speed\n",
      "100 1653k  100 1653k    0     0  7290k      0 --:--:-- --:--:-- --:--:--     0- --:--:-- 7318k\n",
      "100 1653k  100 1653k    0     0  7290k      0 --:--:-- --:--:-- --:--:-- 7318k\n"
     ]
    },
    {
     "name": "stdout",
     "output_type": "stream",
     "text": [
      "Downloading disruptions data for year 2023...\n"
     ]
    },
    {
     "name": "stderr",
     "output_type": "stream",
     "text": [
      "  % Total    % Received % Xferd  Average Speed   Time    Time     Time  Current\n",
      "                                 Dload  Upload   Total   Spent    Left  Speed\n",
      "  0     0    0     0    0     0      0      0 --:--:-- --:--:-- --:--:--     0             Dload  Upload   Total   Spent    Left  Speed\n",
      "100 1594k  100 1594k    0     0  7369k      0 --:--:-- --:--:-- --:--:--     0--:--:-- --:--:-- 7381k\n",
      "100 1594k  100 1594k    0     0  7369k      0 --:--:-- --:--:-- --:--:-- 7381k\n"
     ]
    }
   ],
   "source": [
    "%%bash\n",
    "\n",
    "for year in {2011..2023}; do\n",
    "    url=https://opendata.rijdendetreinen.nl/public/disruptions/disruptions-${year}.csv\n",
    "    output=data/disruptions/disruptions-${year}.csv\n",
    "    mkdir -p $(dirname \"$output\")\n",
    "    echo \"Downloading disruptions data for year $year...\"\n",
    "    curl $url -o $output\n",
    "done"
   ]
  },
  {
   "cell_type": "code",
   "execution_count": 17,
   "id": "c2c95116",
   "metadata": {},
   "outputs": [
    {
     "name": "stdout",
     "output_type": "stream",
     "text": [
      "Downloading services data for year 2019.. Output: https://opendata.rijdendetreinen.nl/public/services/services-2019.csv.gz\n"
     ]
    },
    {
     "name": "stderr",
     "output_type": "stream",
     "text": [
      "  % Total    % Received % Xferd  Average Speed   Time    Time     Time  Current\n",
      "                                 Dload  Upload   Total   Spent    Left  Speed\n",
      "100  365M  100  365M    0     0  9289k      0  0:00:40  0:00:40 --:--:-- 11.1M 0:00:20 10.7M0:19 5811k0:00:11  9.7M.6M\n"
     ]
    },
    {
     "name": "stdout",
     "output_type": "stream",
     "text": [
      "Downloading services data for year 2020.. Output: https://opendata.rijdendetreinen.nl/public/services/services-2020.csv.gz\n"
     ]
    },
    {
     "name": "stderr",
     "output_type": "stream",
     "text": [
      "  % Total    % Received % Xferd  Average Speed   Time    Time     Time  Current\n",
      "                                 Dload  Upload   Total   Spent    Left  Speed\n",
      "100  370M  100  370M    0     0  11.0M      0  0:00:33  0:00:33 --:--:-- 11.1M:00:02  0:00:32 10.6M10.8M8M11.1MM00:02 11.0M\n"
     ]
    },
    {
     "name": "stdout",
     "output_type": "stream",
     "text": [
      "Downloading services data for year 2021.. Output: https://opendata.rijdendetreinen.nl/public/services/services-2021.csv.gz\n"
     ]
    },
    {
     "name": "stderr",
     "output_type": "stream",
     "text": [
      "  % Total    % Received % Xferd  Average Speed   Time    Time     Time  Current\n",
      "                                 Dload  Upload   Total   Spent    Left  Speed\n",
      "100  366M  100  366M    0     0  11.0M      0  0:00:33  0:00:33 --:--:-- 11.0M9 10.7M0:00:30  0:00:03 11.2M1.1M\n"
     ]
    },
    {
     "name": "stdout",
     "output_type": "stream",
     "text": [
      "Downloading services data for year 2022.. Output: https://opendata.rijdendetreinen.nl/public/services/services-2022.csv.gz\n"
     ]
    },
    {
     "name": "stderr",
     "output_type": "stream",
     "text": [
      "  % Total    % Received % Xferd  Average Speed   Time    Time     Time  Current\n",
      "                                 Dload  Upload   Total   Spent    Left  Speed\n",
      "100  371M  100  371M    0     0  11.0M      0  0:00:33  0:00:33 --:--:-- 11.1M1 11.1M.1MMM\n"
     ]
    },
    {
     "name": "stdout",
     "output_type": "stream",
     "text": [
      "Downloading services data for year 2023.. Output: https://opendata.rijdendetreinen.nl/public/services/services-2023.csv.gz\n"
     ]
    },
    {
     "name": "stderr",
     "output_type": "stream",
     "text": [
      "  % Total    % Received % Xferd  Average Speed   Time    Time     Time  Current\n",
      "                                 Dload  Upload   Total   Spent    Left  Speed\n",
      "100  360M  100  360M    0     0  11.0M      0  0:00:32  0:00:32 --:--:-- 11.1M.1M11.1MM\n"
     ]
    },
    {
     "name": "stdout",
     "output_type": "stream",
     "text": [
      "Downloading services data for year 2024.. Output: https://opendata.rijdendetreinen.nl/public/services/services-2024.csv.gz\n"
     ]
    },
    {
     "name": "stderr",
     "output_type": "stream",
     "text": [
      "  % Total    % Received % Xferd  Average Speed   Time    Time     Time  Current\n",
      "                                 Dload  Upload   Total   Spent    Left  Speed\n",
      "100  373M  100  373M    0     0  11.0M      0  0:00:33  0:00:33 --:--:-- 11.0M0:00:02  0:00:32 10.7M14  0:00:19 11.1M1M\n"
     ]
    }
   ],
   "source": [
    "%%bash\n",
    "\n",
    "for year in {2019..2024}; do\n",
    "    url=https://opendata.rijdendetreinen.nl/public/services/services-${year}.csv.gz\n",
    "    output=data/services/services-${year}.csv.gz\n",
    "    mkdir -p $(dirname \"$output\")\n",
    "    echo \"Downloading services data for year $year.. Output: $url\"\n",
    "    curl $url -o $output \\\n",
    "        && gzip -f -d $output\n",
    "done"
   ]
  },
  {
   "cell_type": "markdown",
   "id": "3108c0ef",
   "metadata": {},
   "source": [
    "Services data is used from 2019 to 2024, as data for 2025 is not fully ready since that year is still ongoing.\n"
   ]
  },
  {
   "cell_type": "code",
   "execution_count": 3,
   "id": "00503035",
   "metadata": {},
   "outputs": [],
   "source": [
    "import duckdb as ddb"
   ]
  },
  {
   "cell_type": "code",
   "execution_count": 22,
   "id": "08bf6dee",
   "metadata": {},
   "outputs": [
    {
     "data": {
      "text/plain": [
       "┌──────────┬─────────┬─────────┬──────────────┬──────────────┬───────────┐\n",
       "│ database │ schema  │  name   │ column_names │ column_types │ temporary │\n",
       "│ varchar  │ varchar │ varchar │  varchar[]   │  varchar[]   │  boolean  │\n",
       "├──────────┴─────────┴─────────┴──────────────┴──────────────┴───────────┤\n",
       "│                                 0 rows                                 │\n",
       "└────────────────────────────────────────────────────────────────────────┘"
      ]
     },
     "execution_count": 22,
     "metadata": {},
     "output_type": "execute_result"
    }
   ],
   "source": [
    "# SETTING UP NEW DUCKDB DATABASE\n",
    "db_duck = ddb.connect(\"data/duckdb_trains.db\")\n",
    "db_duck.sql(\"\"\"\n",
    "SHOW ALL TABLES\n",
    "\"\"\")"
   ]
  },
  {
   "cell_type": "code",
   "execution_count": 2,
   "id": "dadeb2cb",
   "metadata": {},
   "outputs": [
    {
     "name": "stdout",
     "output_type": "stream",
     "text": [
      "host=localhost user=postgres password=postgres dbname=postgres\n"
     ]
    }
   ],
   "source": [
    "import psycopg\n",
    "\n",
    "# build the connection string\n",
    "host = \"localhost\"\n",
    "username = \"postgres\"\n",
    "password = \"postgres\"  # NEVER do this in real code, read from secure secrets file\n",
    "db_name = \"postgres\"\n",
    "\n",
    "db_conn_string = f\"host={host} user={username} password={password} dbname={db_name}\"\n",
    "print(db_conn_string)"
   ]
  },
  {
   "cell_type": "code",
   "execution_count": 34,
   "id": "64fc1109",
   "metadata": {},
   "outputs": [
    {
     "name": "stdout",
     "output_type": "stream",
     "text": [
      "Executing: DROP TABLE IF EXISTS \"services\" CASCADE;\n",
      "Successfully dropped table: services\n",
      "Executing: DROP TABLE IF EXISTS \"disruptions\" CASCADE;\n",
      "Successfully dropped table: disruptions\n",
      "\n",
      "All specified tables dropped successfully!\n",
      "\n",
      "All specified tables dropped successfully!\n"
     ]
    }
   ],
   "source": [
    "# Drop services and disruptions tables for having clear database\n",
    "\n",
    "with psycopg.connect(db_conn_string) as conn:\n",
    "    with conn.cursor() as cur:\n",
    "        # List of tables to drop\n",
    "        tables_to_drop = [\"services\", \"disruptions\"]\n",
    "\n",
    "        for table_name in tables_to_drop:\n",
    "            drop_sql = f'DROP TABLE IF EXISTS \"{table_name}\" CASCADE;'\n",
    "            print(f\"Executing: {drop_sql}\")\n",
    "            cur.execute(drop_sql)\n",
    "            print(f\"Successfully dropped table: {table_name}\")\n",
    "\n",
    "        # Commit all changes\n",
    "        conn.commit()\n",
    "        print(\"\\nAll specified tables dropped successfully!\")"
   ]
  },
  {
   "cell_type": "markdown",
   "id": "c456ae1d",
   "metadata": {},
   "source": [
    "Confirming with `psql -h localhost -U postgres -c '\\dt'` command in terminal that postgres is clean"
   ]
  },
  {
   "cell_type": "markdown",
   "id": "a7b1598c",
   "metadata": {},
   "source": [
    "### 2. Put stations data into stations table in DuckDB. This changes rarely, so we treat it as a almost constant file."
   ]
  },
  {
   "cell_type": "code",
   "execution_count": 82,
   "id": "6a62c5e5",
   "metadata": {},
   "outputs": [],
   "source": [
    "db_duck.sql(\"\"\"\n",
    "CREATE TABLE IF NOT EXISTS stations AS\n",
    "SELECT * FROM \"data/stations/stations-2023-09.csv\"\n",
    "\"\"\")"
   ]
  },
  {
   "cell_type": "markdown",
   "id": "2276ad52",
   "metadata": {},
   "source": [
    "### 3. Based on DuckDB tutorial, create tables distances and distances_long. We treat this similarly to stations table.\n"
   ]
  },
  {
   "cell_type": "code",
   "execution_count": 87,
   "id": "c5925c66",
   "metadata": {},
   "outputs": [],
   "source": [
    "db_duck.sql(\"\"\"\n",
    "CREATE TABLE IF NOT EXISTS distances AS\n",
    "SELECT * FROM read_csv(\n",
    "        'data/distances/tariff-distances-2022-01.csv',\n",
    "        nullstr = 'XXX'\n",
    "    );\n",
    "\"\"\")"
   ]
  },
  {
   "cell_type": "code",
   "execution_count": 5,
   "id": "675dabd4",
   "metadata": {},
   "outputs": [
    {
     "data": {
      "text/plain": [
       "┌─────────────┬─────────────┬─────────┬─────────┬─────────┬─────────┐\n",
       "│ column_name │ column_type │  null   │   key   │ default │  extra  │\n",
       "│   varchar   │   varchar   │ varchar │ varchar │ varchar │ varchar │\n",
       "├─────────────┼─────────────┼─────────┼─────────┼─────────┼─────────┤\n",
       "│ Station     │ VARCHAR     │ YES     │ NULL    │ NULL    │ NULL    │\n",
       "│ AC          │ BIGINT      │ YES     │ NULL    │ NULL    │ NULL    │\n",
       "│ AH          │ BIGINT      │ YES     │ NULL    │ NULL    │ NULL    │\n",
       "│ AHP         │ BIGINT      │ YES     │ NULL    │ NULL    │ NULL    │\n",
       "│ AHPR        │ BIGINT      │ YES     │ NULL    │ NULL    │ NULL    │\n",
       "└─────────────┴─────────────┴─────────┴─────────┴─────────┴─────────┘"
      ]
     },
     "execution_count": 5,
     "metadata": {},
     "output_type": "execute_result"
    }
   ],
   "source": [
    "db_duck.sql(\"\"\"\n",
    "FROM (DESCRIBE distances)\n",
    "LIMIT 5;\n",
    "\"\"\")"
   ]
  },
  {
   "cell_type": "code",
   "execution_count": 89,
   "id": "9dfd6d39",
   "metadata": {},
   "outputs": [],
   "source": [
    "db_duck.sql(\"\"\"\n",
    "CREATE TABLE IF NOT EXISTS distances_long AS\n",
    "    UNPIVOT distances\n",
    "    ON COLUMNS (* EXCLUDE station)\n",
    "    INTO NAME other_station VALUE distance;\n",
    "            \"\"\")"
   ]
  },
  {
   "cell_type": "code",
   "execution_count": 6,
   "id": "efd24c6f",
   "metadata": {},
   "outputs": [
    {
     "data": {
      "text/plain": [
       "┌─────────┬───────────────┬──────────┐\n",
       "│ Station │ other_station │ distance │\n",
       "│ varchar │    varchar    │  int64   │\n",
       "├─────────┼───────────────┼──────────┤\n",
       "│ AC      │ AH            │       82 │\n",
       "│ AC      │ AHP           │       83 │\n",
       "│ AC      │ AHPR          │       85 │\n",
       "└─────────┴───────────────┴──────────┘"
      ]
     },
     "execution_count": 6,
     "metadata": {},
     "output_type": "execute_result"
    }
   ],
   "source": [
    "db_duck.sql(\"\"\"\n",
    "SELECT station, other_station, distance\n",
    "FROM distances_long\n",
    "LIMIT 3;\n",
    "            \"\"\")"
   ]
  },
  {
   "cell_type": "markdown",
   "id": "89a58641",
   "metadata": {},
   "source": [
    "### 4. Put train disruptions into disruptions table in the Postgres database. We expect this data to change regularly, and thus treat it as a typical OLTP table.\n"
   ]
  },
  {
   "cell_type": "code",
   "execution_count": 67,
   "id": "1e236183",
   "metadata": {},
   "outputs": [
    {
     "name": "stdout",
     "output_type": "stream",
     "text": [
      "DROP TABLE\n",
      "CREATE TABLE\n"
     ]
    }
   ],
   "source": [
    "%%bash\n",
    "#First approach - via created sql schema and bash script\n",
    "\n",
    "#exporting env var, for operate with postgres\n",
    "export PGPASSWORD='postgres'\n",
    "\n",
    "psql --host localhost --username postgres --file disruptions_table.sql\n"
   ]
  },
  {
   "cell_type": "code",
   "execution_count": 68,
   "id": "3abc89c3",
   "metadata": {
    "vscode": {
     "languageId": "shellscript"
    }
   },
   "outputs": [
    {
     "name": "stdout",
     "output_type": "stream",
     "text": [
      "[/] Loading: disruptions-2011.csv\n",
      "COPY 1846\n",
      "---\n",
      "[/] Loading: disruptions-2012.csv\n",
      "COPY 2074\n",
      "---\n",
      "[/] Loading: disruptions-2013.csv\n",
      "COPY 2312\n",
      "---\n",
      "[/] Loading: disruptions-2014.csv\n",
      "COPY 2484\n",
      "---\n",
      "[/] Loading: disruptions-2015.csv\n",
      "COPY 2947\n",
      "---\n",
      "[/] Loading: disruptions-2016.csv\n",
      "COPY 3031\n",
      "---\n",
      "[/] Loading: disruptions-2017.csv\n",
      "COPY 4085\n",
      "---\n",
      "[/] Loading: disruptions-2018.csv\n",
      "COPY 5190\n",
      "---\n",
      "[/] Loading: disruptions-2019.csv\n",
      "COPY 5940\n",
      "---\n",
      "[/] Loading: disruptions-2020.csv\n",
      "COPY 4450\n",
      "---\n",
      "[/] Loading: disruptions-2021.csv\n",
      "COPY 4874\n",
      "---\n",
      "[/] Loading: disruptions-2022.csv\n",
      "COPY 5499\n",
      "---\n",
      "[/] Loading: disruptions-2023.csv\n",
      "COPY 5168\n",
      "---\n",
      "Checking total rows in disruptions table...\n",
      " total_disruptions \n",
      "-------------------\n",
      "             49900\n",
      "(1 row)\n",
      "\n"
     ]
    }
   ],
   "source": [
    "%%bash\n",
    "###Note\n",
    "#Probably can be done better with: https://duckdb.org/docs/stable/core_extensions/postgres#create-table\n",
    "# Script to load all disruption CSV files into PostgreSQL disruptions table\n",
    "# Make sure the disruptions table exists before running this script\n",
    "\n",
    "# Set PostgreSQL connection parameters\n",
    "export PGPASSWORD='postgres'\n",
    "HOST=\"localhost\"\n",
    "USER=\"postgres\"\n",
    "DATABASE=\"postgres\"\n",
    "\n",
    "# Directory containing CSV files\n",
    "DATA_DIR=\"data/disruptions\"\n",
    "\n",
    "\n",
    "# Loop through all CSV files in the disruptions directory\n",
    "for csv_file in \"$DATA_DIR\"/*.csv; do\n",
    "    filename=$(basename \"$csv_file\")\n",
    "\n",
    "    \n",
    "    echo \"[$count/$total_files] Loading: $filename\"\n",
    "    \n",
    "    # Use psql with \\copy command to load CSV data\n",
    "    psql -h \"$HOST\" -U \"$USER\" -d \"$DATABASE\" -c \"\\copy disruptions FROM '$csv_file' DELIMITER ',' CSV HEADER\"\n",
    "    \n",
    "    echo \"---\"\n",
    "\n",
    "done\n",
    "\n",
    "\n",
    "# Display row count in the table\n",
    "echo \"Checking total rows in disruptions table...\"\n",
    "psql -h \"$HOST\" -U \"$USER\" -d \"$DATABASE\" -c \"SELECT COUNT(*) as total_disruptions FROM disruptions;\"\n"
   ]
  },
  {
   "cell_type": "code",
   "execution_count": 10,
   "id": "c225cc39",
   "metadata": {
    "vscode": {
     "languageId": "shellscript"
    }
   },
   "outputs": [],
   "source": [
    "# #Second approach - via duckdb and postgres attachement. Much easier and I suppose more efficient than bash script\n",
    "\n",
    "\n",
    "# connection string\n",
    "conn_string = \"host=localhost user=postgres password=postgres dbname=postgres\"\n",
    "\n",
    "# Read-write connection to postgres. It is read-write by default\n",
    "db_duck.sql(f\"\"\"\n",
    "ATTACH IF NOT EXISTS '{conn_string}' AS postgres_db_read_write (TYPE postgres);\n",
    "\"\"\")"
   ]
  },
  {
   "cell_type": "code",
   "execution_count": null,
   "id": "25420c2b",
   "metadata": {
    "vscode": {
     "languageId": "shellscript"
    }
   },
   "outputs": [],
   "source": [
    "# db_duck.sql(\"\"\"\n",
    "# COPY (SELECT * FROM read_csv('data/disruptions/*.csv')) TO postgres_db_read_write\n",
    "# \"\"\")"
   ]
  },
  {
   "cell_type": "markdown",
   "id": "77d290e2",
   "metadata": {},
   "source": [
    "### 5.Transform train services CSV files into a single Parquet file. Make table services from it. We treat this as a big data batch input, created rarely but regularly for analytics purposes."
   ]
  },
  {
   "cell_type": "code",
   "execution_count": 102,
   "id": "0b13cd8b",
   "metadata": {
    "vscode": {
     "languageId": "shellscript"
    }
   },
   "outputs": [
    {
     "data": {
      "application/vnd.jupyter.widget-view+json": {
       "model_id": "14a2487f6d78484992172bde0b767f55",
       "version_major": 2,
       "version_minor": 0
      },
      "text/plain": [
       "FloatProgress(value=0.0, layout=Layout(width='auto'), style=ProgressStyle(bar_color='black'))"
      ]
     },
     "metadata": {},
     "output_type": "display_data"
    }
   ],
   "source": [
    "db_duck.sql(\"\"\"\n",
    "COPY (SELECT * FROM read_csv(\"data/services/*.csv\")) TO \"data/services.parquet\" (FORMAT PARQUET);\n",
    "\"\"\")"
   ]
  },
  {
   "cell_type": "code",
   "execution_count": 103,
   "id": "4d3bf336",
   "metadata": {
    "vscode": {
     "languageId": "shellscript"
    }
   },
   "outputs": [],
   "source": [
    "db_duck.sql(\"\"\"\n",
    "CREATE TABLE IF NOT EXISTS services AS SELECT * FROM \"data/services.parquet\"\n",
    "\"\"\")"
   ]
  },
  {
   "cell_type": "code",
   "execution_count": 10,
   "id": "436cbc64",
   "metadata": {
    "vscode": {
     "languageId": "shellscript"
    }
   },
   "outputs": [
    {
     "data": {
      "text/plain": [
       "┌────────────────────────┬─────────┬────────────────┬──────────────────────────────────────────────────────────────────────────────────────────────────────────────────────────────────────────────────────────────────────────────────────────────────────────────────────────────────────────────────────────────────────────────────────────────────────────────────────────────────────────────────────────────────────────────────────────────────────────────────────────────────────────────────────────────────────────────────────────────────────────────────────────────────────────────────────────────────────────────────────────────────────────────────────────────────────────────────────────────────────────────────────────────────────────────────────────────────────────────────────────────────────────────────────────────────────────────────────────────────────────────────────────────────────────────────────────────────────────────────────────────────────────────────────────────────────────────────────────────────────────────────────────────────────────────────────────────────────────────────────────────────────────────────────────────────────────────────────────────────────────────────────────────────────────────────────────────────────────────────────────────────────────────────────────────────────────────────────────────────────────────────────────────────────────────────────────────────────────────────────────────────────────────────────────────────────────────────────────────────────────────────────────────────────────────────────────────────────────────────────────────────────────────────────────────────────────────────────────────────────────────────────────────────────────────────────────────────────────────────────────────────────────────────────────────────────────────────────────────────────────────────────────────────────────────────────────────────────────────────────────────────────────────────────────────────────────────────────────────────────────────────────────────────────────────┬───────────────────────────────────────────────────────────────────────────────────────────────────────────────────────────────────────────────────────────────────────────────────────────────────────────────────────────────────────────────────────────────────────────────────────────────────────────────────────────────────────────────────────────────────────────────────────────────────────────────────────────────────────────────────────────────────────────────────────────────────────────────────────────────────────────────────────────────────────────────────────────────────────────────────────────────────────────────────────────────────────────────────────────────────────────────────────────────────────────────────────────────────────────────────────────────────────────────────────────────────────────────────────────────────────────────────────────────────────────────────────────────────────────────────────────────────────────────────────────────────────────────────────────────────────────────────────────────────────────────────────────────────────────────────────────────────────────────────────────────────────────────────────────────────────────────────────────────────────────────────────────────────────────────────────────────────────────────────────────────────────────────────────────────────────────────────────────────────────────────────────────────────────────────────────────────────────────────────────────────────────────────────────────────────────────────────────────────────────────────────────────────────────────────────────────────────────────────────────────────────────────────────────────────────────────────────────────────────────────────────────────────────────────────────────────────────────────────────────────────────────────────────────────────────────────────────────────────────────────────────────────────────────────────────────────────────────────────────────────────────────────────────────────────────────────────────────────────────────────────────────────────────────────────────────────────────────────────────────────────────────────────────────────────────────────────────────────────────────────────────────────────────────────────────────────────────────────────────────────────────────────────────────────────────────────────────────────────────────────────────────────────────────────────────────────────────────────────────────────────────────────────────────────────────────────────────────────────────────────────────────────────────────────────────────────────────────────────────────────────────────────────────────────────────────────────────────────────────────────────────────────────────────────────────────────────────────────────────────────────────────────────────────────────────────────────────────────────────────────────────────────────────────────────────────────────────────────────────────────────────────────────────────────────────────────────────────────────────────────────────────────────────────────────────────────────────────────────────────────────────────────────────────────────────────────────────────────────────────────────────────────────────────────────────────────────────────────────────────────────────┬───────────┐\n",
       "│        database        │ schema  │      name      │                                                                                                                                                                                                                                                                                                                                                                                                                                                                                                                                                                                                                                                                                                                                                                                                                                                                                                                                                                                                                 column_names                                                                                                                                                                                                                                                                                                                                                                                                                                                                                                                                                                                                                                                                                                                                                                                                                                                                                                                                                                                                                 │                                                                                                                                                                                                                                                                                                                                                                                                                                                                                                                                                                                                                                                                                                                                                                                                                                                                                                                                                                                                                                                                                                                                                                                                                                                                                                                                                                                                                                                                                                                                                                                                                                                           column_types                                                                                                                                                                                                                                                                                                                                                                                                                                                                                                                                                                                                                                                                                                                                                                                                                                                                                                                                                                                                                                                                                                                                                                                                                                                                                                                                                                                                                                                                                                                                                                                                                                                            │ temporary │\n",
       "│        varchar         │ varchar │    varchar     │                                                                                                                                                                                                                                                                                                                                                                                                                                                                                                                                                                                                                                                                                                                                                                                                                                                                                                                                                                                                                  varchar[]                                                                                                                                                                                                                                                                                                                                                                                                                                                                                                                                                                                                                                                                                                                                                                                                                                                                                                                                                                                                                   │                                                                                                                                                                                                                                                                                                                                                                                                                                                                                                                                                                                                                                                                                                                                                                                                                                                                                                                                                                                                                                                                                                                                                                                                                                                                                                                                                                                                                                                                                                                                                                                                                                                             varchar[]                                                                                                                                                                                                                                                                                                                                                                                                                                                                                                                                                                                                                                                                                                                                                                                                                                                                                                                                                                                                                                                                                                                                                                                                                                                                                                                                                                                                                                                                                                                                                                                                                                                             │  boolean  │\n",
       "├────────────────────────┼─────────┼────────────────┼──────────────────────────────────────────────────────────────────────────────────────────────────────────────────────────────────────────────────────────────────────────────────────────────────────────────────────────────────────────────────────────────────────────────────────────────────────────────────────────────────────────────────────────────────────────────────────────────────────────────────────────────────────────────────────────────────────────────────────────────────────────────────────────────────────────────────────────────────────────────────────────────────────────────────────────────────────────────────────────────────────────────────────────────────────────────────────────────────────────────────────────────────────────────────────────────────────────────────────────────────────────────────────────────────────────────────────────────────────────────────────────────────────────────────────────────────────────────────────────────────────────────────────────────────────────────────────────────────────────────────────────────────────────────────────────────────────────────────────────────────────────────────────────────────────────────────────────────────────────────────────────────────────────────────────────────────────────────────────────────────────────────────────────────────────────────────────────────────────────────────────────────────────────────────────────────────────────────────────────────────────────────────────────────────────────────────────────────────────────────────────────────────────────────────────────────────────────────────────────────────────────────────────────────────────────────────────────────────────────────────────────────────────────────────────────────────────────────────────────────────────────────────────────────────────────────────────────────────────────────────────────────────────────────────────────────────────────────────────────────────────────────────────────────────────────────┼───────────────────────────────────────────────────────────────────────────────────────────────────────────────────────────────────────────────────────────────────────────────────────────────────────────────────────────────────────────────────────────────────────────────────────────────────────────────────────────────────────────────────────────────────────────────────────────────────────────────────────────────────────────────────────────────────────────────────────────────────────────────────────────────────────────────────────────────────────────────────────────────────────────────────────────────────────────────────────────────────────────────────────────────────────────────────────────────────────────────────────────────────────────────────────────────────────────────────────────────────────────────────────────────────────────────────────────────────────────────────────────────────────────────────────────────────────────────────────────────────────────────────────────────────────────────────────────────────────────────────────────────────────────────────────────────────────────────────────────────────────────────────────────────────────────────────────────────────────────────────────────────────────────────────────────────────────────────────────────────────────────────────────────────────────────────────────────────────────────────────────────────────────────────────────────────────────────────────────────────────────────────────────────────────────────────────────────────────────────────────────────────────────────────────────────────────────────────────────────────────────────────────────────────────────────────────────────────────────────────────────────────────────────────────────────────────────────────────────────────────────────────────────────────────────────────────────────────────────────────────────────────────────────────────────────────────────────────────────────────────────────────────────────────────────────────────────────────────────────────────────────────────────────────────────────────────────────────────────────────────────────────────────────────────────────────────────────────────────────────────────────────────────────────────────────────────────────────────────────────────────────────────────────────────────────────────────────────────────────────────────────────────────────────────────────────────────────────────────────────────────────────────────────────────────────────────────────────────────────────────────────────────────────────────────────────────────────────────────────────────────────────────────────────────────────────────────────────────────────────────────────────────────────────────────────────────────────────────────────────────────────────────────────────────────────────────────────────────────────────────────────────────────────────────────────────────────────────────────────────────────────────────────────────────────────────────────────────────────────────────────────────────────────────────────────────────────────────────────────────────────────────────────────────────────────────────────────────────────────────────────────────────────────────────────────────────────────────────────────────────┼───────────┤\n",
       "│ duckdb_trains          │ main    │ distances      │ [Station, AC, AH, AHP, AHPR, AHZ, AKL, AKM, ALM, ALMB, ALMM, ALMO, ALMP, AMF, AMFS, AML, AMPO, AMR, AMRI, AMRN, ANA, APD, APDM, APDO, APG, APN, ARN, ASA, ASB, ASD, ASDL, ASDM, ASDZ, ASHD, ASN, ASS, ASSP, ATN, AVAT, BD, BDE, BDG, BDM, BDPB, BET, BF, BGN, BHDV, BHV, BK, BKF, BKG, BKL, BL, BLL, BMN, BMR, BN, BNC, BNK, BNN, BNZ, BP, BR, BRD, BRN, BSD, BSK, BSKS, BSMZ, BTL, BV, BZL, CAS, CK, CL, CO, CPS, CVM, DA, DB, DDN, DDR, DDRS, DDZD, DEI, DID, DL, DLD, DLN, DMN, DMNZ, DN, DR, DRH, DRON, DRP, DT, DTC, DTCH, DTCP, DV, DVC, DVD, DVN, DVNK, DWE, DZ, DZW, EC, ED, EDC, EDN, EEM, EGH, EGHM, EHS, EHV, EKZ, EML, EMN, EMNZ, ES, ESE, ESK, EST, ETN, FN, FWD, GBG, GBR, GD, GDG, GDM, GDR, GERP, GK, GLN, GN, GND, GNN, GO, GP, GR, GS, GV, GVC, GVM, GVMW, GW, GZ, HAD, HB, HBZM, HD, HDB, HDE, HDG, HDR, HDRZ, HFD, HGL, HGLG, HGLO, HGV, HGZ, HIL, HK, HKS, HLG, HLGH, HLM, HLMS, HLO, HM, HMBH, HMBV, HMH, HMN, HN, HNK, HNO, HNP, HON, HOR, HR, HRL, HRLW, HRN, HRT, HRY, HT, HTN, HTNC, HTO, HVL, HVS, HVSM, HVSP, HWD, HWZB, HZE, IJT, KBD, KBK, KLP, KMA, KMR, KMW, KPN, KPNZ, KRD, KRG, KTR, KW, KZ, LAA, LC, LDL, LDM, LEDN, LEER, LG, LLS, LLZM, LP, LTN, LTV, LUT, LW, LWC, MAS, MDB, MES, MG, MMLH, MP, MRB, MRN, MT, MTH, MTN, MTR, MZ, NA, NDB, NH, NKK, NM, NMD, NMGO, NMH, NML, NS, NSCH, NVD, NVP, NWK, O, OBD, ODB, ODZ, OMN, OP, OST, OT, OTB, OVN, OW, PMO, PMR, PMW, PT, RAI, RAT, RB, RD, RH, RHN, RL, RLB, RM, RS, RSD, RSN, RSW, RTA, RTB, RTD, RTN, RTST, RTZ, RV, RVS, SBK, SD, SDA, SDM, SDT, SDTB, SGL, SGN, SHL, SK, SKND, SM, SN, SOG, SPTN, SPTZ, SRN, SSH, ST, STD, STM, STV, STZ, SWD, SWK, TB, TBG, TBR, TBU, TG, TL, TPSW, TWL, UHM, UHZ, UST, UT, UTG, UTLN, UTLR, UTM, UTO, UTT, UTVR, UTZL, VB, VD, VDL, VDM, VEM, VG, VH, VHP, VK, VL, VLB, VNDC, VNDW, VP, VRY, VS, VSS, VST, VSV, VTN, VZ, WAD, WADN, WADT, WC, WD, WDN, WF, WFM, WH, WK, WL, WM, WP, WR, WS, WSM, WT, WTV, WV, WW, WWW, WZ, YPB, ZA, ZB, ZBM, ZD, ZDK, ZH, ZL, ZLSH, ZLW, ZP, ZTM, ZTMO, ZV, ZVB, ZVT, ZWD, ZZS] │ [VARCHAR, BIGINT, BIGINT, BIGINT, BIGINT, BIGINT, BIGINT, BIGINT, BIGINT, BIGINT, BIGINT, BIGINT, BIGINT, BIGINT, BIGINT, BIGINT, BIGINT, BIGINT, BIGINT, BIGINT, BIGINT, BIGINT, BIGINT, BIGINT, BIGINT, BIGINT, BIGINT, BIGINT, BIGINT, BIGINT, BIGINT, BIGINT, BIGINT, BIGINT, BIGINT, BIGINT, BIGINT, BIGINT, BIGINT, BIGINT, BIGINT, BIGINT, BIGINT, BIGINT, BIGINT, BIGINT, BIGINT, BIGINT, BIGINT, BIGINT, BIGINT, BIGINT, BIGINT, BIGINT, BIGINT, BIGINT, BIGINT, BIGINT, BIGINT, BIGINT, BIGINT, BIGINT, BIGINT, BIGINT, BIGINT, BIGINT, BIGINT, BIGINT, BIGINT, BIGINT, BIGINT, BIGINT, BIGINT, BIGINT, BIGINT, BIGINT, BIGINT, BIGINT, BIGINT, BIGINT, BIGINT, BIGINT, BIGINT, BIGINT, BIGINT, BIGINT, BIGINT, BIGINT, BIGINT, BIGINT, BIGINT, BIGINT, BIGINT, BIGINT, BIGINT, BIGINT, BIGINT, BIGINT, BIGINT, BIGINT, BIGINT, BIGINT, BIGINT, BIGINT, BIGINT, BIGINT, BIGINT, BIGINT, BIGINT, BIGINT, BIGINT, BIGINT, BIGINT, BIGINT, BIGINT, BIGINT, BIGINT, BIGINT, BIGINT, BIGINT, BIGINT, BIGINT, BIGINT, BIGINT, BIGINT, BIGINT, BIGINT, BIGINT, BIGINT, BIGINT, BIGINT, BIGINT, BIGINT, BIGINT, BIGINT, BIGINT, BIGINT, BIGINT, BIGINT, BIGINT, BIGINT, BIGINT, BIGINT, BIGINT, BIGINT, BIGINT, BIGINT, BIGINT, BIGINT, BIGINT, BIGINT, BIGINT, BIGINT, BIGINT, BIGINT, BIGINT, BIGINT, BIGINT, BIGINT, BIGINT, BIGINT, BIGINT, BIGINT, BIGINT, BIGINT, BIGINT, BIGINT, BIGINT, BIGINT, BIGINT, BIGINT, BIGINT, BIGINT, BIGINT, BIGINT, BIGINT, BIGINT, BIGINT, BIGINT, BIGINT, BIGINT, BIGINT, BIGINT, BIGINT, BIGINT, BIGINT, BIGINT, BIGINT, BIGINT, BIGINT, BIGINT, BIGINT, BIGINT, BIGINT, BIGINT, BIGINT, BIGINT, BIGINT, BIGINT, BIGINT, BIGINT, BIGINT, BIGINT, BIGINT, BIGINT, BIGINT, BIGINT, BIGINT, BIGINT, BIGINT, BIGINT, BIGINT, BIGINT, BIGINT, BIGINT, BIGINT, BIGINT, BIGINT, BIGINT, BIGINT, BIGINT, BIGINT, BIGINT, BIGINT, BIGINT, BIGINT, BIGINT, BIGINT, BIGINT, BIGINT, BIGINT, BIGINT, BIGINT, BIGINT, BIGINT, BIGINT, BIGINT, BIGINT, BIGINT, BIGINT, BIGINT, BIGINT, BIGINT, BIGINT, BIGINT, BIGINT, BIGINT, BIGINT, BIGINT, BIGINT, BIGINT, BIGINT, BIGINT, BIGINT, BIGINT, BIGINT, BIGINT, BIGINT, BIGINT, BIGINT, BIGINT, BIGINT, BIGINT, BIGINT, BIGINT, BIGINT, BIGINT, BIGINT, BIGINT, BIGINT, BIGINT, BIGINT, BIGINT, BIGINT, BIGINT, BIGINT, BIGINT, BIGINT, BIGINT, BIGINT, BIGINT, BIGINT, BIGINT, BIGINT, BIGINT, BIGINT, BIGINT, BIGINT, BIGINT, BIGINT, BIGINT, BIGINT, BIGINT, BIGINT, BIGINT, BIGINT, BIGINT, BIGINT, BIGINT, BIGINT, BIGINT, BIGINT, BIGINT, BIGINT, BIGINT, BIGINT, BIGINT, BIGINT, BIGINT, BIGINT, BIGINT, BIGINT, BIGINT, BIGINT, BIGINT, BIGINT, BIGINT, BIGINT, BIGINT, BIGINT, BIGINT, BIGINT, BIGINT, BIGINT, BIGINT, BIGINT, BIGINT, BIGINT, BIGINT, BIGINT, BIGINT, BIGINT, BIGINT, BIGINT, BIGINT, BIGINT, BIGINT, BIGINT, BIGINT, BIGINT, BIGINT, BIGINT, BIGINT, BIGINT, BIGINT, BIGINT, BIGINT, BIGINT, BIGINT, BIGINT, BIGINT, BIGINT, BIGINT, BIGINT, BIGINT, BIGINT, BIGINT, BIGINT, BIGINT, BIGINT, BIGINT, BIGINT, BIGINT, BIGINT, BIGINT, BIGINT, BIGINT, BIGINT, BIGINT, BIGINT, BIGINT, BIGINT, BIGINT, BIGINT, BIGINT, BIGINT, BIGINT, BIGINT, BIGINT, BIGINT, BIGINT, BIGINT, BIGINT, BIGINT, BIGINT, BIGINT, BIGINT, BIGINT, BIGINT, BIGINT, BIGINT, BIGINT, BIGINT, BIGINT, BIGINT, BIGINT, BIGINT, BIGINT, BIGINT, BIGINT] │ false     │\n",
       "│ duckdb_trains          │ main    │ distances_long │ [Station, other_station, distance]                                                                                                                                                                                                                                                                                                                                                                                                                                                                                                                                                                                                                                                                                                                                                                                                                                                                                                                                                                                                                                                                                                                                                                                                                                                                                                                                                                                                                                                                                                                                                                                                                                                                                                                                                                                                                                                                                                                                                                                                           │ [VARCHAR, VARCHAR, BIGINT]                                                                                                                                                                                                                                                                                                                                                                                                                                                                                                                                                                                                                                                                                                                                                                                                                                                                                                                                                                                                                                                                                                                                                                                                                                                                                                                                                                                                                                                                                                                                                                                                                                                                                                                                                                                                                                                                                                                                                                                                                                                                                                                                                                                                                                                                                                                                                                                                                                                                                                                                                                                                                                                                                                                                                                                                                                                                                                                                                                                                                                                                                                                                                                                                                                                                                                        │ false     │\n",
       "│ duckdb_trains          │ main    │ services       │ ['Service:RDT-ID', 'Service:Date', 'Service:Type', 'Service:Company', 'Service:Train number', 'Service:Completely cancelled', 'Service:Partly cancelled', 'Service:Maximum delay', 'Stop:RDT-ID', 'Stop:Station code', 'Stop:Station name', 'Stop:Arrival time', 'Stop:Arrival delay', 'Stop:Arrival cancelled', 'Stop:Departure time', 'Stop:Departure delay', 'Stop:Departure cancelled', 'Stop:Platform change', 'Stop:Planned platform', 'Stop:Actual platform']                                                                                                                                                                                                                                                                                                                                                                                                                                                                                                                                                                                                                                                                                                                                                                                                                                                                                                                                                                                                                                                                                                                                                                                                                                                                                                                                                                                                                                                                                                                                                                         │ [BIGINT, DATE, VARCHAR, VARCHAR, BIGINT, BOOLEAN, BOOLEAN, BIGINT, BIGINT, VARCHAR, VARCHAR, TIMESTAMP WITH TIME ZONE, BIGINT, BOOLEAN, TIMESTAMP WITH TIME ZONE, BIGINT, BOOLEAN, BOOLEAN, VARCHAR, VARCHAR]                                                                                                                                                                                                                                                                                                                                                                                                                                                                                                                                                                                                                                                                                                                                                                                                                                                                                                                                                                                                                                                                                                                                                                                                                                                                                                                                                                                                                                                                                                                                                                                                                                                                                                                                                                                                                                                                                                                                                                                                                                                                                                                                                                                                                                                                                                                                                                                                                                                                                                                                                                                                                                                                                                                                                                                                                                                                                                                                                                                                                                                                                                                     │ false     │\n",
       "│ duckdb_trains          │ main    │ stations       │ [id, code, uic, name_short, name_medium, name_long, slug, country, type, geo_lat, geo_lng]                                                                                                                                                                                                                                                                                                                                                                                                                                                                                                                                                                                                                                                                                                                                                                                                                                                                                                                                                                                                                                                                                                                                                                                                                                                                                                                                                                                                                                                                                                                                                                                                                                                                                                                                                                                                                                                                                                                                                   │ [BIGINT, VARCHAR, BIGINT, VARCHAR, VARCHAR, VARCHAR, VARCHAR, VARCHAR, VARCHAR, DOUBLE, DOUBLE]                                                                                                                                                                                                                                                                                                                                                                                                                                                                                                                                                                                                                                                                                                                                                                                                                                                                                                                                                                                                                                                                                                                                                                                                                                                                                                                                                                                                                                                                                                                                                                                                                                                                                                                                                                                                                                                                                                                                                                                                                                                                                                                                                                                                                                                                                                                                                                                                                                                                                                                                                                                                                                                                                                                                                                                                                                                                                                                                                                                                                                                                                                                                                                                                                                   │ false     │\n",
       "│ postgres_db_read_write │ public  │ disruptions    │ [rdt_id, ns_lines, rdt_lines, rdt_lines_id, rdt_station_names, rdt_station_codes, cause_nl, cause_en, statistical_cause_nl, statistical_cause_en, cause_group, start_time, end_time, duration_minutes]                                                                                                                                                                                                                                                                                                                                                                                                                                                                                                                                                                                                                                                                                                                                                                                                                                                                                                                                                                                                                                                                                                                                                                                                                                                                                                                                                                                                                                                                                                                                                                                                                                                                                                                                                                                                                                       │ [INTEGER, VARCHAR, VARCHAR, VARCHAR, VARCHAR, VARCHAR, VARCHAR, VARCHAR, VARCHAR, VARCHAR, VARCHAR, TIMESTAMP, TIMESTAMP, INTEGER]                                                                                                                                                                                                                                                                                                                                                                                                                                                                                                                                                                                                                                                                                                                                                                                                                                                                                                                                                                                                                                                                                                                                                                                                                                                                                                                                                                                                                                                                                                                                                                                                                                                                                                                                                                                                                                                                                                                                                                                                                                                                                                                                                                                                                                                                                                                                                                                                                                                                                                                                                                                                                                                                                                                                                                                                                                                                                                                                                                                                                                                                                                                                                                                                │ false     │\n",
       "└────────────────────────┴─────────┴────────────────┴──────────────────────────────────────────────────────────────────────────────────────────────────────────────────────────────────────────────────────────────────────────────────────────────────────────────────────────────────────────────────────────────────────────────────────────────────────────────────────────────────────────────────────────────────────────────────────────────────────────────────────────────────────────────────────────────────────────────────────────────────────────────────────────────────────────────────────────────────────────────────────────────────────────────────────────────────────────────────────────────────────────────────────────────────────────────────────────────────────────────────────────────────────────────────────────────────────────────────────────────────────────────────────────────────────────────────────────────────────────────────────────────────────────────────────────────────────────────────────────────────────────────────────────────────────────────────────────────────────────────────────────────────────────────────────────────────────────────────────────────────────────────────────────────────────────────────────────────────────────────────────────────────────────────────────────────────────────────────────────────────────────────────────────────────────────────────────────────────────────────────────────────────────────────────────────────────────────────────────────────────────────────────────────────────────────────────────────────────────────────────────────────────────────────────────────────────────────────────────────────────────────────────────────────────────────────────────────────────────────────────────────────────────────────────────────────────────────────────────────────────────────────────────────────────────────────────────────────────────────────────────────────────────────────────────────────────────────────────────────────────────────────────────────────────────────────┴───────────────────────────────────────────────────────────────────────────────────────────────────────────────────────────────────────────────────────────────────────────────────────────────────────────────────────────────────────────────────────────────────────────────────────────────────────────────────────────────────────────────────────────────────────────────────────────────────────────────────────────────────────────────────────────────────────────────────────────────────────────────────────────────────────────────────────────────────────────────────────────────────────────────────────────────────────────────────────────────────────────────────────────────────────────────────────────────────────────────────────────────────────────────────────────────────────────────────────────────────────────────────────────────────────────────────────────────────────────────────────────────────────────────────────────────────────────────────────────────────────────────────────────────────────────────────────────────────────────────────────────────────────────────────────────────────────────────────────────────────────────────────────────────────────────────────────────────────────────────────────────────────────────────────────────────────────────────────────────────────────────────────────────────────────────────────────────────────────────────────────────────────────────────────────────────────────────────────────────────────────────────────────────────────────────────────────────────────────────────────────────────────────────────────────────────────────────────────────────────────────────────────────────────────────────────────────────────────────────────────────────────────────────────────────────────────────────────────────────────────────────────────────────────────────────────────────────────────────────────────────────────────────────────────────────────────────────────────────────────────────────────────────────────────────────────────────────────────────────────────────────────────────────────────────────────────────────────────────────────────────────────────────────────────────────────────────────────────────────────────────────────────────────────────────────────────────────────────────────────────────────────────────────────────────────────────────────────────────────────────────────────────────────────────────────────────────────────────────────────────────────────────────────────────────────────────────────────────────────────────────────────────────────────────────────────────────────────────────────────────────────────────────────────────────────────────────────────────────────────────────────────────────────────────────────────────────────────────────────────────────────────────────────────────────────────────────────────────────────────────────────────────────────────────────────────────────────────────────────────────────────────────────────────────────────────────────────────────────────────────────────────────────────────────────────────────────────────────────────────────────────────────────────────────────────────────────────────────────────────────────────────────────────────────────────────────────────────────────────────────┴───────────┘"
      ]
     },
     "execution_count": 10,
     "metadata": {},
     "output_type": "execute_result"
    }
   ],
   "source": [
    "db_duck.sql(\"\"\"\n",
    "SHOW ALL TABLES\n",
    "\"\"\")"
   ]
  },
  {
   "cell_type": "markdown",
   "id": "eac18629",
   "metadata": {},
   "source": [
    "### 7. Make queries to answer the following questions:"
   ]
  },
  {
   "cell_type": "code",
   "execution_count": 12,
   "id": "cdebf320",
   "metadata": {
    "vscode": {
     "languageId": "shellscript"
    }
   },
   "outputs": [
    {
     "data": {
      "text/plain": [
       "┌───────────────────────────────────────────────┐\n",
       "│ Total Trains Departed from Amsterdam Centraal │\n",
       "│                     int64                     │\n",
       "├───────────────────────────────────────────────┤\n",
       "│                                       1667971 │\n",
       "└───────────────────────────────────────────────┘"
      ]
     },
     "execution_count": 12,
     "metadata": {},
     "output_type": "execute_result"
    }
   ],
   "source": [
    "# How many trains departed from Amsterdam Central station overall?\n",
    "db_duck.sql(\"\"\"\n",
    "FROM services\n",
    "SELECT COUNT(*) AS \"Total Trains Departed from Amsterdam Centraal\"\n",
    "WHERE \"Stop:Station name\" = 'Amsterdam Centraal' AND \"Stop:Departure time\" IS NOT NULL\n",
    "\"\"\")"
   ]
  },
  {
   "cell_type": "code",
   "execution_count": 13,
   "id": "5e24d6a5",
   "metadata": {
    "vscode": {
     "languageId": "shellscript"
    }
   },
   "outputs": [
    {
     "data": {
      "text/plain": [
       "┌──────────────────────┬───────────────────────┐\n",
       "│     Service Type     │ Average Arrival Delay │\n",
       "│       varchar        │        double         │\n",
       "├──────────────────────┼───────────────────────┤\n",
       "│ Alpen Express        │     31.84254143646409 │\n",
       "│ Krokus Express       │    18.304347826086957 │\n",
       "│ European Sleeper     │    12.175902506323293 │\n",
       "│ Nightjet             │     9.012493009863528 │\n",
       "│ Eurostar             │      6.91274113952445 │\n",
       "│ Thalys               │    5.3961896909446025 │\n",
       "│ ICE International    │     5.308921044515267 │\n",
       "│ Int. Trein           │     4.947807104584243 │\n",
       "│ Nachttrein           │      4.27683615819209 │\n",
       "│ Stoomtrein           │     3.366863905325444 │\n",
       "│     ·                │                    ·  │\n",
       "│     ·                │                    ·  │\n",
       "│     ·                │                    ·  │\n",
       "│ Metro ipv trein      │                   0.0 │\n",
       "│ Taxibus ipv trein    │                   0.0 │\n",
       "│ Niet instappen       │                   0.0 │\n",
       "│ stoptrein            │                   0.0 │\n",
       "│ Metro i.p.v. trein   │                   0.0 │\n",
       "│ Snelbus i.p.v. trein │                   0.0 │\n",
       "│ Bus                  │                   0.0 │\n",
       "│ Metro                │                   0.0 │\n",
       "│ Tram i.p.v. trein    │                   0.0 │\n",
       "│ Belbus               │                   0.0 │\n",
       "├──────────────────────┴───────────────────────┤\n",
       "│ 37 rows (20 shown)                 2 columns │\n",
       "└──────────────────────────────────────────────┘"
      ]
     },
     "execution_count": 13,
     "metadata": {},
     "output_type": "execute_result"
    }
   ],
   "source": [
    "# Calculate the average arrival delay of different service types (Service:Type). Order results descending by average delay\n",
    "\n",
    "db_duck.sql(\"\"\"\n",
    "FROM services\n",
    "SELECT \"Service:Type\" AS \"Service Type\", AVG(\"Stop:Arrival delay\") AS \"Average Arrival Delay\"\n",
    "GROUP BY \"Service:Type\"\n",
    "ORDER BY \"Average Arrival Delay\" DESC\n",
    "\"\"\")"
   ]
  },
  {
   "cell_type": "code",
   "execution_count": 14,
   "id": "b47c7830",
   "metadata": {
    "vscode": {
     "languageId": "shellscript"
    }
   },
   "outputs": [
    {
     "data": {
      "text/plain": [
       "┌───────┬──────────────────────────────┬───────────────────┐\n",
       "│ year  │ Most Common Disruption Cause │ Total Disruptions │\n",
       "│ int64 │           varchar            │       int64       │\n",
       "├───────┼──────────────────────────────┼───────────────────┤\n",
       "│  2011 │ broken down train            │              1846 │\n",
       "│  2012 │ points failure               │              2074 │\n",
       "│  2013 │ points failure               │              2312 │\n",
       "│  2014 │ broken down train            │              2484 │\n",
       "│  2015 │ broken down train            │              2947 │\n",
       "│  2016 │ broken down train            │              3031 │\n",
       "│  2017 │ broken down train            │              4085 │\n",
       "│  2018 │ broken down train            │              5190 │\n",
       "│  2019 │ broken down train            │              5940 │\n",
       "│  2020 │ broken down train            │              4450 │\n",
       "│  2021 │ broken down train            │              4874 │\n",
       "│  2022 │ broken down train            │              5499 │\n",
       "│  2023 │ broken down train            │              5168 │\n",
       "├───────┴──────────────────────────────┴───────────────────┤\n",
       "│ 13 rows                                        3 columns │\n",
       "└──────────────────────────────────────────────────────────┘"
      ]
     },
     "execution_count": 14,
     "metadata": {},
     "output_type": "execute_result"
    }
   ],
   "source": [
    "#What was the most common disruption cause in different years? MODE function may be useful.\n",
    "\n",
    "\n",
    "db_duck.sql(\"\"\"\n",
    "FROM postgres_db_read_write.disruptions\n",
    "SELECT DISTINCT EXTRACT(year FROM \"start_time\") AS year, \n",
    "       mode(\"statistical_cause_en\") AS \"Most Common Disruption Cause\",\n",
    "       Count(*) AS \"Total Disruptions\"\n",
    "GROUP by year\n",
    "ORDER BY year ASC\n",
    "limit 50\n",
    "\"\"\")\n"
   ]
  },
  {
   "cell_type": "code",
   "execution_count": 15,
   "id": "50452b67",
   "metadata": {
    "vscode": {
     "languageId": "shellscript"
    }
   },
   "outputs": [
    {
     "data": {
      "text/plain": [
       "┌───────┬──────────────────────────────┬───────────────────┐\n",
       "│ year  │ Most Common Disruption Cause │ Total Disruptions │\n",
       "│ int64 │           varchar            │       int64       │\n",
       "├───────┼──────────────────────────────┼───────────────────┤\n",
       "│  2011 │ broken down train            │              1846 │\n",
       "│  2012 │ points failure               │              2074 │\n",
       "│  2013 │ points failure               │              2312 │\n",
       "│  2014 │ broken down train            │              2484 │\n",
       "│  2015 │ broken down train            │              2947 │\n",
       "│  2016 │ broken down train            │              3031 │\n",
       "│  2017 │ broken down train            │              4085 │\n",
       "│  2018 │ broken down train            │              5190 │\n",
       "│  2019 │ broken down train            │              5940 │\n",
       "│  2020 │ broken down train            │              4450 │\n",
       "│  2021 │ broken down train            │              4874 │\n",
       "│  2022 │ broken down train            │              5499 │\n",
       "│  2023 │ broken down train            │              5168 │\n",
       "├───────┴──────────────────────────────┴───────────────────┤\n",
       "│ 13 rows                                        3 columns │\n",
       "└──────────────────────────────────────────────────────────┘"
      ]
     },
     "execution_count": 15,
     "metadata": {},
     "output_type": "execute_result"
    }
   ],
   "source": [
    "#What was the most common disruption cause in different years? MODE function may be useful.\n",
    "\n",
    "\n",
    "db_duck.sql(\"\"\"\n",
    "FROM postgres_db_read_write.disruptions\n",
    "SELECT EXTRACT(year FROM \"start_time\") AS year, \n",
    "       mode(\"statistical_cause_en\") AS \"Most Common Disruption Cause\",\n",
    "       Count(*) AS \"Total Disruptions\"\n",
    "GROUP by year\n",
    "ORDER BY year ASC\n",
    "limit 50\n",
    "\"\"\")\n"
   ]
  },
  {
   "cell_type": "code",
   "execution_count": 16,
   "id": "de7d31be",
   "metadata": {
    "vscode": {
     "languageId": "shellscript"
    }
   },
   "outputs": [
    {
     "data": {
      "text/plain": [
       "┌──────────────────────────────────────────────────┐\n",
       "│ Total Trains Started in any station in Amsterdam │\n",
       "│                      int64                       │\n",
       "├──────────────────────────────────────────────────┤\n",
       "│                                          1093529 │\n",
       "└──────────────────────────────────────────────────┘"
      ]
     },
     "execution_count": 16,
     "metadata": {},
     "output_type": "execute_result"
    }
   ],
   "source": [
    "# How many trains started their overall service in any Amsterdam station?\n",
    "db_duck.sql(\"\"\"\n",
    "FROM services\n",
    "SELECT COUNT(*) AS \"Total Trains Started in any station in Amsterdam\"\n",
    "WHERE \"Stop:Station name\" ILIKE '%amsterdam%' AND \"Stop:Arrival time\" IS NULL\n",
    "\"\"\")"
   ]
  },
  {
   "cell_type": "code",
   "execution_count": 22,
   "id": "fb310082",
   "metadata": {
    "vscode": {
     "languageId": "shellscript"
    }
   },
   "outputs": [
    {
     "data": {
      "text/plain": [
       "┌─────────────────────┐\n",
       "│  fraction_foreign   │\n",
       "│       double        │\n",
       "├─────────────────────┤\n",
       "│ 0.03722288282879609 │\n",
       "└─────────────────────┘"
      ]
     },
     "execution_count": 22,
     "metadata": {},
     "output_type": "execute_result"
    }
   ],
   "source": [
    "# What fraction of services was run to final destinations outside the Netherlands?\n",
    "db_duck.sql(\"\"\"\n",
    "WITH service_counts AS (\n",
    "    SELECT\n",
    "        COUNT(DISTINCT s.\"Service:RDT-ID\") AS total_services,\n",
    "        SUM(CASE WHEN st.country != 'NL' \n",
    "             AND s.\"Stop:Departure time\" IS NULL \n",
    "             THEN 1 ELSE 0 END) AS foreign_services\n",
    "    FROM\n",
    "        services s\n",
    "    LEFT JOIN stations st ON s.\"Stop:Station code\" = st.code\n",
    "    WHERE\n",
    "        s.\"Stop:Departure time\" IS NULL  -- Final destination (no departure time)\n",
    ")\n",
    "SELECT\n",
    "    foreign_services  / total_services AS fraction_foreign\n",
    "FROM\n",
    "    service_counts;\n",
    "\"\"\")"
   ]
  },
  {
   "cell_type": "code",
   "execution_count": 32,
   "id": "242ad748",
   "metadata": {
    "vscode": {
     "languageId": "shellscript"
    }
   },
   "outputs": [
    {
     "data": {
      "text/plain": [
       "┌──────────────────┐\n",
       "│ Largest Distance │\n",
       "│      int64       │\n",
       "├──────────────────┤\n",
       "│              426 │\n",
       "└──────────────────┘"
      ]
     },
     "execution_count": 32,
     "metadata": {},
     "output_type": "execute_result"
    }
   ],
   "source": [
    "# What is the largest distance between stations in the Netherlands (code NL)?\n",
    "db_duck.sql(\"\"\"\n",
    "Select max(dist.distance) as \"Largest Distance\"\n",
    "from distances_long dist\n",
    "left join stations s1 on dist.Station = s1.code\n",
    "left join stations s2 on dist.other_station = s2.code\n",
    "where s1.country = 'NL' and s2.country = 'NL'\n",
    "\n",
    "\"\"\")"
   ]
  },
  {
   "cell_type": "code",
   "execution_count": 25,
   "id": "ea208971",
   "metadata": {
    "vscode": {
     "languageId": "shellscript"
    }
   },
   "outputs": [],
   "source": [
    "# Compare the average arrival delay between different train operators (Service:Company) on a bar plot. Sort them appropriately.\n",
    "delay_df = db_duck.sql(\"\"\"\n",
    "from services\n",
    "select \"Service:Company\", AVG(\"Stop:Arrival delay\") as \"Average Arrival Delay\"\n",
    "WHERE \"Service:Company\" IS NOT NULL AND \"Service:Company\" != '.'\n",
    "group by \"Service:Company\"\n",
    "order by \"Average Arrival Delay\" DESC\n",
    "\"\"\").df()"
   ]
  },
  {
   "cell_type": "code",
   "execution_count": 26,
   "id": "ba8ad01e",
   "metadata": {
    "vscode": {
     "languageId": "shellscript"
    }
   },
   "outputs": [
    {
     "data": {
      "image/png": "[encoded data removed]",
      "text/plain": [
       "<Figure size 640x480 with 1 Axes>"
      ]
     },
     "metadata": {},
     "output_type": "display_data"
    }
   ],
   "source": [
    "import matplotlib.pyplot as plt\n",
    "\n",
    "delay_df.head(10).plot.bar(x=\"Service:Company\", y=\"Average Arrival Delay\", legend=False, title=\"Average Arrival Delay by Train Operator\", xlabel=\"Train Operator\", ylabel=\"Average Arrival Delay (minutes)\", grid=True)\n",
    "# Rotate x-axis labels for better readability\n",
    "plt.xticks(rotation=45)\n",
    "\n",
    "# Adjust layout to prevent label cutoff\n",
    "plt.tight_layout()\n",
    "\n",
    "plt.show()"
   ]
  },
  {
   "cell_type": "code",
   "execution_count": 27,
   "id": "061621ff",
   "metadata": {
    "vscode": {
     "languageId": "shellscript"
    }
   },
   "outputs": [],
   "source": [
    "# How many services were disrupted in different years? Make a line plot.\n",
    "disrupted_df = db_duck.sql(\"\"\"\n",
    "from postgres_db_read_write.disruptions\n",
    "select EXTRACT(YEAR FROM \"start_time\") as \"Year\", COUNT(*) as \"Disrupted Services\"\n",
    "group by \"Year\"\n",
    "order by \"Year\" ASC\n",
    "\"\"\").df()"
   ]
  },
  {
   "cell_type": "code",
   "execution_count": 28,
   "id": "9c211eb1",
   "metadata": {
    "vscode": {
     "languageId": "shellscript"
    }
   },
   "outputs": [
    {
     "data": {
      "image/png": "[encoded data removed]",
      "text/plain": [
       "<Figure size 640x480 with 1 Axes>"
      ]
     },
     "metadata": {},
     "output_type": "display_data"
    }
   ],
   "source": [
    "disrupted_df.plot.line(x=\"Year\", y=\"Disrupted Services\", title=\"Disrupted Services by Year\", xlabel=\"Year\", ylabel=\"Number of Disrupted Services\", grid=True, marker='o', color='m')\n",
    "plt.tight_layout()\n",
    "plt.show()"
   ]
  },
  {
   "cell_type": "code",
   "execution_count": 32,
   "id": "4df6535a",
   "metadata": {
    "vscode": {
     "languageId": "shellscript"
    }
   },
   "outputs": [
    {
     "data": {
      "text/html": [
       "<div>\n",
       "<style scoped>\n",
       "    .dataframe tbody tr th:only-of-type {\n",
       "        vertical-align: middle;\n",
       "    }\n",
       "\n",
       "    .dataframe tbody tr th {\n",
       "        vertical-align: top;\n",
       "    }\n",
       "\n",
       "    .dataframe thead th {\n",
       "        text-align: right;\n",
       "    }\n",
       "</style>\n",
       "<table border=\"1\" class=\"dataframe\">\n",
       "  <thead>\n",
       "    <tr style=\"text-align: right;\">\n",
       "      <th></th>\n",
       "      <th>Year</th>\n",
       "      <th>Fraction Cancelled</th>\n",
       "    </tr>\n",
       "  </thead>\n",
       "  <tbody>\n",
       "    <tr>\n",
       "      <th>0</th>\n",
       "      <td>2019</td>\n",
       "      <td>1.098172</td>\n",
       "    </tr>\n",
       "    <tr>\n",
       "      <th>1</th>\n",
       "      <td>2020</td>\n",
       "      <td>5.835444</td>\n",
       "    </tr>\n",
       "    <tr>\n",
       "      <th>2</th>\n",
       "      <td>2021</td>\n",
       "      <td>2.461618</td>\n",
       "    </tr>\n",
       "    <tr>\n",
       "      <th>3</th>\n",
       "      <td>2022</td>\n",
       "      <td>4.285442</td>\n",
       "    </tr>\n",
       "    <tr>\n",
       "      <th>4</th>\n",
       "      <td>2023</td>\n",
       "      <td>3.544536</td>\n",
       "    </tr>\n",
       "    <tr>\n",
       "      <th>5</th>\n",
       "      <td>2024</td>\n",
       "      <td>1.656599</td>\n",
       "    </tr>\n",
       "  </tbody>\n",
       "</table>\n",
       "</div>"
      ],
      "text/plain": [
       "   Year  Fraction Cancelled\n",
       "0  2019            1.098172\n",
       "1  2020            5.835444\n",
       "2  2021            2.461618\n",
       "3  2022            4.285442\n",
       "4  2023            3.544536\n",
       "5  2024            1.656599"
      ]
     },
     "execution_count": 32,
     "metadata": {},
     "output_type": "execute_result"
    }
   ],
   "source": [
    "# What fraction of all services were cancelled (Service:Completely cancelled) in different years? Make a line plot.\n",
    "cancelled_df = db_duck.sql(\"\"\"\n",
    "from services\n",
    "select EXTRACT(YEAR FROM \"Service:Date\") as \"Year\",\n",
    "         SUM(CASE WHEN \"Service:Completely cancelled\" = TRUE THEN 1 ELSE 0 END) * 100 / COUNT(*) AS \"Fraction Cancelled\"\n",
    "group by \"Year\"\n",
    "order by \"Year\" ASC\n",
    "\"\"\").df()\n",
    "cancelled_df\n"
   ]
  },
  {
   "cell_type": "code",
   "execution_count": 66,
   "id": "746d12cc",
   "metadata": {
    "vscode": {
     "languageId": "shellscript"
    }
   },
   "outputs": [
    {
     "data": {
      "image/png": "[encoded data removed]",
      "text/plain": [
       "<Figure size 640x480 with 1 Axes>"
      ]
     },
     "metadata": {},
     "output_type": "display_data"
    }
   ],
   "source": [
    "from matplotlib.ticker import FuncFormatter\n",
    "\n",
    "# Create the plot\n",
    "ax = cancelled_df.plot.line(x=\"Year\", y=\"Fraction Cancelled\", title=\"Fraction of Cancelled Services by Year\", xlabel=\"Year\", ylabel=\"Service Cancelled Percentage\", grid=True, marker='o', color='m', legend=False)\n",
    "\n",
    "# Nice way of add custmom sign (% in my case) to y axis\n",
    "ax.yaxis.set_major_formatter(FuncFormatter(lambda y, _: '{:.1f}%'.format(y)))\n",
    "\n",
    "plt.tight_layout()\n",
    "plt.show()"
   ]
  },
  {
   "cell_type": "markdown",
   "id": "ea906b97",
   "metadata": {},
   "source": [
    "### 8. Currently, services table does not provide information about service lengths, neither between pairs of stations nor for the end-to-end service. Prepare this information:"
   ]
  },
  {
   "cell_type": "code",
   "execution_count": 56,
   "id": "c186b406",
   "metadata": {
    "vscode": {
     "languageId": "shellscript"
    }
   },
   "outputs": [],
   "source": [
    "# Note that each service has the same Service:RDT-ID, and stations can be ordered by Stop:Departure time, with the last one being NULL. \n",
    "# Using window functions, specifically LAG() or LEAD(), you can get next row. This example may also be useful.\n"
   ]
  },
  {
   "cell_type": "code",
   "execution_count": 4,
   "id": "4aefadc0",
   "metadata": {
    "vscode": {
     "languageId": "shellscript"
    }
   },
   "outputs": [
    {
     "data": {
      "application/vnd.jupyter.widget-view+json": {
       "model_id": "bab6811d75204a99bb702fc769db321a",
       "version_major": 2,
       "version_minor": 0
      },
      "text/plain": [
       "FloatProgress(value=0.0, layout=Layout(width='auto'), style=ProgressStyle(bar_color='black'))"
      ]
     },
     "metadata": {},
     "output_type": "display_data"
    }
   ],
   "source": [
    "#Create table station_connections, with columns Service:RDT-ID, start_station_code and end_station_code (pair of stations on a route)\n",
    "#, and distance between them. Note that you should deduplicate the data on station codes, \n",
    "#so that every station pair appears only once. Create temporary tables, use a subquery, or any other similar techniques if necessary.\n",
    "\n",
    "db_duck.sql(\"\"\"\n",
    "CREATE OR REPLACE TABLE station_connections AS\n",
    "WITH consecutive_stations AS (\n",
    "    SELECT \n",
    "        \"Service:RDT-ID\",\n",
    "        \"Stop:Station code\" AS start_station,\n",
    "        LEAD(\"Stop:Station code\") OVER (\n",
    "            PARTITION BY \"Service:RDT-ID\" \n",
    "            ORDER BY \"Stop:Departure time\" NULLS LAST\n",
    "        ) AS end_station\n",
    "    FROM services\n",
    "    WHERE \"Stop:Station code\" IS NOT NULL\n",
    "),\n",
    "pairs_with_distances AS (\n",
    "    SELECT \n",
    "        cs.start_station,\n",
    "        cs.end_station,\n",
    "        dl.distance\n",
    "    FROM consecutive_stations cs\n",
    "    JOIN distances_long dl ON (\n",
    "        dl.station = cs.start_station AND dl.other_station = cs.end_station\n",
    "    )\n",
    "    WHERE cs.end_station IS NOT NULL\n",
    ")\n",
    "SELECT DISTINCT\n",
    "    CASE WHEN start_station < end_station \n",
    "         THEN start_station \n",
    "         ELSE end_station END AS start_station_code,\n",
    "    CASE WHEN start_station < end_station \n",
    "         THEN end_station \n",
    "         ELSE start_station END AS end_station_code,\n",
    "    distance\n",
    "FROM pairs_with_distances;\n",
    "\"\"\")"
   ]
  },
  {
   "cell_type": "code",
   "execution_count": 5,
   "id": "1eef91d5",
   "metadata": {
    "vscode": {
     "languageId": "shellscript"
    }
   },
   "outputs": [
    {
     "data": {
      "text/plain": [
       "┌────────────────────┬──────────────────┬──────────┐\n",
       "│ start_station_code │ end_station_code │ distance │\n",
       "│      varchar       │     varchar      │  int64   │\n",
       "├────────────────────┼──────────────────┼──────────┤\n",
       "│ HR                 │ LW               │       29 │\n",
       "│ HT                 │ TB               │       22 │\n",
       "│ WH                 │ ZL               │       14 │\n",
       "│ CPS                │ NWK              │        4 │\n",
       "│ DB                 │ UT               │       12 │\n",
       "│ DDZD               │ ZLW              │       14 │\n",
       "│ BD                 │ BDPB             │        5 │\n",
       "│ TBR                │ TBU              │        4 │\n",
       "│ ASA                │ UT               │       33 │\n",
       "│ KLP                │ UT               │       34 │\n",
       "├────────────────────┴──────────────────┴──────────┤\n",
       "│ 10 rows                                3 columns │\n",
       "└──────────────────────────────────────────────────┘"
      ]
     },
     "execution_count": 5,
     "metadata": {},
     "output_type": "execute_result"
    }
   ],
   "source": [
    "db_duck.sql(\"\"\"\n",
    "select * from station_connections\n",
    "limit 10\n",
    "\"\"\")"
   ]
  },
  {
   "cell_type": "code",
   "execution_count": 6,
   "id": "fc89fc45",
   "metadata": {
    "vscode": {
     "languageId": "shellscript"
    }
   },
   "outputs": [
    {
     "data": {
      "text/plain": [
       "┌────────────────────┬──────────────────┬──────────┐\n",
       "│ start_station_code │ end_station_code │ distance │\n",
       "│      varchar       │     varchar      │  int64   │\n",
       "├────────────────────┼──────────────────┼──────────┤\n",
       "│ STV                │ VS               │      421 │\n",
       "└────────────────────┴──────────────────┴──────────┘"
      ]
     },
     "execution_count": 6,
     "metadata": {},
     "output_type": "execute_result"
    }
   ],
   "source": [
    "# What is the largest distance between a pair of stations?\n",
    "db_duck.sql(\"\"\"\n",
    "SELECT start_station_code, end_station_code, distance\n",
    "FROM station_connections \n",
    "ORDER BY distance DESC \n",
    "LIMIT 1\n",
    "\"\"\")"
   ]
  },
  {
   "cell_type": "code",
   "execution_count": 7,
   "id": "89d45198",
   "metadata": {
    "vscode": {
     "languageId": "shellscript"
    }
   },
   "outputs": [],
   "source": [
    "# Plot a histogram of inter-station distances run by trains.\n",
    "distance_df = db_duck.sql(\"\"\"\n",
    "FROM station_connections\n",
    "SELECT distance\n",
    "\"\"\").df()"
   ]
  },
  {
   "cell_type": "code",
   "execution_count": 8,
   "id": "7ead7056",
   "metadata": {
    "vscode": {
     "languageId": "shellscript"
    }
   },
   "outputs": [
    {
     "data": {
      "text/html": [
       "<div>\n",
       "<style scoped>\n",
       "    .dataframe tbody tr th:only-of-type {\n",
       "        vertical-align: middle;\n",
       "    }\n",
       "\n",
       "    .dataframe tbody tr th {\n",
       "        vertical-align: top;\n",
       "    }\n",
       "\n",
       "    .dataframe thead th {\n",
       "        text-align: right;\n",
       "    }\n",
       "</style>\n",
       "<table border=\"1\" class=\"dataframe\">\n",
       "  <thead>\n",
       "    <tr style=\"text-align: right;\">\n",
       "      <th></th>\n",
       "      <th>distance</th>\n",
       "    </tr>\n",
       "  </thead>\n",
       "  <tbody>\n",
       "    <tr>\n",
       "      <th>0</th>\n",
       "      <td>29</td>\n",
       "    </tr>\n",
       "    <tr>\n",
       "      <th>1</th>\n",
       "      <td>22</td>\n",
       "    </tr>\n",
       "    <tr>\n",
       "      <th>2</th>\n",
       "      <td>14</td>\n",
       "    </tr>\n",
       "    <tr>\n",
       "      <th>3</th>\n",
       "      <td>4</td>\n",
       "    </tr>\n",
       "    <tr>\n",
       "      <th>4</th>\n",
       "      <td>12</td>\n",
       "    </tr>\n",
       "    <tr>\n",
       "      <th>...</th>\n",
       "      <td>...</td>\n",
       "    </tr>\n",
       "    <tr>\n",
       "      <th>6140</th>\n",
       "      <td>56</td>\n",
       "    </tr>\n",
       "    <tr>\n",
       "      <th>6141</th>\n",
       "      <td>103</td>\n",
       "    </tr>\n",
       "    <tr>\n",
       "      <th>6142</th>\n",
       "      <td>23</td>\n",
       "    </tr>\n",
       "    <tr>\n",
       "      <th>6143</th>\n",
       "      <td>106</td>\n",
       "    </tr>\n",
       "    <tr>\n",
       "      <th>6144</th>\n",
       "      <td>136</td>\n",
       "    </tr>\n",
       "  </tbody>\n",
       "</table>\n",
       "<p>6145 rows × 1 columns</p>\n",
       "</div>"
      ],
      "text/plain": [
       "      distance\n",
       "0           29\n",
       "1           22\n",
       "2           14\n",
       "3            4\n",
       "4           12\n",
       "...        ...\n",
       "6140        56\n",
       "6141       103\n",
       "6142        23\n",
       "6143       106\n",
       "6144       136\n",
       "\n",
       "[6145 rows x 1 columns]"
      ]
     },
     "execution_count": 8,
     "metadata": {},
     "output_type": "execute_result"
    }
   ],
   "source": [
    "distance_df"
   ]
  },
  {
   "cell_type": "code",
   "execution_count": 11,
   "id": "6b34c40f",
   "metadata": {
    "vscode": {
     "languageId": "shellscript"
    }
   },
   "outputs": [
    {
     "data": {
      "image/png": "[encoded data removed]",
      "text/plain": [
       "<Figure size 640x480 with 1 Axes>"
      ]
     },
     "metadata": {},
     "output_type": "display_data"
    }
   ],
   "source": [
    "distance_df.plot.hist(bins=500, title=\"Histogram of Inter-Station Distances\", xlabel=\"Distance (km)\", ylabel=\"Frequency\", color='m', grid=True, legend=False)\n",
    "plt.tight_layout()\n",
    "plt.show()"
   ]
  },
  {
   "cell_type": "markdown",
   "id": "1d53eade",
   "metadata": {},
   "source": []
  },
  {
   "cell_type": "markdown",
   "id": "49e13675",
   "metadata": {},
   "source": []
  }
 ],
 "metadata": {
  "kernelspec": {
   "display_name": "Python 3 (ipykernel)",
   "language": "python",
   "name": "python3"
  },
  "language_info": {
   "codemirror_mode": {
    "name": "ipython",
    "version": 3
   },
   "file_extension": ".py",
   "mimetype": "text/x-python",
   "name": "python",
   "nbconvert_exporter": "python",
   "pygments_lexer": "ipython3",
   "version": "3.12.9"
  }
 },
 "nbformat": 4,
 "nbformat_minor": 5
}
