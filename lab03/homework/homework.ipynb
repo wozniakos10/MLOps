{
 "cells": [
  {
   "cell_type": "code",
   "execution_count": 50,
   "id": "60f4ee45",
   "metadata": {},
   "outputs": [],
   "source": [
    "import polars as pl\n",
    "import matplotlib.pyplot as plt"
   ]
  },
  {
   "cell_type": "markdown",
   "id": "96ef3d86",
   "metadata": {},
   "source": [
    "\n",
    "## Content List\n",
    "- [1. Data reading](#data-reading)\n",
    "- [2. Data cleaning and filtering](#data-cleaning)\n",
    "- [3. Data transformation](#data-transformation)\n",
    "- [4. Feature extraction](#4-freature-extraction)\n",
    "- [5. Data analysis](#5-data-analysis)"
   ]
  },
  {
   "cell_type": "markdown",
   "id": "c3217c2c",
   "metadata": {},
   "source": [
    "# 1. Data reading <a id=\"data-reading\"></a>"
   ]
  },
  {
   "cell_type": "code",
   "execution_count": 51,
   "id": "12ff9d71",
   "metadata": {},
   "outputs": [
    {
     "name": "stdout",
     "output_type": "stream",
     "text": [
      "UNION\n",
      "  PLAN 0:\n",
      "     WITH_COLUMNS:\n",
      "     [col(\"tpep_pickup_datetime\").dt.cast_time_unit(), col(\"tpep_dropoff_datetime\").dt.cast_time_unit()] \n",
      "      Parquet SCAN [./data/1.parquet]\n",
      "      PROJECT */19 COLUMNS\n",
      "  PLAN 1:\n",
      "     WITH_COLUMNS:\n",
      "     [col(\"tpep_pickup_datetime\").dt.cast_time_unit(), col(\"tpep_dropoff_datetime\").dt.cast_time_unit()] \n",
      "      Parquet SCAN [./data/2.parquet]\n",
      "      PROJECT */19 COLUMNS\n",
      "  PLAN 2:\n",
      "     WITH_COLUMNS:\n",
      "     [col(\"tpep_pickup_datetime\").dt.cast_time_unit(), col(\"tpep_dropoff_datetime\").dt.cast_time_unit()] \n",
      "      Parquet SCAN [./data/3.parquet]\n",
      "      PROJECT */19 COLUMNS\n",
      "  PLAN 3:\n",
      "     WITH_COLUMNS:\n",
      "     [col(\"tpep_pickup_datetime\").dt.cast_time_unit(), col(\"tpep_dropoff_datetime\").dt.cast_time_unit()] \n",
      "      Parquet SCAN [./data/4.parquet]\n",
      "      PROJECT */19 COLUMNS\n",
      "  PLAN 4:\n",
      "     WITH_COLUMNS:\n",
      "     [col(\"tpep_pickup_datetime\").dt.cast_time_unit(), col(\"tpep_dropoff_datetime\").dt.cast_time_unit()] \n",
      "      Parquet SCAN [./data/5.parquet]\n",
      "      PROJECT */19 COLUMNS\n",
      "  PLAN 5:\n",
      "     WITH_COLUMNS:\n",
      "     [col(\"tpep_pickup_datetime\").dt.cast_time_unit(), col(\"tpep_dropoff_datetime\").dt.cast_time_unit()] \n",
      "      Parquet SCAN [./data/6.parquet]\n",
      "      PROJECT */19 COLUMNS\n",
      "  PLAN 6:\n",
      "     WITH_COLUMNS:\n",
      "     [col(\"tpep_pickup_datetime\").dt.cast_time_unit(), col(\"tpep_dropoff_datetime\").dt.cast_time_unit()] \n",
      "      Parquet SCAN [./data/7.parquet]\n",
      "      PROJECT */19 COLUMNS\n",
      "  PLAN 7:\n",
      "     WITH_COLUMNS:\n",
      "     [col(\"tpep_pickup_datetime\").dt.cast_time_unit(), col(\"tpep_dropoff_datetime\").dt.cast_time_unit()] \n",
      "      Parquet SCAN [./data/8.parquet]\n",
      "      PROJECT */19 COLUMNS\n",
      "  PLAN 8:\n",
      "     WITH_COLUMNS:\n",
      "     [col(\"tpep_pickup_datetime\").dt.cast_time_unit(), col(\"tpep_dropoff_datetime\").dt.cast_time_unit()] \n",
      "      Parquet SCAN [./data/9.parquet]\n",
      "      PROJECT */19 COLUMNS\n",
      "  PLAN 9:\n",
      "     WITH_COLUMNS:\n",
      "     [col(\"tpep_pickup_datetime\").dt.cast_time_unit(), col(\"tpep_dropoff_datetime\").dt.cast_time_unit()] \n",
      "      Parquet SCAN [./data/10.parquet]\n",
      "      PROJECT */19 COLUMNS\n",
      "  PLAN 10:\n",
      "     WITH_COLUMNS:\n",
      "     [col(\"tpep_pickup_datetime\").dt.cast_time_unit(), col(\"tpep_dropoff_datetime\").dt.cast_time_unit()] \n",
      "      Parquet SCAN [./data/11.parquet]\n",
      "      PROJECT */19 COLUMNS\n",
      "  PLAN 11:\n",
      "     WITH_COLUMNS:\n",
      "     [col(\"tpep_pickup_datetime\").dt.cast_time_unit(), col(\"tpep_dropoff_datetime\").dt.cast_time_unit()] \n",
      "      Parquet SCAN [./data/12.parquet]\n",
      "      PROJECT */19 COLUMNS\n",
      "END UNION\n"
     ]
    }
   ],
   "source": [
    "DATA_DIR = \"./data\"\n",
    "dfs = []\n",
    "for month in range(1, 13):\n",
    "    df = pl.scan_parquet(f\"{DATA_DIR}/{month}.parquet\")\n",
    "    df = df.with_columns(\n",
    "        pl.col(\"tpep_pickup_datetime\").dt.cast_time_unit(\"ms\"),\n",
    "        pl.col(\"tpep_dropoff_datetime\").dt.cast_time_unit(\"ms\"),\n",
    "    )\n",
    "    dfs.append(df)\n",
    "\n",
    "df_2024 = pl.concat(dfs)\n",
    "print(df_2024.explain())"
   ]
  },
  {
   "cell_type": "code",
   "execution_count": 52,
   "id": "970193dd",
   "metadata": {},
   "outputs": [
    {
     "data": {
      "text/html": [
       "<div><style>\n",
       ".dataframe > thead > tr,\n",
       ".dataframe > tbody > tr {\n",
       "  text-align: right;\n",
       "  white-space: pre-wrap;\n",
       "}\n",
       "</style>\n",
       "<small>shape: (265, 4)</small><table border=\"1\" class=\"dataframe\"><thead><tr><th>LocationID</th><th>Borough</th><th>Zone</th><th>service_zone</th></tr><tr><td>i64</td><td>str</td><td>str</td><td>str</td></tr></thead><tbody><tr><td>1</td><td>&quot;EWR&quot;</td><td>&quot;Newark Airport&quot;</td><td>&quot;EWR&quot;</td></tr><tr><td>2</td><td>&quot;Queens&quot;</td><td>&quot;Jamaica Bay&quot;</td><td>&quot;Boro Zone&quot;</td></tr><tr><td>3</td><td>&quot;Bronx&quot;</td><td>&quot;Allerton/Pelham Gardens&quot;</td><td>&quot;Boro Zone&quot;</td></tr><tr><td>4</td><td>&quot;Manhattan&quot;</td><td>&quot;Alphabet City&quot;</td><td>&quot;Yellow Zone&quot;</td></tr><tr><td>5</td><td>&quot;Staten Island&quot;</td><td>&quot;Arden Heights&quot;</td><td>&quot;Boro Zone&quot;</td></tr><tr><td>&hellip;</td><td>&hellip;</td><td>&hellip;</td><td>&hellip;</td></tr><tr><td>261</td><td>&quot;Manhattan&quot;</td><td>&quot;World Trade Center&quot;</td><td>&quot;Yellow Zone&quot;</td></tr><tr><td>262</td><td>&quot;Manhattan&quot;</td><td>&quot;Yorkville East&quot;</td><td>&quot;Yellow Zone&quot;</td></tr><tr><td>263</td><td>&quot;Manhattan&quot;</td><td>&quot;Yorkville West&quot;</td><td>&quot;Yellow Zone&quot;</td></tr><tr><td>264</td><td>&quot;Unknown&quot;</td><td>&quot;N/A&quot;</td><td>&quot;N/A&quot;</td></tr><tr><td>265</td><td>&quot;N/A&quot;</td><td>&quot;Outside of NYC&quot;</td><td>&quot;N/A&quot;</td></tr></tbody></table></div>"
      ],
      "text/plain": [
       "shape: (265, 4)\n",
       "┌────────────┬───────────────┬─────────────────────────┬──────────────┐\n",
       "│ LocationID ┆ Borough       ┆ Zone                    ┆ service_zone │\n",
       "│ ---        ┆ ---           ┆ ---                     ┆ ---          │\n",
       "│ i64        ┆ str           ┆ str                     ┆ str          │\n",
       "╞════════════╪═══════════════╪═════════════════════════╪══════════════╡\n",
       "│ 1          ┆ EWR           ┆ Newark Airport          ┆ EWR          │\n",
       "│ 2          ┆ Queens        ┆ Jamaica Bay             ┆ Boro Zone    │\n",
       "│ 3          ┆ Bronx         ┆ Allerton/Pelham Gardens ┆ Boro Zone    │\n",
       "│ 4          ┆ Manhattan     ┆ Alphabet City           ┆ Yellow Zone  │\n",
       "│ 5          ┆ Staten Island ┆ Arden Heights           ┆ Boro Zone    │\n",
       "│ …          ┆ …             ┆ …                       ┆ …            │\n",
       "│ 261        ┆ Manhattan     ┆ World Trade Center      ┆ Yellow Zone  │\n",
       "│ 262        ┆ Manhattan     ┆ Yorkville East          ┆ Yellow Zone  │\n",
       "│ 263        ┆ Manhattan     ┆ Yorkville West          ┆ Yellow Zone  │\n",
       "│ 264        ┆ Unknown       ┆ N/A                     ┆ N/A          │\n",
       "│ 265        ┆ N/A           ┆ Outside of NYC          ┆ N/A          │\n",
       "└────────────┴───────────────┴─────────────────────────┴──────────────┘"
      ]
     },
     "execution_count": 52,
     "metadata": {},
     "output_type": "execute_result"
    }
   ],
   "source": [
    "df_taxi_zones = pl.read_csv(\"data/taxi_zone_lookup.csv\")\n",
    "df_taxi_zones"
   ]
  },
  {
   "cell_type": "code",
   "execution_count": 53,
   "id": "6b9dfb5d",
   "metadata": {},
   "outputs": [
    {
     "data": {
      "text/html": [
       "<div><style>\n",
       ".dataframe > thead > tr,\n",
       ".dataframe > tbody > tr {\n",
       "  text-align: right;\n",
       "  white-space: pre-wrap;\n",
       "}\n",
       "</style>\n",
       "<small>shape: (41_169_720, 19)</small><table border=\"1\" class=\"dataframe\"><thead><tr><th>VendorID</th><th>tpep_pickup_datetime</th><th>tpep_dropoff_datetime</th><th>passenger_count</th><th>trip_distance</th><th>RatecodeID</th><th>store_and_fwd_flag</th><th>PULocationID</th><th>DOLocationID</th><th>payment_type</th><th>fare_amount</th><th>extra</th><th>mta_tax</th><th>tip_amount</th><th>tolls_amount</th><th>improvement_surcharge</th><th>total_amount</th><th>congestion_surcharge</th><th>Airport_fee</th></tr><tr><td>i32</td><td>datetime[ms]</td><td>datetime[ms]</td><td>i64</td><td>f64</td><td>i64</td><td>str</td><td>i32</td><td>i32</td><td>i64</td><td>f64</td><td>f64</td><td>f64</td><td>f64</td><td>f64</td><td>f64</td><td>f64</td><td>f64</td><td>f64</td></tr></thead><tbody><tr><td>2</td><td>2024-01-01 00:57:55</td><td>2024-01-01 01:17:43</td><td>1</td><td>1.72</td><td>1</td><td>&quot;N&quot;</td><td>186</td><td>79</td><td>2</td><td>17.7</td><td>1.0</td><td>0.5</td><td>0.0</td><td>0.0</td><td>1.0</td><td>22.7</td><td>2.5</td><td>0.0</td></tr><tr><td>1</td><td>2024-01-01 00:03:00</td><td>2024-01-01 00:09:36</td><td>1</td><td>1.8</td><td>1</td><td>&quot;N&quot;</td><td>140</td><td>236</td><td>1</td><td>10.0</td><td>3.5</td><td>0.5</td><td>3.75</td><td>0.0</td><td>1.0</td><td>18.75</td><td>2.5</td><td>0.0</td></tr><tr><td>1</td><td>2024-01-01 00:17:06</td><td>2024-01-01 00:35:01</td><td>1</td><td>4.7</td><td>1</td><td>&quot;N&quot;</td><td>236</td><td>79</td><td>1</td><td>23.3</td><td>3.5</td><td>0.5</td><td>3.0</td><td>0.0</td><td>1.0</td><td>31.3</td><td>2.5</td><td>0.0</td></tr><tr><td>1</td><td>2024-01-01 00:36:38</td><td>2024-01-01 00:44:56</td><td>1</td><td>1.4</td><td>1</td><td>&quot;N&quot;</td><td>79</td><td>211</td><td>1</td><td>10.0</td><td>3.5</td><td>0.5</td><td>2.0</td><td>0.0</td><td>1.0</td><td>17.0</td><td>2.5</td><td>0.0</td></tr><tr><td>1</td><td>2024-01-01 00:46:51</td><td>2024-01-01 00:52:57</td><td>1</td><td>0.8</td><td>1</td><td>&quot;N&quot;</td><td>211</td><td>148</td><td>1</td><td>7.9</td><td>3.5</td><td>0.5</td><td>3.2</td><td>0.0</td><td>1.0</td><td>16.1</td><td>2.5</td><td>0.0</td></tr><tr><td>&hellip;</td><td>&hellip;</td><td>&hellip;</td><td>&hellip;</td><td>&hellip;</td><td>&hellip;</td><td>&hellip;</td><td>&hellip;</td><td>&hellip;</td><td>&hellip;</td><td>&hellip;</td><td>&hellip;</td><td>&hellip;</td><td>&hellip;</td><td>&hellip;</td><td>&hellip;</td><td>&hellip;</td><td>&hellip;</td><td>&hellip;</td></tr><tr><td>2</td><td>2024-12-31 23:32:00</td><td>2024-12-31 23:56:00</td><td>null</td><td>10.71</td><td>null</td><td>null</td><td>16</td><td>7</td><td>0</td><td>-4.13</td><td>0.0</td><td>0.5</td><td>0.0</td><td>0.0</td><td>1.0</td><td>-2.63</td><td>null</td><td>null</td></tr><tr><td>2</td><td>2024-12-31 23:05:00</td><td>2024-12-31 23:18:00</td><td>null</td><td>4.56</td><td>null</td><td>null</td><td>252</td><td>16</td><td>0</td><td>-1.68</td><td>0.0</td><td>0.5</td><td>0.0</td><td>0.0</td><td>1.0</td><td>-0.18</td><td>null</td><td>null</td></tr><tr><td>2</td><td>2024-12-31 23:03:16</td><td>2024-12-31 23:28:35</td><td>null</td><td>3.94</td><td>null</td><td>null</td><td>181</td><td>255</td><td>0</td><td>4.46</td><td>0.0</td><td>0.5</td><td>5.19</td><td>0.0</td><td>1.0</td><td>11.15</td><td>null</td><td>null</td></tr><tr><td>1</td><td>2024-12-31 23:15:33</td><td>2024-12-31 23:36:29</td><td>null</td><td>4.2</td><td>null</td><td>null</td><td>165</td><td>61</td><td>0</td><td>27.07</td><td>0.0</td><td>0.5</td><td>0.0</td><td>0.0</td><td>1.0</td><td>28.57</td><td>null</td><td>null</td></tr><tr><td>2</td><td>2024-12-31 23:04:36</td><td>2024-12-31 23:33:34</td><td>null</td><td>5.76</td><td>null</td><td>null</td><td>225</td><td>114</td><td>0</td><td>2.17</td><td>0.0</td><td>0.5</td><td>0.0</td><td>0.0</td><td>1.0</td><td>6.17</td><td>null</td><td>null</td></tr></tbody></table></div>"
      ],
      "text/plain": [
       "shape: (41_169_720, 19)\n",
       "┌──────────┬───────────┬───────────┬───────────┬───┬───────────┬───────────┬───────────┬───────────┐\n",
       "│ VendorID ┆ tpep_pick ┆ tpep_drop ┆ passenger ┆ … ┆ improveme ┆ total_amo ┆ congestio ┆ Airport_f │\n",
       "│ ---      ┆ up_dateti ┆ off_datet ┆ _count    ┆   ┆ nt_surcha ┆ unt       ┆ n_surchar ┆ ee        │\n",
       "│ i32      ┆ me        ┆ ime       ┆ ---       ┆   ┆ rge       ┆ ---       ┆ ge        ┆ ---       │\n",
       "│          ┆ ---       ┆ ---       ┆ i64       ┆   ┆ ---       ┆ f64       ┆ ---       ┆ f64       │\n",
       "│          ┆ datetime[ ┆ datetime[ ┆           ┆   ┆ f64       ┆           ┆ f64       ┆           │\n",
       "│          ┆ ms]       ┆ ms]       ┆           ┆   ┆           ┆           ┆           ┆           │\n",
       "╞══════════╪═══════════╪═══════════╪═══════════╪═══╪═══════════╪═══════════╪═══════════╪═══════════╡\n",
       "│ 2        ┆ 2024-01-0 ┆ 2024-01-0 ┆ 1         ┆ … ┆ 1.0       ┆ 22.7      ┆ 2.5       ┆ 0.0       │\n",
       "│          ┆ 1         ┆ 1         ┆           ┆   ┆           ┆           ┆           ┆           │\n",
       "│          ┆ 00:57:55  ┆ 01:17:43  ┆           ┆   ┆           ┆           ┆           ┆           │\n",
       "│ 1        ┆ 2024-01-0 ┆ 2024-01-0 ┆ 1         ┆ … ┆ 1.0       ┆ 18.75     ┆ 2.5       ┆ 0.0       │\n",
       "│          ┆ 1         ┆ 1         ┆           ┆   ┆           ┆           ┆           ┆           │\n",
       "│          ┆ 00:03:00  ┆ 00:09:36  ┆           ┆   ┆           ┆           ┆           ┆           │\n",
       "│ 1        ┆ 2024-01-0 ┆ 2024-01-0 ┆ 1         ┆ … ┆ 1.0       ┆ 31.3      ┆ 2.5       ┆ 0.0       │\n",
       "│          ┆ 1         ┆ 1         ┆           ┆   ┆           ┆           ┆           ┆           │\n",
       "│          ┆ 00:17:06  ┆ 00:35:01  ┆           ┆   ┆           ┆           ┆           ┆           │\n",
       "│ 1        ┆ 2024-01-0 ┆ 2024-01-0 ┆ 1         ┆ … ┆ 1.0       ┆ 17.0      ┆ 2.5       ┆ 0.0       │\n",
       "│          ┆ 1         ┆ 1         ┆           ┆   ┆           ┆           ┆           ┆           │\n",
       "│          ┆ 00:36:38  ┆ 00:44:56  ┆           ┆   ┆           ┆           ┆           ┆           │\n",
       "│ 1        ┆ 2024-01-0 ┆ 2024-01-0 ┆ 1         ┆ … ┆ 1.0       ┆ 16.1      ┆ 2.5       ┆ 0.0       │\n",
       "│          ┆ 1         ┆ 1         ┆           ┆   ┆           ┆           ┆           ┆           │\n",
       "│          ┆ 00:46:51  ┆ 00:52:57  ┆           ┆   ┆           ┆           ┆           ┆           │\n",
       "│ …        ┆ …         ┆ …         ┆ …         ┆ … ┆ …         ┆ …         ┆ …         ┆ …         │\n",
       "│ 2        ┆ 2024-12-3 ┆ 2024-12-3 ┆ null      ┆ … ┆ 1.0       ┆ -2.63     ┆ null      ┆ null      │\n",
       "│          ┆ 1         ┆ 1         ┆           ┆   ┆           ┆           ┆           ┆           │\n",
       "│          ┆ 23:32:00  ┆ 23:56:00  ┆           ┆   ┆           ┆           ┆           ┆           │\n",
       "│ 2        ┆ 2024-12-3 ┆ 2024-12-3 ┆ null      ┆ … ┆ 1.0       ┆ -0.18     ┆ null      ┆ null      │\n",
       "│          ┆ 1         ┆ 1         ┆           ┆   ┆           ┆           ┆           ┆           │\n",
       "│          ┆ 23:05:00  ┆ 23:18:00  ┆           ┆   ┆           ┆           ┆           ┆           │\n",
       "│ 2        ┆ 2024-12-3 ┆ 2024-12-3 ┆ null      ┆ … ┆ 1.0       ┆ 11.15     ┆ null      ┆ null      │\n",
       "│          ┆ 1         ┆ 1         ┆           ┆   ┆           ┆           ┆           ┆           │\n",
       "│          ┆ 23:03:16  ┆ 23:28:35  ┆           ┆   ┆           ┆           ┆           ┆           │\n",
       "│ 1        ┆ 2024-12-3 ┆ 2024-12-3 ┆ null      ┆ … ┆ 1.0       ┆ 28.57     ┆ null      ┆ null      │\n",
       "│          ┆ 1         ┆ 1         ┆           ┆   ┆           ┆           ┆           ┆           │\n",
       "│          ┆ 23:15:33  ┆ 23:36:29  ┆           ┆   ┆           ┆           ┆           ┆           │\n",
       "│ 2        ┆ 2024-12-3 ┆ 2024-12-3 ┆ null      ┆ … ┆ 1.0       ┆ 6.17      ┆ null      ┆ null      │\n",
       "│          ┆ 1         ┆ 1         ┆           ┆   ┆           ┆           ┆           ┆           │\n",
       "│          ┆ 23:04:36  ┆ 23:33:34  ┆           ┆   ┆           ┆           ┆           ┆           │\n",
       "└──────────┴───────────┴───────────┴───────────┴───┴───────────┴───────────┴───────────┴───────────┘"
      ]
     },
     "execution_count": 53,
     "metadata": {},
     "output_type": "execute_result"
    }
   ],
   "source": [
    "df_2024.collect()"
   ]
  },
  {
   "cell_type": "code",
   "execution_count": 54,
   "id": "2feacdf7",
   "metadata": {},
   "outputs": [],
   "source": [
    "# filtering\n",
    "filter_2024_2025 = (pl.col(\"tpep_pickup_datetime\").dt.year() == 2024) & (\n",
    "    pl.col(\"tpep_dropoff_datetime\") <= pl.date(2025, 1, 1)\n",
    ")\n",
    "df = df_2024.filter(filter_2024_2025)"
   ]
  },
  {
   "cell_type": "code",
   "execution_count": 55,
   "id": "2d7d2595",
   "metadata": {},
   "outputs": [
    {
     "name": "stderr",
     "output_type": "stream",
     "text": [
      "/var/folders/_n/zfchkhnd1kd1krd5j2g884c40000gn/T/ipykernel_73053/3182147272.py:1: PerformanceWarning: Resolving the schema of a LazyFrame is a potentially expensive operation. Use `LazyFrame.collect_schema()` to get the schema without this warning.\n",
      "  df.schema\n"
     ]
    },
    {
     "data": {
      "text/plain": [
       "Schema([('VendorID', Int32),\n",
       "        ('tpep_pickup_datetime', Datetime(time_unit='ms', time_zone=None)),\n",
       "        ('tpep_dropoff_datetime', Datetime(time_unit='ms', time_zone=None)),\n",
       "        ('passenger_count', Int64),\n",
       "        ('trip_distance', Float64),\n",
       "        ('RatecodeID', Int64),\n",
       "        ('store_and_fwd_flag', String),\n",
       "        ('PULocationID', Int32),\n",
       "        ('DOLocationID', Int32),\n",
       "        ('payment_type', Int64),\n",
       "        ('fare_amount', Float64),\n",
       "        ('extra', Float64),\n",
       "        ('mta_tax', Float64),\n",
       "        ('tip_amount', Float64),\n",
       "        ('tolls_amount', Float64),\n",
       "        ('improvement_surcharge', Float64),\n",
       "        ('total_amount', Float64),\n",
       "        ('congestion_surcharge', Float64),\n",
       "        ('Airport_fee', Float64)])"
      ]
     },
     "execution_count": 55,
     "metadata": {},
     "output_type": "execute_result"
    }
   ],
   "source": [
    "df.schema"
   ]
  },
  {
   "cell_type": "code",
   "execution_count": 56,
   "id": "b2f24907",
   "metadata": {},
   "outputs": [
    {
     "data": {
      "text/html": [
       "<div><style>\n",
       ".dataframe > thead > tr,\n",
       ".dataframe > tbody > tr {\n",
       "  text-align: right;\n",
       "  white-space: pre-wrap;\n",
       "}\n",
       "</style>\n",
       "<small>shape: (1, 37)</small><table border=\"1\" class=\"dataframe\"><thead><tr><th>pickup_time_min</th><th>pickup_time_max</th><th>dropoff_time_min</th><th>dropoff_time_max</th><th>VendorID_min</th><th>VendorID_max</th><th>passenger_count_min</th><th>passenger_count_max</th><th>RatecodeID_min</th><th>RatecodeID_max</th><th>PULocationID_min</th><th>PULocationID_max</th><th>DOLocationID_min</th><th>DOLocationID_max</th><th>payment_type_min</th><th>payment_type_max</th><th>trip_distance_min</th><th>trip_distance_max</th><th>fare_amount_min</th><th>fare_amount_max</th><th>extra_min</th><th>extra_max</th><th>mta_tax_min</th><th>mta_tax_max</th><th>tip_amount_min</th><th>tip_amount_max</th><th>tolls_amount_min</th><th>tolls_amount_max</th><th>improvement_surcharge_min</th><th>improvement_surcharge_max</th><th>total_amount_min</th><th>total_amount_max</th><th>congestion_surcharge_min</th><th>congestion_surcharge_max</th><th>Airport_fee_min</th><th>Airport_fee_max</th><th>store_and_fwd_flag_unique_count</th></tr><tr><td>datetime[ms]</td><td>datetime[ms]</td><td>datetime[ms]</td><td>datetime[ms]</td><td>i32</td><td>i32</td><td>i64</td><td>i64</td><td>i64</td><td>i64</td><td>i32</td><td>i32</td><td>i32</td><td>i32</td><td>i64</td><td>i64</td><td>f64</td><td>f64</td><td>f64</td><td>f64</td><td>f64</td><td>f64</td><td>f64</td><td>f64</td><td>f64</td><td>f64</td><td>f64</td><td>f64</td><td>f64</td><td>f64</td><td>f64</td><td>f64</td><td>f64</td><td>f64</td><td>f64</td><td>f64</td><td>u32</td></tr></thead><tbody><tr><td>2024-01-01 00:00:00</td><td>2024-12-31 23:59:21</td><td>2024-01-01 00:02:42</td><td>2025-01-01 00:00:00</td><td>1</td><td>7</td><td>0</td><td>9</td><td>1</td><td>99</td><td>1</td><td>265</td><td>1</td><td>265</td><td>0</td><td>5</td><td>0.0</td><td>398608.62</td><td>-2261.2</td><td>335544.44</td><td>-9.25</td><td>65.99</td><td>-0.5</td><td>41.3</td><td>-300.0</td><td>999.99</td><td>-140.63</td><td>1702.88</td><td>-1.0</td><td>2.0</td><td>-2265.45</td><td>335550.94</td><td>-2.5</td><td>2.52</td><td>-1.75</td><td>1.75</td><td>2</td></tr></tbody></table></div>"
      ],
      "text/plain": [
       "shape: (1, 37)\n",
       "┌───────────┬───────────┬───────────┬───────────┬───┬───────────┬───────────┬───────────┬──────────┐\n",
       "│ pickup_ti ┆ pickup_ti ┆ dropoff_t ┆ dropoff_t ┆ … ┆ congestio ┆ Airport_f ┆ Airport_f ┆ store_an │\n",
       "│ me_min    ┆ me_max    ┆ ime_min   ┆ ime_max   ┆   ┆ n_surchar ┆ ee_min    ┆ ee_max    ┆ d_fwd_fl │\n",
       "│ ---       ┆ ---       ┆ ---       ┆ ---       ┆   ┆ ge_max    ┆ ---       ┆ ---       ┆ ag_uniqu │\n",
       "│ datetime[ ┆ datetime[ ┆ datetime[ ┆ datetime[ ┆   ┆ ---       ┆ f64       ┆ f64       ┆ e_coun…  │\n",
       "│ ms]       ┆ ms]       ┆ ms]       ┆ ms]       ┆   ┆ f64       ┆           ┆           ┆ ---      │\n",
       "│           ┆           ┆           ┆           ┆   ┆           ┆           ┆           ┆ u32      │\n",
       "╞═══════════╪═══════════╪═══════════╪═══════════╪═══╪═══════════╪═══════════╪═══════════╪══════════╡\n",
       "│ 2024-01-0 ┆ 2024-12-3 ┆ 2024-01-0 ┆ 2025-01-0 ┆ … ┆ 2.52      ┆ -1.75     ┆ 1.75      ┆ 2        │\n",
       "│ 1         ┆ 1         ┆ 1         ┆ 1         ┆   ┆           ┆           ┆           ┆          │\n",
       "│ 00:00:00  ┆ 23:59:21  ┆ 00:02:42  ┆ 00:00:00  ┆   ┆           ┆           ┆           ┆          │\n",
       "└───────────┴───────────┴───────────┴───────────┴───┴───────────┴───────────┴───────────┴──────────┘"
      ]
     },
     "execution_count": 56,
     "metadata": {},
     "output_type": "execute_result"
    }
   ],
   "source": [
    "(\n",
    "    df.select(\n",
    "        # Datetime columns\n",
    "        pl.col(\"tpep_pickup_datetime\").min().alias(\"pickup_time_min\"),\n",
    "        pl.col(\"tpep_pickup_datetime\").max().alias(\"pickup_time_max\"),\n",
    "        pl.col(\"tpep_dropoff_datetime\").min().alias(\"dropoff_time_min\"),\n",
    "        pl.col(\"tpep_dropoff_datetime\").max().alias(\"dropoff_time_max\"),\n",
    "        # Integer columns\n",
    "        pl.col(\"VendorID\").min().alias(\"VendorID_min\"),\n",
    "        pl.col(\"VendorID\").max().alias(\"VendorID_max\"),\n",
    "        pl.col(\"passenger_count\").min().alias(\"passenger_count_min\"),\n",
    "        pl.col(\"passenger_count\").max().alias(\"passenger_count_max\"),\n",
    "        pl.col(\"RatecodeID\").min().alias(\"RatecodeID_min\"),\n",
    "        pl.col(\"RatecodeID\").max().alias(\"RatecodeID_max\"),\n",
    "        pl.col(\"PULocationID\").min().alias(\"PULocationID_min\"),\n",
    "        pl.col(\"PULocationID\").max().alias(\"PULocationID_max\"),\n",
    "        pl.col(\"DOLocationID\").min().alias(\"DOLocationID_min\"),\n",
    "        pl.col(\"DOLocationID\").max().alias(\"DOLocationID_max\"),\n",
    "        pl.col(\"payment_type\").min().alias(\"payment_type_min\"),\n",
    "        pl.col(\"payment_type\").max().alias(\"payment_type_max\"),\n",
    "        # Float columns\n",
    "        pl.col(\"trip_distance\").min().alias(\"trip_distance_min\"),\n",
    "        pl.col(\"trip_distance\").max().alias(\"trip_distance_max\"),\n",
    "        pl.col(\"fare_amount\").min().alias(\"fare_amount_min\"),\n",
    "        pl.col(\"fare_amount\").max().alias(\"fare_amount_max\"),\n",
    "        pl.col(\"extra\").min().alias(\"extra_min\"),\n",
    "        pl.col(\"extra\").max().alias(\"extra_max\"),\n",
    "        pl.col(\"mta_tax\").min().alias(\"mta_tax_min\"),\n",
    "        pl.col(\"mta_tax\").max().alias(\"mta_tax_max\"),\n",
    "        pl.col(\"tip_amount\").min().alias(\"tip_amount_min\"),\n",
    "        pl.col(\"tip_amount\").max().alias(\"tip_amount_max\"),\n",
    "        pl.col(\"tolls_amount\").min().alias(\"tolls_amount_min\"),\n",
    "        pl.col(\"tolls_amount\").max().alias(\"tolls_amount_max\"),\n",
    "        pl.col(\"improvement_surcharge\").min().alias(\"improvement_surcharge_min\"),\n",
    "        pl.col(\"improvement_surcharge\").max().alias(\"improvement_surcharge_max\"),\n",
    "        pl.col(\"total_amount\").min().alias(\"total_amount_min\"),\n",
    "        pl.col(\"total_amount\").max().alias(\"total_amount_max\"),\n",
    "        pl.col(\"congestion_surcharge\").min().alias(\"congestion_surcharge_min\"),\n",
    "        pl.col(\"congestion_surcharge\").max().alias(\"congestion_surcharge_max\"),\n",
    "        pl.col(\"Airport_fee\").min().alias(\"Airport_fee_min\"),\n",
    "        pl.col(\"Airport_fee\").max().alias(\"Airport_fee_max\"),\n",
    "        pl.col(\"store_and_fwd_flag\")\n",
    "        .unique()\n",
    "        .count()\n",
    "        .alias(\"store_and_fwd_flag_unique_count\"),\n",
    "    ).collect()\n",
    ")"
   ]
  },
  {
   "cell_type": "code",
   "execution_count": null,
   "id": "ee986b4e",
   "metadata": {},
   "outputs": [],
   "source": []
  },
  {
   "cell_type": "code",
   "execution_count": 57,
   "id": "e8507753",
   "metadata": {},
   "outputs": [],
   "source": [
    "# optimizing data types\n",
    "df = df.with_columns(\n",
    "    pl.col(\"VendorID\").cast(pl.UInt8),\n",
    "    pl.col(\"passenger_count\").cast(pl.UInt8),\n",
    "    pl.col(\"RatecodeID\").cast(pl.UInt8),\n",
    "    pl.col(\"PULocationID\").cast(pl.UInt16),\n",
    "    pl.col(\"DOLocationID\").cast(pl.UInt16),\n",
    "    pl.col(\"payment_type\").cast(pl.UInt8),\n",
    "    pl.col(\"trip_distance\").cast(pl.Float32),\n",
    "    pl.col(\"fare_amount\").cast(pl.Float32),\n",
    "    pl.col(\"extra\").cast(pl.Float32),\n",
    "    pl.col(\"mta_tax\").cast(pl.Float32),\n",
    "    pl.col(\"tip_amount\").cast(pl.Float32),\n",
    "    pl.col(\"tolls_amount\").cast(pl.Float32),\n",
    "    pl.col(\"improvement_surcharge\").cast(pl.Int8),\n",
    "    pl.col(\"total_amount\").cast(pl.Float32),\n",
    "    pl.col(\"congestion_surcharge\").cast(pl.Float32),\n",
    "    pl.col(\"Airport_fee\").cast(pl.Float32),\n",
    ").collect()"
   ]
  },
  {
   "cell_type": "code",
   "execution_count": 58,
   "id": "2e93bca9",
   "metadata": {},
   "outputs": [
    {
     "data": {
      "text/plain": [
       "Schema([('VendorID', UInt8),\n",
       "        ('tpep_pickup_datetime', Datetime(time_unit='ms', time_zone=None)),\n",
       "        ('tpep_dropoff_datetime', Datetime(time_unit='ms', time_zone=None)),\n",
       "        ('passenger_count', UInt8),\n",
       "        ('trip_distance', Float32),\n",
       "        ('RatecodeID', UInt8),\n",
       "        ('store_and_fwd_flag', String),\n",
       "        ('PULocationID', UInt16),\n",
       "        ('DOLocationID', UInt16),\n",
       "        ('payment_type', UInt8),\n",
       "        ('fare_amount', Float32),\n",
       "        ('extra', Float32),\n",
       "        ('mta_tax', Float32),\n",
       "        ('tip_amount', Float32),\n",
       "        ('tolls_amount', Float32),\n",
       "        ('improvement_surcharge', Int8),\n",
       "        ('total_amount', Float32),\n",
       "        ('congestion_surcharge', Float32),\n",
       "        ('Airport_fee', Float32)])"
      ]
     },
     "execution_count": 58,
     "metadata": {},
     "output_type": "execute_result"
    }
   ],
   "source": [
    "df.schema"
   ]
  },
  {
   "cell_type": "code",
   "execution_count": 59,
   "id": "8def1dea",
   "metadata": {},
   "outputs": [
    {
     "data": {
      "text/plain": [
       "Schema([('LocationID', Int64),\n",
       "        ('Borough', String),\n",
       "        ('Zone', String),\n",
       "        ('service_zone', String)])"
      ]
     },
     "execution_count": 59,
     "metadata": {},
     "output_type": "execute_result"
    }
   ],
   "source": [
    "df_taxi_zones.schema"
   ]
  },
  {
   "cell_type": "code",
   "execution_count": 60,
   "id": "7b06a678",
   "metadata": {},
   "outputs": [
    {
     "data": {
      "text/html": [
       "<div><style>\n",
       ".dataframe > thead > tr,\n",
       ".dataframe > tbody > tr {\n",
       "  text-align: right;\n",
       "  white-space: pre-wrap;\n",
       "}\n",
       "</style>\n",
       "<small>shape: (9, 5)</small><table border=\"1\" class=\"dataframe\"><thead><tr><th>statistic</th><th>LocationID</th><th>Borough</th><th>Zone</th><th>service_zone</th></tr><tr><td>str</td><td>f64</td><td>str</td><td>str</td><td>str</td></tr></thead><tbody><tr><td>&quot;count&quot;</td><td>265.0</td><td>&quot;265&quot;</td><td>&quot;265&quot;</td><td>&quot;265&quot;</td></tr><tr><td>&quot;null_count&quot;</td><td>0.0</td><td>&quot;0&quot;</td><td>&quot;0&quot;</td><td>&quot;0&quot;</td></tr><tr><td>&quot;mean&quot;</td><td>133.0</td><td>null</td><td>null</td><td>null</td></tr><tr><td>&quot;std&quot;</td><td>76.643112</td><td>null</td><td>null</td><td>null</td></tr><tr><td>&quot;min&quot;</td><td>1.0</td><td>&quot;Bronx&quot;</td><td>&quot;Allerton/Pelham Gardens&quot;</td><td>&quot;Airports&quot;</td></tr><tr><td>&quot;25%&quot;</td><td>67.0</td><td>null</td><td>null</td><td>null</td></tr><tr><td>&quot;50%&quot;</td><td>133.0</td><td>null</td><td>null</td><td>null</td></tr><tr><td>&quot;75%&quot;</td><td>199.0</td><td>null</td><td>null</td><td>null</td></tr><tr><td>&quot;max&quot;</td><td>265.0</td><td>&quot;Unknown&quot;</td><td>&quot;Yorkville West&quot;</td><td>&quot;Yellow Zone&quot;</td></tr></tbody></table></div>"
      ],
      "text/plain": [
       "shape: (9, 5)\n",
       "┌────────────┬────────────┬─────────┬─────────────────────────┬──────────────┐\n",
       "│ statistic  ┆ LocationID ┆ Borough ┆ Zone                    ┆ service_zone │\n",
       "│ ---        ┆ ---        ┆ ---     ┆ ---                     ┆ ---          │\n",
       "│ str        ┆ f64        ┆ str     ┆ str                     ┆ str          │\n",
       "╞════════════╪════════════╪═════════╪═════════════════════════╪══════════════╡\n",
       "│ count      ┆ 265.0      ┆ 265     ┆ 265                     ┆ 265          │\n",
       "│ null_count ┆ 0.0        ┆ 0       ┆ 0                       ┆ 0            │\n",
       "│ mean       ┆ 133.0      ┆ null    ┆ null                    ┆ null         │\n",
       "│ std        ┆ 76.643112  ┆ null    ┆ null                    ┆ null         │\n",
       "│ min        ┆ 1.0        ┆ Bronx   ┆ Allerton/Pelham Gardens ┆ Airports     │\n",
       "│ 25%        ┆ 67.0       ┆ null    ┆ null                    ┆ null         │\n",
       "│ 50%        ┆ 133.0      ┆ null    ┆ null                    ┆ null         │\n",
       "│ 75%        ┆ 199.0      ┆ null    ┆ null                    ┆ null         │\n",
       "│ max        ┆ 265.0      ┆ Unknown ┆ Yorkville West          ┆ Yellow Zone  │\n",
       "└────────────┴────────────┴─────────┴─────────────────────────┴──────────────┘"
      ]
     },
     "execution_count": 60,
     "metadata": {},
     "output_type": "execute_result"
    }
   ],
   "source": [
    "df_taxi_zones.describe()"
   ]
  },
  {
   "cell_type": "code",
   "execution_count": 61,
   "id": "cc723398",
   "metadata": {},
   "outputs": [
    {
     "data": {
      "text/html": [
       "<div><style>\n",
       ".dataframe > thead > tr,\n",
       ".dataframe > tbody > tr {\n",
       "  text-align: right;\n",
       "  white-space: pre-wrap;\n",
       "}\n",
       "</style>\n",
       "<small>shape: (1, 5)</small><table border=\"1\" class=\"dataframe\"><thead><tr><th>LocationID_min</th><th>LocationID_max</th><th>Borough_unique_count</th><th>Zone_unique_count</th><th>service_zone_unique_count</th></tr><tr><td>i64</td><td>i64</td><td>u32</td><td>u32</td><td>u32</td></tr></thead><tbody><tr><td>1</td><td>265</td><td>8</td><td>262</td><td>5</td></tr></tbody></table></div>"
      ],
      "text/plain": [
       "shape: (1, 5)\n",
       "┌────────────────┬────────────────┬──────────────────────┬───────────────────┬─────────────────────┐\n",
       "│ LocationID_min ┆ LocationID_max ┆ Borough_unique_count ┆ Zone_unique_count ┆ service_zone_unique │\n",
       "│ ---            ┆ ---            ┆ ---                  ┆ ---               ┆ _count              │\n",
       "│ i64            ┆ i64            ┆ u32                  ┆ u32               ┆ ---                 │\n",
       "│                ┆                ┆                      ┆                   ┆ u32                 │\n",
       "╞════════════════╪════════════════╪══════════════════════╪═══════════════════╪═════════════════════╡\n",
       "│ 1              ┆ 265            ┆ 8                    ┆ 262               ┆ 5                   │\n",
       "└────────────────┴────────────────┴──────────────────────┴───────────────────┴─────────────────────┘"
      ]
     },
     "execution_count": 61,
     "metadata": {},
     "output_type": "execute_result"
    }
   ],
   "source": [
    "(\n",
    "    df_taxi_zones.select(\n",
    "        pl.col(\"LocationID\").min().alias(\"LocationID_min\"),\n",
    "        pl.col(\"LocationID\").max().alias(\"LocationID_max\"),\n",
    "        pl.col(\"Borough\").unique().count().alias(\"Borough_unique_count\"),\n",
    "        pl.col(\"Zone\").unique().count().alias(\"Zone_unique_count\"),\n",
    "        pl.col(\"service_zone\").unique().count().alias(\"service_zone_unique_count\"),\n",
    "    )\n",
    ")"
   ]
  },
  {
   "cell_type": "code",
   "execution_count": 62,
   "id": "e77a6545",
   "metadata": {},
   "outputs": [],
   "source": [
    "# optimizing data types\n",
    "df_taxi_zones = df_taxi_zones.with_columns(\n",
    "    pl.col(\"LocationID\").cast(pl.UInt16),\n",
    ")"
   ]
  },
  {
   "cell_type": "markdown",
   "id": "e10f3f0d",
   "metadata": {},
   "source": [
    "# 2. Data cleaning and filtering <a id=\"data-cleaning\"></a>"
   ]
  },
  {
   "cell_type": "code",
   "execution_count": 63,
   "id": "edee1e60",
   "metadata": {},
   "outputs": [
    {
     "data": {
      "text/html": [
       "<div><style>\n",
       ".dataframe > thead > tr,\n",
       ".dataframe > tbody > tr {\n",
       "  text-align: right;\n",
       "  white-space: pre-wrap;\n",
       "}\n",
       "</style>\n",
       "<small>shape: (9, 20)</small><table border=\"1\" class=\"dataframe\"><thead><tr><th>statistic</th><th>VendorID</th><th>tpep_pickup_datetime</th><th>tpep_dropoff_datetime</th><th>passenger_count</th><th>trip_distance</th><th>RatecodeID</th><th>store_and_fwd_flag</th><th>PULocationID</th><th>DOLocationID</th><th>payment_type</th><th>fare_amount</th><th>extra</th><th>mta_tax</th><th>tip_amount</th><th>tolls_amount</th><th>improvement_surcharge</th><th>total_amount</th><th>congestion_surcharge</th><th>Airport_fee</th></tr><tr><td>str</td><td>f64</td><td>str</td><td>str</td><td>f64</td><td>f64</td><td>f64</td><td>str</td><td>f64</td><td>f64</td><td>f64</td><td>f64</td><td>f64</td><td>f64</td><td>f64</td><td>f64</td><td>f64</td><td>f64</td><td>f64</td><td>f64</td></tr></thead><tbody><tr><td>&quot;count&quot;</td><td>4.1169064e7</td><td>&quot;41169064&quot;</td><td>&quot;41169064&quot;</td><td>3.7077867e7</td><td>4.1169064e7</td><td>3.7077867e7</td><td>&quot;37077867&quot;</td><td>4.1169064e7</td><td>4.1169064e7</td><td>4.1169064e7</td><td>4.1169064e7</td><td>4.1169064e7</td><td>4.1169064e7</td><td>4.1169064e7</td><td>4.1169064e7</td><td>4.1169064e7</td><td>4.1169064e7</td><td>3.7077867e7</td><td>3.7077867e7</td></tr><tr><td>&quot;null_count&quot;</td><td>0.0</td><td>&quot;0&quot;</td><td>&quot;0&quot;</td><td>4.091197e6</td><td>0.0</td><td>4.091197e6</td><td>&quot;4091197&quot;</td><td>0.0</td><td>0.0</td><td>0.0</td><td>0.0</td><td>0.0</td><td>0.0</td><td>0.0</td><td>0.0</td><td>0.0</td><td>0.0</td><td>4.091197e6</td><td>4.091197e6</td></tr><tr><td>&quot;mean&quot;</td><td>1.764231</td><td>&quot;2024-07-06 10:06:13.130000&quot;</td><td>&quot;2024-07-06 10:23:41.087000&quot;</td><td>1.333927</td><td>4.97605</td><td>2.322168</td><td>null</td><td>164.243041</td><td>163.447651</td><td>1.107255</td><td>19.268278</td><td>1.385948</td><td>0.479778</td><td>3.307858</td><td>0.561511</td><td>0.962954</td><td>27.832537</td><td>2.232153</td><td>0.146999</td></tr><tr><td>&quot;std&quot;</td><td>0.425858</td><td>null</td><td>null</td><td>0.815821</td><td>419.233826</td><td>10.928139</td><td>null</td><td>64.340795</td><td>69.599929</td><td>0.651506</td><td>76.720322</td><td>1.815873</td><td>0.130182</td><td>4.090466</td><td>2.240516</td><td>0.255181</td><td>78.054024</td><td>0.87464</td><td>0.502031</td></tr><tr><td>&quot;min&quot;</td><td>1.0</td><td>&quot;2024-01-01 00:00:00&quot;</td><td>&quot;2024-01-01 00:02:42&quot;</td><td>0.0</td><td>0.0</td><td>1.0</td><td>&quot;N&quot;</td><td>1.0</td><td>1.0</td><td>0.0</td><td>-2261.199951</td><td>-9.25</td><td>-0.5</td><td>-300.0</td><td>-140.630005</td><td>-1.0</td><td>-2265.449951</td><td>-2.5</td><td>-1.75</td></tr><tr><td>&quot;25%&quot;</td><td>2.0</td><td>&quot;2024-04-06 20:06:26&quot;</td><td>&quot;2024-04-06 20:22:54&quot;</td><td>1.0</td><td>1.01</td><td>1.0</td><td>null</td><td>132.0</td><td>113.0</td><td>1.0</td><td>9.3</td><td>0.0</td><td>0.5</td><td>0.0</td><td>0.0</td><td>1.0</td><td>15.75</td><td>2.5</td><td>0.0</td></tr><tr><td>&quot;50%&quot;</td><td>2.0</td><td>&quot;2024-07-03 23:28:31&quot;</td><td>&quot;2024-07-03 23:44:36&quot;</td><td>1.0</td><td>1.76</td><td>1.0</td><td>null</td><td>161.0</td><td>162.0</td><td>1.0</td><td>13.5</td><td>1.0</td><td>0.5</td><td>2.6</td><td>0.0</td><td>1.0</td><td>21.0</td><td>2.5</td><td>0.0</td></tr><tr><td>&quot;75%&quot;</td><td>2.0</td><td>&quot;2024-10-08 17:30:38&quot;</td><td>&quot;2024-10-08 17:50:40&quot;</td><td>1.0</td><td>3.36</td><td>1.0</td><td>null</td><td>233.0</td><td>234.0</td><td>1.0</td><td>22.6</td><td>2.5</td><td>0.5</td><td>4.25</td><td>0.0</td><td>1.0</td><td>30.6</td><td>2.5</td><td>0.0</td></tr><tr><td>&quot;max&quot;</td><td>7.0</td><td>&quot;2024-12-31 23:59:21&quot;</td><td>&quot;2025-01-01 00:00:00&quot;</td><td>9.0</td><td>398608.625</td><td>99.0</td><td>&quot;Y&quot;</td><td>265.0</td><td>265.0</td><td>5.0</td><td>335544.4375</td><td>65.989998</td><td>41.299999</td><td>999.98999</td><td>1702.880005</td><td>2.0</td><td>335550.9375</td><td>2.52</td><td>1.75</td></tr></tbody></table></div>"
      ],
      "text/plain": [
       "shape: (9, 20)\n",
       "┌───────────┬───────────┬───────────┬───────────┬───┬───────────┬───────────┬───────────┬──────────┐\n",
       "│ statistic ┆ VendorID  ┆ tpep_pick ┆ tpep_drop ┆ … ┆ improveme ┆ total_amo ┆ congestio ┆ Airport_ │\n",
       "│ ---       ┆ ---       ┆ up_dateti ┆ off_datet ┆   ┆ nt_surcha ┆ unt       ┆ n_surchar ┆ fee      │\n",
       "│ str       ┆ f64       ┆ me        ┆ ime       ┆   ┆ rge       ┆ ---       ┆ ge        ┆ ---      │\n",
       "│           ┆           ┆ ---       ┆ ---       ┆   ┆ ---       ┆ f64       ┆ ---       ┆ f64      │\n",
       "│           ┆           ┆ str       ┆ str       ┆   ┆ f64       ┆           ┆ f64       ┆          │\n",
       "╞═══════════╪═══════════╪═══════════╪═══════════╪═══╪═══════════╪═══════════╪═══════════╪══════════╡\n",
       "│ count     ┆ 4.1169064 ┆ 41169064  ┆ 41169064  ┆ … ┆ 4.1169064 ┆ 4.1169064 ┆ 3.7077867 ┆ 3.707786 │\n",
       "│           ┆ e7        ┆           ┆           ┆   ┆ e7        ┆ e7        ┆ e7        ┆ 7e7      │\n",
       "│ null_coun ┆ 0.0       ┆ 0         ┆ 0         ┆ … ┆ 0.0       ┆ 0.0       ┆ 4.091197e ┆ 4.091197 │\n",
       "│ t         ┆           ┆           ┆           ┆   ┆           ┆           ┆ 6         ┆ e6       │\n",
       "│ mean      ┆ 1.764231  ┆ 2024-07-0 ┆ 2024-07-0 ┆ … ┆ 0.962954  ┆ 27.832537 ┆ 2.232153  ┆ 0.146999 │\n",
       "│           ┆           ┆ 6 10:06:1 ┆ 6 10:23:4 ┆   ┆           ┆           ┆           ┆          │\n",
       "│           ┆           ┆ 3.130000  ┆ 1.087000  ┆   ┆           ┆           ┆           ┆          │\n",
       "│ std       ┆ 0.425858  ┆ null      ┆ null      ┆ … ┆ 0.255181  ┆ 78.054024 ┆ 0.87464   ┆ 0.502031 │\n",
       "│ min       ┆ 1.0       ┆ 2024-01-0 ┆ 2024-01-0 ┆ … ┆ -1.0      ┆ -2265.449 ┆ -2.5      ┆ -1.75    │\n",
       "│           ┆           ┆ 1         ┆ 1         ┆   ┆           ┆ 951       ┆           ┆          │\n",
       "│           ┆           ┆ 00:00:00  ┆ 00:02:42  ┆   ┆           ┆           ┆           ┆          │\n",
       "│ 25%       ┆ 2.0       ┆ 2024-04-0 ┆ 2024-04-0 ┆ … ┆ 1.0       ┆ 15.75     ┆ 2.5       ┆ 0.0      │\n",
       "│           ┆           ┆ 6         ┆ 6         ┆   ┆           ┆           ┆           ┆          │\n",
       "│           ┆           ┆ 20:06:26  ┆ 20:22:54  ┆   ┆           ┆           ┆           ┆          │\n",
       "│ 50%       ┆ 2.0       ┆ 2024-07-0 ┆ 2024-07-0 ┆ … ┆ 1.0       ┆ 21.0      ┆ 2.5       ┆ 0.0      │\n",
       "│           ┆           ┆ 3         ┆ 3         ┆   ┆           ┆           ┆           ┆          │\n",
       "│           ┆           ┆ 23:28:31  ┆ 23:44:36  ┆   ┆           ┆           ┆           ┆          │\n",
       "│ 75%       ┆ 2.0       ┆ 2024-10-0 ┆ 2024-10-0 ┆ … ┆ 1.0       ┆ 30.6      ┆ 2.5       ┆ 0.0      │\n",
       "│           ┆           ┆ 8         ┆ 8         ┆   ┆           ┆           ┆           ┆          │\n",
       "│           ┆           ┆ 17:30:38  ┆ 17:50:40  ┆   ┆           ┆           ┆           ┆          │\n",
       "│ max       ┆ 7.0       ┆ 2024-12-3 ┆ 2025-01-0 ┆ … ┆ 2.0       ┆ 335550.93 ┆ 2.52      ┆ 1.75     │\n",
       "│           ┆           ┆ 1         ┆ 1         ┆   ┆           ┆ 75        ┆           ┆          │\n",
       "│           ┆           ┆ 23:59:21  ┆ 00:00:00  ┆   ┆           ┆           ┆           ┆          │\n",
       "└───────────┴───────────┴───────────┴───────────┴───┴───────────┴───────────┴───────────┴──────────┘"
      ]
     },
     "execution_count": 63,
     "metadata": {},
     "output_type": "execute_result"
    }
   ],
   "source": [
    "# fill NULL values in passengers_count with 1\n",
    "df.describe()"
   ]
  },
  {
   "cell_type": "code",
   "execution_count": 64,
   "id": "4fad07b3",
   "metadata": {},
   "outputs": [
    {
     "data": {
      "text/html": [
       "<div><style>\n",
       ".dataframe > thead > tr,\n",
       ".dataframe > tbody > tr {\n",
       "  text-align: right;\n",
       "  white-space: pre-wrap;\n",
       "}\n",
       "</style>\n",
       "<small>shape: (9, 20)</small><table border=\"1\" class=\"dataframe\"><thead><tr><th>statistic</th><th>VendorID</th><th>tpep_pickup_datetime</th><th>tpep_dropoff_datetime</th><th>passenger_count</th><th>trip_distance</th><th>RatecodeID</th><th>store_and_fwd_flag</th><th>PULocationID</th><th>DOLocationID</th><th>payment_type</th><th>fare_amount</th><th>extra</th><th>mta_tax</th><th>tip_amount</th><th>tolls_amount</th><th>improvement_surcharge</th><th>total_amount</th><th>congestion_surcharge</th><th>Airport_fee</th></tr><tr><td>str</td><td>f64</td><td>str</td><td>str</td><td>f64</td><td>f64</td><td>f64</td><td>str</td><td>f64</td><td>f64</td><td>f64</td><td>f64</td><td>f64</td><td>f64</td><td>f64</td><td>f64</td><td>f64</td><td>f64</td><td>f64</td><td>f64</td></tr></thead><tbody><tr><td>&quot;count&quot;</td><td>4.1169064e7</td><td>&quot;41169064&quot;</td><td>&quot;41169064&quot;</td><td>4.1169064e7</td><td>4.1169064e7</td><td>3.7077867e7</td><td>&quot;37077867&quot;</td><td>4.1169064e7</td><td>4.1169064e7</td><td>4.1169064e7</td><td>4.1169064e7</td><td>4.1169064e7</td><td>4.1169064e7</td><td>4.1169064e7</td><td>4.1169064e7</td><td>4.1169064e7</td><td>4.1169064e7</td><td>3.7077867e7</td><td>3.7077867e7</td></tr><tr><td>&quot;null_count&quot;</td><td>0.0</td><td>&quot;0&quot;</td><td>&quot;0&quot;</td><td>0.0</td><td>0.0</td><td>4.091197e6</td><td>&quot;4091197&quot;</td><td>0.0</td><td>0.0</td><td>0.0</td><td>0.0</td><td>0.0</td><td>0.0</td><td>0.0</td><td>0.0</td><td>0.0</td><td>0.0</td><td>4.091197e6</td><td>4.091197e6</td></tr><tr><td>&quot;mean&quot;</td><td>1.764231</td><td>&quot;2024-07-06 10:06:13.130000&quot;</td><td>&quot;2024-07-06 10:23:41.087000&quot;</td><td>1.201367</td><td>4.97605</td><td>2.322168</td><td>null</td><td>164.243041</td><td>163.447651</td><td>1.107255</td><td>19.268278</td><td>1.385948</td><td>0.479778</td><td>3.307858</td><td>0.561511</td><td>0.962954</td><td>27.832537</td><td>2.232153</td><td>0.146999</td></tr><tr><td>&quot;std&quot;</td><td>0.425858</td><td>null</td><td>null</td><td>0.87102</td><td>419.233826</td><td>10.928139</td><td>null</td><td>64.340795</td><td>69.599929</td><td>0.651506</td><td>76.720322</td><td>1.815873</td><td>0.130182</td><td>4.090466</td><td>2.240516</td><td>0.255181</td><td>78.054024</td><td>0.87464</td><td>0.502031</td></tr><tr><td>&quot;min&quot;</td><td>1.0</td><td>&quot;2024-01-01 00:00:00&quot;</td><td>&quot;2024-01-01 00:02:42&quot;</td><td>0.0</td><td>0.0</td><td>1.0</td><td>&quot;N&quot;</td><td>1.0</td><td>1.0</td><td>0.0</td><td>-2261.199951</td><td>-9.25</td><td>-0.5</td><td>-300.0</td><td>-140.630005</td><td>-1.0</td><td>-2265.449951</td><td>-2.5</td><td>-1.75</td></tr><tr><td>&quot;25%&quot;</td><td>2.0</td><td>&quot;2024-04-06 20:06:26&quot;</td><td>&quot;2024-04-06 20:22:54&quot;</td><td>1.0</td><td>1.01</td><td>1.0</td><td>null</td><td>132.0</td><td>113.0</td><td>1.0</td><td>9.3</td><td>0.0</td><td>0.5</td><td>0.0</td><td>0.0</td><td>1.0</td><td>15.75</td><td>2.5</td><td>0.0</td></tr><tr><td>&quot;50%&quot;</td><td>2.0</td><td>&quot;2024-07-03 23:28:31&quot;</td><td>&quot;2024-07-03 23:44:36&quot;</td><td>1.0</td><td>1.76</td><td>1.0</td><td>null</td><td>161.0</td><td>162.0</td><td>1.0</td><td>13.5</td><td>1.0</td><td>0.5</td><td>2.6</td><td>0.0</td><td>1.0</td><td>21.0</td><td>2.5</td><td>0.0</td></tr><tr><td>&quot;75%&quot;</td><td>2.0</td><td>&quot;2024-10-08 17:30:38&quot;</td><td>&quot;2024-10-08 17:50:40&quot;</td><td>1.0</td><td>3.36</td><td>1.0</td><td>null</td><td>233.0</td><td>234.0</td><td>1.0</td><td>22.6</td><td>2.5</td><td>0.5</td><td>4.25</td><td>0.0</td><td>1.0</td><td>30.6</td><td>2.5</td><td>0.0</td></tr><tr><td>&quot;max&quot;</td><td>7.0</td><td>&quot;2024-12-31 23:59:21&quot;</td><td>&quot;2025-01-01 00:00:00&quot;</td><td>9.0</td><td>398608.625</td><td>99.0</td><td>&quot;Y&quot;</td><td>265.0</td><td>265.0</td><td>5.0</td><td>335544.4375</td><td>65.989998</td><td>41.299999</td><td>999.98999</td><td>1702.880005</td><td>2.0</td><td>335550.9375</td><td>2.52</td><td>1.75</td></tr></tbody></table></div>"
      ],
      "text/plain": [
       "shape: (9, 20)\n",
       "┌───────────┬───────────┬───────────┬───────────┬───┬───────────┬───────────┬───────────┬──────────┐\n",
       "│ statistic ┆ VendorID  ┆ tpep_pick ┆ tpep_drop ┆ … ┆ improveme ┆ total_amo ┆ congestio ┆ Airport_ │\n",
       "│ ---       ┆ ---       ┆ up_dateti ┆ off_datet ┆   ┆ nt_surcha ┆ unt       ┆ n_surchar ┆ fee      │\n",
       "│ str       ┆ f64       ┆ me        ┆ ime       ┆   ┆ rge       ┆ ---       ┆ ge        ┆ ---      │\n",
       "│           ┆           ┆ ---       ┆ ---       ┆   ┆ ---       ┆ f64       ┆ ---       ┆ f64      │\n",
       "│           ┆           ┆ str       ┆ str       ┆   ┆ f64       ┆           ┆ f64       ┆          │\n",
       "╞═══════════╪═══════════╪═══════════╪═══════════╪═══╪═══════════╪═══════════╪═══════════╪══════════╡\n",
       "│ count     ┆ 4.1169064 ┆ 41169064  ┆ 41169064  ┆ … ┆ 4.1169064 ┆ 4.1169064 ┆ 3.7077867 ┆ 3.707786 │\n",
       "│           ┆ e7        ┆           ┆           ┆   ┆ e7        ┆ e7        ┆ e7        ┆ 7e7      │\n",
       "│ null_coun ┆ 0.0       ┆ 0         ┆ 0         ┆ … ┆ 0.0       ┆ 0.0       ┆ 4.091197e ┆ 4.091197 │\n",
       "│ t         ┆           ┆           ┆           ┆   ┆           ┆           ┆ 6         ┆ e6       │\n",
       "│ mean      ┆ 1.764231  ┆ 2024-07-0 ┆ 2024-07-0 ┆ … ┆ 0.962954  ┆ 27.832537 ┆ 2.232153  ┆ 0.146999 │\n",
       "│           ┆           ┆ 6 10:06:1 ┆ 6 10:23:4 ┆   ┆           ┆           ┆           ┆          │\n",
       "│           ┆           ┆ 3.130000  ┆ 1.087000  ┆   ┆           ┆           ┆           ┆          │\n",
       "│ std       ┆ 0.425858  ┆ null      ┆ null      ┆ … ┆ 0.255181  ┆ 78.054024 ┆ 0.87464   ┆ 0.502031 │\n",
       "│ min       ┆ 1.0       ┆ 2024-01-0 ┆ 2024-01-0 ┆ … ┆ -1.0      ┆ -2265.449 ┆ -2.5      ┆ -1.75    │\n",
       "│           ┆           ┆ 1         ┆ 1         ┆   ┆           ┆ 951       ┆           ┆          │\n",
       "│           ┆           ┆ 00:00:00  ┆ 00:02:42  ┆   ┆           ┆           ┆           ┆          │\n",
       "│ 25%       ┆ 2.0       ┆ 2024-04-0 ┆ 2024-04-0 ┆ … ┆ 1.0       ┆ 15.75     ┆ 2.5       ┆ 0.0      │\n",
       "│           ┆           ┆ 6         ┆ 6         ┆   ┆           ┆           ┆           ┆          │\n",
       "│           ┆           ┆ 20:06:26  ┆ 20:22:54  ┆   ┆           ┆           ┆           ┆          │\n",
       "│ 50%       ┆ 2.0       ┆ 2024-07-0 ┆ 2024-07-0 ┆ … ┆ 1.0       ┆ 21.0      ┆ 2.5       ┆ 0.0      │\n",
       "│           ┆           ┆ 3         ┆ 3         ┆   ┆           ┆           ┆           ┆          │\n",
       "│           ┆           ┆ 23:28:31  ┆ 23:44:36  ┆   ┆           ┆           ┆           ┆          │\n",
       "│ 75%       ┆ 2.0       ┆ 2024-10-0 ┆ 2024-10-0 ┆ … ┆ 1.0       ┆ 30.6      ┆ 2.5       ┆ 0.0      │\n",
       "│           ┆           ┆ 8         ┆ 8         ┆   ┆           ┆           ┆           ┆          │\n",
       "│           ┆           ┆ 17:30:38  ┆ 17:50:40  ┆   ┆           ┆           ┆           ┆          │\n",
       "│ max       ┆ 7.0       ┆ 2024-12-3 ┆ 2025-01-0 ┆ … ┆ 2.0       ┆ 335550.93 ┆ 2.52      ┆ 1.75     │\n",
       "│           ┆           ┆ 1         ┆ 1         ┆   ┆           ┆ 75        ┆           ┆          │\n",
       "│           ┆           ┆ 23:59:21  ┆ 00:00:00  ┆   ┆           ┆           ┆           ┆          │\n",
       "└───────────┴───────────┴───────────┴───────────┴───┴───────────┴───────────┴───────────┴──────────┘"
      ]
     },
     "execution_count": 64,
     "metadata": {},
     "output_type": "execute_result"
    }
   ],
   "source": [
    "df = df.with_columns(pl.col(\"passenger_count\").fill_null(0))\n",
    "df.describe()"
   ]
  },
  {
   "cell_type": "code",
   "execution_count": 65,
   "id": "42ae8fea",
   "metadata": {},
   "outputs": [],
   "source": [
    "# remove rides with zero passengers\n",
    "df = df.filter(pl.col(\"passenger_count\") > 0)"
   ]
  },
  {
   "cell_type": "code",
   "execution_count": 66,
   "id": "6e91a82f",
   "metadata": {},
   "outputs": [],
   "source": [
    "# if a ride has over 6 passengers, replace the value with 6\n",
    "df = df.with_columns(\n",
    "    pl.when(pl.col(\"passenger_count\") > 6).then(6).otherwise(pl.col(\"passenger_count\"))\n",
    ")"
   ]
  },
  {
   "cell_type": "code",
   "execution_count": 67,
   "id": "357973e9",
   "metadata": {},
   "outputs": [],
   "source": [
    "# remove rides lasting over 2 hours\n",
    "df = df.filter(\n",
    "    (\n",
    "        pl.col(\"tpep_dropoff_datetime\") - pl.col(\"tpep_pickup_datetime\")\n",
    "    ).dt.total_minutes()\n",
    "    <= 120\n",
    ")"
   ]
  },
  {
   "cell_type": "code",
   "execution_count": 68,
   "id": "c302b4db",
   "metadata": {},
   "outputs": [],
   "source": [
    "# in all money-related columns, replace values with absolute value to fix negative amounts\n",
    "money_columns = [\n",
    "    \"fare_amount\",\n",
    "    \"extra\",\n",
    "    \"mta_tax\",\n",
    "    \"tip_amount\",\n",
    "    \"tolls_amount\",\n",
    "    \"improvement_surcharge\",\n",
    "    \"total_amount\",\n",
    "    \"congestion_surcharge\",\n",
    "    \"Airport_fee\",\n",
    "]\n",
    "\n",
    "df = df.with_columns(*[pl.col(col).abs().alias(col) for col in money_columns])"
   ]
  },
  {
   "cell_type": "code",
   "execution_count": 69,
   "id": "9f997b83",
   "metadata": {},
   "outputs": [],
   "source": [
    "# remove rides with over 1000 dollars in any money-related column\n",
    "for col in money_columns:\n",
    "    df = df.filter(pl.col(col) <= 1000)"
   ]
  },
  {
   "cell_type": "code",
   "execution_count": 70,
   "id": "14d29b7f",
   "metadata": {},
   "outputs": [],
   "source": [
    "# remove rows with values of RatecodeID or VendorID missing or outside those defined in the data dictionary\n",
    "valid_vendor_ids = [1, 2, 6, 7]\n",
    "valid_ratecode_ids = [1, 2, 3, 4, 5, 6, 99]\n",
    "df = df.filter(\n",
    "    (pl.col(\"VendorID\").is_in(valid_vendor_ids)) & (pl.col(\"VendorID\").is_not_null())\n",
    ").filter(\n",
    "    (pl.col(\"RatecodeID\").is_in(valid_ratecode_ids))\n",
    "    & (pl.col(\"RatecodeID\").is_not_null())\n",
    ")"
   ]
  },
  {
   "cell_type": "markdown",
   "id": "7149f8de",
   "metadata": {},
   "source": [
    "# 3. Data transformation <a id=\"data-transformation\"></a>"
   ]
  },
  {
   "cell_type": "code",
   "execution_count": 71,
   "id": "54186442",
   "metadata": {},
   "outputs": [],
   "source": [
    "# combine payment type values for \"No charge\", \"Dispute\",\n",
    "# \"Unknown\" and \"Voided trip\" into one type, so we have only credit card, cash, or other\n",
    "# new mapping: 4 -> other\n",
    "\n",
    "df = df.with_columns(\n",
    "    pl.when(pl.col(\"payment_type\").is_in([3, 4, 5, 6]))\n",
    "    .then(4)\n",
    "    .otherwise(pl.col(\"payment_type\"))\n",
    "    .alias(\"payment_type\")\n",
    ")"
   ]
  },
  {
   "cell_type": "code",
   "execution_count": 72,
   "id": "7eb5f24c",
   "metadata": {},
   "outputs": [
    {
     "data": {
      "text/html": [
       "<div><style>\n",
       ".dataframe > thead > tr,\n",
       ".dataframe > tbody > tr {\n",
       "  text-align: right;\n",
       "  white-space: pre-wrap;\n",
       "}\n",
       "</style>\n",
       "<small>shape: (265, 4)</small><table border=\"1\" class=\"dataframe\"><thead><tr><th>LocationID</th><th>Borough</th><th>Zone</th><th>service_zone</th></tr><tr><td>u16</td><td>str</td><td>str</td><td>str</td></tr></thead><tbody><tr><td>1</td><td>&quot;EWR&quot;</td><td>&quot;Newark Airport&quot;</td><td>&quot;EWR&quot;</td></tr><tr><td>2</td><td>&quot;Queens&quot;</td><td>&quot;Jamaica Bay&quot;</td><td>&quot;Boro Zone&quot;</td></tr><tr><td>3</td><td>&quot;Bronx&quot;</td><td>&quot;Allerton/Pelham Gardens&quot;</td><td>&quot;Boro Zone&quot;</td></tr><tr><td>4</td><td>&quot;Manhattan&quot;</td><td>&quot;Alphabet City&quot;</td><td>&quot;Yellow Zone&quot;</td></tr><tr><td>5</td><td>&quot;Staten Island&quot;</td><td>&quot;Arden Heights&quot;</td><td>&quot;Boro Zone&quot;</td></tr><tr><td>&hellip;</td><td>&hellip;</td><td>&hellip;</td><td>&hellip;</td></tr><tr><td>261</td><td>&quot;Manhattan&quot;</td><td>&quot;World Trade Center&quot;</td><td>&quot;Yellow Zone&quot;</td></tr><tr><td>262</td><td>&quot;Manhattan&quot;</td><td>&quot;Yorkville East&quot;</td><td>&quot;Yellow Zone&quot;</td></tr><tr><td>263</td><td>&quot;Manhattan&quot;</td><td>&quot;Yorkville West&quot;</td><td>&quot;Yellow Zone&quot;</td></tr><tr><td>264</td><td>&quot;Unknown&quot;</td><td>&quot;N/A&quot;</td><td>&quot;N/A&quot;</td></tr><tr><td>265</td><td>&quot;N/A&quot;</td><td>&quot;Outside of NYC&quot;</td><td>&quot;N/A&quot;</td></tr></tbody></table></div>"
      ],
      "text/plain": [
       "shape: (265, 4)\n",
       "┌────────────┬───────────────┬─────────────────────────┬──────────────┐\n",
       "│ LocationID ┆ Borough       ┆ Zone                    ┆ service_zone │\n",
       "│ ---        ┆ ---           ┆ ---                     ┆ ---          │\n",
       "│ u16        ┆ str           ┆ str                     ┆ str          │\n",
       "╞════════════╪═══════════════╪═════════════════════════╪══════════════╡\n",
       "│ 1          ┆ EWR           ┆ Newark Airport          ┆ EWR          │\n",
       "│ 2          ┆ Queens        ┆ Jamaica Bay             ┆ Boro Zone    │\n",
       "│ 3          ┆ Bronx         ┆ Allerton/Pelham Gardens ┆ Boro Zone    │\n",
       "│ 4          ┆ Manhattan     ┆ Alphabet City           ┆ Yellow Zone  │\n",
       "│ 5          ┆ Staten Island ┆ Arden Heights           ┆ Boro Zone    │\n",
       "│ …          ┆ …             ┆ …                       ┆ …            │\n",
       "│ 261        ┆ Manhattan     ┆ World Trade Center      ┆ Yellow Zone  │\n",
       "│ 262        ┆ Manhattan     ┆ Yorkville East          ┆ Yellow Zone  │\n",
       "│ 263        ┆ Manhattan     ┆ Yorkville West          ┆ Yellow Zone  │\n",
       "│ 264        ┆ Unknown       ┆ N/A                     ┆ N/A          │\n",
       "│ 265        ┆ N/A           ┆ Outside of NYC          ┆ N/A          │\n",
       "└────────────┴───────────────┴─────────────────────────┴──────────────┘"
      ]
     },
     "execution_count": 72,
     "metadata": {},
     "output_type": "execute_result"
    }
   ],
   "source": [
    "df_taxi_zones"
   ]
  },
  {
   "cell_type": "code",
   "execution_count": 73,
   "id": "f583d9d1",
   "metadata": {},
   "outputs": [
    {
     "data": {
      "text/html": [
       "<div><style>\n",
       ".dataframe > thead > tr,\n",
       ".dataframe > tbody > tr {\n",
       "  text-align: right;\n",
       "  white-space: pre-wrap;\n",
       "}\n",
       "</style>\n",
       "<small>shape: (36_636_097, 23)</small><table border=\"1\" class=\"dataframe\"><thead><tr><th>VendorID</th><th>tpep_pickup_datetime</th><th>tpep_dropoff_datetime</th><th>passenger_count</th><th>trip_distance</th><th>RatecodeID</th><th>store_and_fwd_flag</th><th>PULocationID</th><th>DOLocationID</th><th>payment_type</th><th>fare_amount</th><th>extra</th><th>mta_tax</th><th>tip_amount</th><th>tolls_amount</th><th>improvement_surcharge</th><th>total_amount</th><th>congestion_surcharge</th><th>Airport_fee</th><th>literal</th><th>Borough</th><th>Zone</th><th>service_zone</th></tr><tr><td>u8</td><td>datetime[ms]</td><td>datetime[ms]</td><td>u8</td><td>f32</td><td>u8</td><td>str</td><td>u16</td><td>u16</td><td>u8</td><td>f32</td><td>f32</td><td>f32</td><td>f32</td><td>f32</td><td>i8</td><td>f32</td><td>f32</td><td>f32</td><td>u8</td><td>str</td><td>str</td><td>str</td></tr></thead><tbody><tr><td>2</td><td>2024-01-01 00:57:55</td><td>2024-01-01 01:17:43</td><td>1</td><td>1.72</td><td>1</td><td>&quot;N&quot;</td><td>186</td><td>79</td><td>2</td><td>17.700001</td><td>1.0</td><td>0.5</td><td>0.0</td><td>0.0</td><td>1</td><td>22.700001</td><td>2.5</td><td>0.0</td><td>1</td><td>&quot;Manhattan&quot;</td><td>&quot;Penn Station/Madison Sq West&quot;</td><td>&quot;Yellow Zone&quot;</td></tr><tr><td>1</td><td>2024-01-01 00:03:00</td><td>2024-01-01 00:09:36</td><td>1</td><td>1.8</td><td>1</td><td>&quot;N&quot;</td><td>140</td><td>236</td><td>1</td><td>10.0</td><td>3.5</td><td>0.5</td><td>3.75</td><td>0.0</td><td>1</td><td>18.75</td><td>2.5</td><td>0.0</td><td>1</td><td>&quot;Manhattan&quot;</td><td>&quot;Lenox Hill East&quot;</td><td>&quot;Yellow Zone&quot;</td></tr><tr><td>1</td><td>2024-01-01 00:17:06</td><td>2024-01-01 00:35:01</td><td>1</td><td>4.7</td><td>1</td><td>&quot;N&quot;</td><td>236</td><td>79</td><td>1</td><td>23.299999</td><td>3.5</td><td>0.5</td><td>3.0</td><td>0.0</td><td>1</td><td>31.299999</td><td>2.5</td><td>0.0</td><td>1</td><td>&quot;Manhattan&quot;</td><td>&quot;Upper East Side North&quot;</td><td>&quot;Yellow Zone&quot;</td></tr><tr><td>1</td><td>2024-01-01 00:36:38</td><td>2024-01-01 00:44:56</td><td>1</td><td>1.4</td><td>1</td><td>&quot;N&quot;</td><td>79</td><td>211</td><td>1</td><td>10.0</td><td>3.5</td><td>0.5</td><td>2.0</td><td>0.0</td><td>1</td><td>17.0</td><td>2.5</td><td>0.0</td><td>1</td><td>&quot;Manhattan&quot;</td><td>&quot;East Village&quot;</td><td>&quot;Yellow Zone&quot;</td></tr><tr><td>1</td><td>2024-01-01 00:46:51</td><td>2024-01-01 00:52:57</td><td>1</td><td>0.8</td><td>1</td><td>&quot;N&quot;</td><td>211</td><td>148</td><td>1</td><td>7.9</td><td>3.5</td><td>0.5</td><td>3.2</td><td>0.0</td><td>1</td><td>16.1</td><td>2.5</td><td>0.0</td><td>1</td><td>&quot;Manhattan&quot;</td><td>&quot;SoHo&quot;</td><td>&quot;Yellow Zone&quot;</td></tr><tr><td>&hellip;</td><td>&hellip;</td><td>&hellip;</td><td>&hellip;</td><td>&hellip;</td><td>&hellip;</td><td>&hellip;</td><td>&hellip;</td><td>&hellip;</td><td>&hellip;</td><td>&hellip;</td><td>&hellip;</td><td>&hellip;</td><td>&hellip;</td><td>&hellip;</td><td>&hellip;</td><td>&hellip;</td><td>&hellip;</td><td>&hellip;</td><td>&hellip;</td><td>&hellip;</td><td>&hellip;</td><td>&hellip;</td></tr><tr><td>2</td><td>2024-12-31 22:56:33</td><td>2024-12-31 23:05:57</td><td>1</td><td>1.9</td><td>1</td><td>&quot;N&quot;</td><td>237</td><td>262</td><td>1</td><td>12.1</td><td>1.0</td><td>0.5</td><td>1.88</td><td>0.0</td><td>1</td><td>18.98</td><td>2.5</td><td>0.0</td><td>1</td><td>&quot;Manhattan&quot;</td><td>&quot;Upper East Side South&quot;</td><td>&quot;Yellow Zone&quot;</td></tr><tr><td>2</td><td>2024-12-31 23:18:37</td><td>2024-12-31 23:32:32</td><td>1</td><td>3.88</td><td>1</td><td>&quot;N&quot;</td><td>237</td><td>226</td><td>2</td><td>19.1</td><td>1.0</td><td>0.5</td><td>0.0</td><td>0.0</td><td>1</td><td>24.1</td><td>2.5</td><td>0.0</td><td>1</td><td>&quot;Manhattan&quot;</td><td>&quot;Upper East Side South&quot;</td><td>&quot;Yellow Zone&quot;</td></tr><tr><td>2</td><td>2024-12-31 23:08:52</td><td>2024-12-31 23:34:59</td><td>1</td><td>5.53</td><td>1</td><td>&quot;N&quot;</td><td>142</td><td>255</td><td>1</td><td>29.6</td><td>1.0</td><td>0.5</td><td>2.0</td><td>0.0</td><td>1</td><td>36.599998</td><td>2.5</td><td>0.0</td><td>1</td><td>&quot;Manhattan&quot;</td><td>&quot;Lincoln Square East&quot;</td><td>&quot;Yellow Zone&quot;</td></tr><tr><td>2</td><td>2024-12-31 23:15:55</td><td>2024-12-31 23:24:24</td><td>1</td><td>0.89</td><td>1</td><td>&quot;N&quot;</td><td>43</td><td>48</td><td>1</td><td>9.3</td><td>1.0</td><td>0.5</td><td>2.14</td><td>0.0</td><td>1</td><td>16.440001</td><td>2.5</td><td>0.0</td><td>1</td><td>&quot;Manhattan&quot;</td><td>&quot;Central Park&quot;</td><td>&quot;Yellow Zone&quot;</td></tr><tr><td>2</td><td>2024-12-31 23:13:22</td><td>2024-12-31 23:49:57</td><td>1</td><td>20.49</td><td>1</td><td>&quot;N&quot;</td><td>132</td><td>33</td><td>1</td><td>77.900002</td><td>1.0</td><td>0.5</td><td>10.0</td><td>0.0</td><td>1</td><td>92.150002</td><td>0.0</td><td>1.75</td><td>1</td><td>&quot;Queens&quot;</td><td>&quot;JFK Airport&quot;</td><td>&quot;Airports&quot;</td></tr></tbody></table></div>"
      ],
      "text/plain": [
       "shape: (36_636_097, 23)\n",
       "┌──────────┬────────────┬────────────┬───────────┬───┬─────────┬───────────┬───────────┬───────────┐\n",
       "│ VendorID ┆ tpep_picku ┆ tpep_dropo ┆ passenger ┆ … ┆ literal ┆ Borough   ┆ Zone      ┆ service_z │\n",
       "│ ---      ┆ p_datetime ┆ ff_datetim ┆ _count    ┆   ┆ ---     ┆ ---       ┆ ---       ┆ one       │\n",
       "│ u8       ┆ ---        ┆ e          ┆ ---       ┆   ┆ u8      ┆ str       ┆ str       ┆ ---       │\n",
       "│          ┆ datetime[m ┆ ---        ┆ u8        ┆   ┆         ┆           ┆           ┆ str       │\n",
       "│          ┆ s]         ┆ datetime[m ┆           ┆   ┆         ┆           ┆           ┆           │\n",
       "│          ┆            ┆ s]         ┆           ┆   ┆         ┆           ┆           ┆           │\n",
       "╞══════════╪════════════╪════════════╪═══════════╪═══╪═════════╪═══════════╪═══════════╪═══════════╡\n",
       "│ 2        ┆ 2024-01-01 ┆ 2024-01-01 ┆ 1         ┆ … ┆ 1       ┆ Manhattan ┆ Penn Stat ┆ Yellow    │\n",
       "│          ┆ 00:57:55   ┆ 01:17:43   ┆           ┆   ┆         ┆           ┆ ion/Madis ┆ Zone      │\n",
       "│          ┆            ┆            ┆           ┆   ┆         ┆           ┆ on Sq     ┆           │\n",
       "│          ┆            ┆            ┆           ┆   ┆         ┆           ┆ West      ┆           │\n",
       "│ 1        ┆ 2024-01-01 ┆ 2024-01-01 ┆ 1         ┆ … ┆ 1       ┆ Manhattan ┆ Lenox     ┆ Yellow    │\n",
       "│          ┆ 00:03:00   ┆ 00:09:36   ┆           ┆   ┆         ┆           ┆ Hill East ┆ Zone      │\n",
       "│ 1        ┆ 2024-01-01 ┆ 2024-01-01 ┆ 1         ┆ … ┆ 1       ┆ Manhattan ┆ Upper     ┆ Yellow    │\n",
       "│          ┆ 00:17:06   ┆ 00:35:01   ┆           ┆   ┆         ┆           ┆ East Side ┆ Zone      │\n",
       "│          ┆            ┆            ┆           ┆   ┆         ┆           ┆ North     ┆           │\n",
       "│ 1        ┆ 2024-01-01 ┆ 2024-01-01 ┆ 1         ┆ … ┆ 1       ┆ Manhattan ┆ East      ┆ Yellow    │\n",
       "│          ┆ 00:36:38   ┆ 00:44:56   ┆           ┆   ┆         ┆           ┆ Village   ┆ Zone      │\n",
       "│ 1        ┆ 2024-01-01 ┆ 2024-01-01 ┆ 1         ┆ … ┆ 1       ┆ Manhattan ┆ SoHo      ┆ Yellow    │\n",
       "│          ┆ 00:46:51   ┆ 00:52:57   ┆           ┆   ┆         ┆           ┆           ┆ Zone      │\n",
       "│ …        ┆ …          ┆ …          ┆ …         ┆ … ┆ …       ┆ …         ┆ …         ┆ …         │\n",
       "│ 2        ┆ 2024-12-31 ┆ 2024-12-31 ┆ 1         ┆ … ┆ 1       ┆ Manhattan ┆ Upper     ┆ Yellow    │\n",
       "│          ┆ 22:56:33   ┆ 23:05:57   ┆           ┆   ┆         ┆           ┆ East Side ┆ Zone      │\n",
       "│          ┆            ┆            ┆           ┆   ┆         ┆           ┆ South     ┆           │\n",
       "│ 2        ┆ 2024-12-31 ┆ 2024-12-31 ┆ 1         ┆ … ┆ 1       ┆ Manhattan ┆ Upper     ┆ Yellow    │\n",
       "│          ┆ 23:18:37   ┆ 23:32:32   ┆           ┆   ┆         ┆           ┆ East Side ┆ Zone      │\n",
       "│          ┆            ┆            ┆           ┆   ┆         ┆           ┆ South     ┆           │\n",
       "│ 2        ┆ 2024-12-31 ┆ 2024-12-31 ┆ 1         ┆ … ┆ 1       ┆ Manhattan ┆ Lincoln   ┆ Yellow    │\n",
       "│          ┆ 23:08:52   ┆ 23:34:59   ┆           ┆   ┆         ┆           ┆ Square    ┆ Zone      │\n",
       "│          ┆            ┆            ┆           ┆   ┆         ┆           ┆ East      ┆           │\n",
       "│ 2        ┆ 2024-12-31 ┆ 2024-12-31 ┆ 1         ┆ … ┆ 1       ┆ Manhattan ┆ Central   ┆ Yellow    │\n",
       "│          ┆ 23:15:55   ┆ 23:24:24   ┆           ┆   ┆         ┆           ┆ Park      ┆ Zone      │\n",
       "│ 2        ┆ 2024-12-31 ┆ 2024-12-31 ┆ 1         ┆ … ┆ 1       ┆ Queens    ┆ JFK       ┆ Airports  │\n",
       "│          ┆ 23:13:22   ┆ 23:49:57   ┆           ┆   ┆         ┆           ┆ Airport   ┆           │\n",
       "└──────────┴────────────┴────────────┴───────────┴───┴─────────┴───────────┴───────────┴───────────┘"
      ]
     },
     "execution_count": 73,
     "metadata": {},
     "output_type": "execute_result"
    }
   ],
   "source": [
    "df.join(df_taxi_zones, left_on=\"PULocationID\", right_on=\"LocationID\", how=\"left\")"
   ]
  },
  {
   "cell_type": "code",
   "execution_count": 74,
   "id": "d67f7635",
   "metadata": {},
   "outputs": [],
   "source": [
    "# First join for pickup location\n",
    "df = df.join(\n",
    "    df_taxi_zones.select([\"LocationID\", \"Borough\"]),\n",
    "    left_on=\"PULocationID\",\n",
    "    right_on=\"LocationID\",\n",
    "    how=\"left\",\n",
    ")\n",
    "df = df.rename({\"Borough\": \"pickup_borough\"})\n",
    "df = df.drop(\"PULocationID\")\n",
    "\n",
    "# Second join for dropoff location\n",
    "df = df.join(\n",
    "    df_taxi_zones.select([\"LocationID\", \"Borough\"]),\n",
    "    left_on=\"DOLocationID\",\n",
    "    right_on=\"LocationID\",\n",
    "    how=\"left\",\n",
    ")\n",
    "df = df.rename({\"Borough\": \"dropoff_borough\"})\n",
    "df = df.drop(\"DOLocationID\")"
   ]
  },
  {
   "cell_type": "code",
   "execution_count": 75,
   "id": "64bde317",
   "metadata": {},
   "outputs": [
    {
     "data": {
      "text/html": [
       "<div><style>\n",
       ".dataframe > thead > tr,\n",
       ".dataframe > tbody > tr {\n",
       "  text-align: right;\n",
       "  white-space: pre-wrap;\n",
       "}\n",
       "</style>\n",
       "<small>shape: (36_636_097, 20)</small><table border=\"1\" class=\"dataframe\"><thead><tr><th>VendorID</th><th>tpep_pickup_datetime</th><th>tpep_dropoff_datetime</th><th>passenger_count</th><th>trip_distance</th><th>RatecodeID</th><th>store_and_fwd_flag</th><th>payment_type</th><th>fare_amount</th><th>extra</th><th>mta_tax</th><th>tip_amount</th><th>tolls_amount</th><th>improvement_surcharge</th><th>total_amount</th><th>congestion_surcharge</th><th>Airport_fee</th><th>literal</th><th>pickup_borough</th><th>dropoff_borough</th></tr><tr><td>u8</td><td>datetime[ms]</td><td>datetime[ms]</td><td>u8</td><td>f32</td><td>u8</td><td>str</td><td>u8</td><td>f32</td><td>f32</td><td>f32</td><td>f32</td><td>f32</td><td>i8</td><td>f32</td><td>f32</td><td>f32</td><td>u8</td><td>str</td><td>str</td></tr></thead><tbody><tr><td>2</td><td>2024-01-01 00:57:55</td><td>2024-01-01 01:17:43</td><td>1</td><td>1.72</td><td>1</td><td>&quot;N&quot;</td><td>2</td><td>17.700001</td><td>1.0</td><td>0.5</td><td>0.0</td><td>0.0</td><td>1</td><td>22.700001</td><td>2.5</td><td>0.0</td><td>1</td><td>&quot;Manhattan&quot;</td><td>&quot;Manhattan&quot;</td></tr><tr><td>1</td><td>2024-01-01 00:03:00</td><td>2024-01-01 00:09:36</td><td>1</td><td>1.8</td><td>1</td><td>&quot;N&quot;</td><td>1</td><td>10.0</td><td>3.5</td><td>0.5</td><td>3.75</td><td>0.0</td><td>1</td><td>18.75</td><td>2.5</td><td>0.0</td><td>1</td><td>&quot;Manhattan&quot;</td><td>&quot;Manhattan&quot;</td></tr><tr><td>1</td><td>2024-01-01 00:17:06</td><td>2024-01-01 00:35:01</td><td>1</td><td>4.7</td><td>1</td><td>&quot;N&quot;</td><td>1</td><td>23.299999</td><td>3.5</td><td>0.5</td><td>3.0</td><td>0.0</td><td>1</td><td>31.299999</td><td>2.5</td><td>0.0</td><td>1</td><td>&quot;Manhattan&quot;</td><td>&quot;Manhattan&quot;</td></tr><tr><td>1</td><td>2024-01-01 00:36:38</td><td>2024-01-01 00:44:56</td><td>1</td><td>1.4</td><td>1</td><td>&quot;N&quot;</td><td>1</td><td>10.0</td><td>3.5</td><td>0.5</td><td>2.0</td><td>0.0</td><td>1</td><td>17.0</td><td>2.5</td><td>0.0</td><td>1</td><td>&quot;Manhattan&quot;</td><td>&quot;Manhattan&quot;</td></tr><tr><td>1</td><td>2024-01-01 00:46:51</td><td>2024-01-01 00:52:57</td><td>1</td><td>0.8</td><td>1</td><td>&quot;N&quot;</td><td>1</td><td>7.9</td><td>3.5</td><td>0.5</td><td>3.2</td><td>0.0</td><td>1</td><td>16.1</td><td>2.5</td><td>0.0</td><td>1</td><td>&quot;Manhattan&quot;</td><td>&quot;Manhattan&quot;</td></tr><tr><td>&hellip;</td><td>&hellip;</td><td>&hellip;</td><td>&hellip;</td><td>&hellip;</td><td>&hellip;</td><td>&hellip;</td><td>&hellip;</td><td>&hellip;</td><td>&hellip;</td><td>&hellip;</td><td>&hellip;</td><td>&hellip;</td><td>&hellip;</td><td>&hellip;</td><td>&hellip;</td><td>&hellip;</td><td>&hellip;</td><td>&hellip;</td><td>&hellip;</td></tr><tr><td>2</td><td>2024-12-31 22:56:33</td><td>2024-12-31 23:05:57</td><td>1</td><td>1.9</td><td>1</td><td>&quot;N&quot;</td><td>1</td><td>12.1</td><td>1.0</td><td>0.5</td><td>1.88</td><td>0.0</td><td>1</td><td>18.98</td><td>2.5</td><td>0.0</td><td>1</td><td>&quot;Manhattan&quot;</td><td>&quot;Manhattan&quot;</td></tr><tr><td>2</td><td>2024-12-31 23:18:37</td><td>2024-12-31 23:32:32</td><td>1</td><td>3.88</td><td>1</td><td>&quot;N&quot;</td><td>2</td><td>19.1</td><td>1.0</td><td>0.5</td><td>0.0</td><td>0.0</td><td>1</td><td>24.1</td><td>2.5</td><td>0.0</td><td>1</td><td>&quot;Manhattan&quot;</td><td>&quot;Queens&quot;</td></tr><tr><td>2</td><td>2024-12-31 23:08:52</td><td>2024-12-31 23:34:59</td><td>1</td><td>5.53</td><td>1</td><td>&quot;N&quot;</td><td>1</td><td>29.6</td><td>1.0</td><td>0.5</td><td>2.0</td><td>0.0</td><td>1</td><td>36.599998</td><td>2.5</td><td>0.0</td><td>1</td><td>&quot;Manhattan&quot;</td><td>&quot;Brooklyn&quot;</td></tr><tr><td>2</td><td>2024-12-31 23:15:55</td><td>2024-12-31 23:24:24</td><td>1</td><td>0.89</td><td>1</td><td>&quot;N&quot;</td><td>1</td><td>9.3</td><td>1.0</td><td>0.5</td><td>2.14</td><td>0.0</td><td>1</td><td>16.440001</td><td>2.5</td><td>0.0</td><td>1</td><td>&quot;Manhattan&quot;</td><td>&quot;Manhattan&quot;</td></tr><tr><td>2</td><td>2024-12-31 23:13:22</td><td>2024-12-31 23:49:57</td><td>1</td><td>20.49</td><td>1</td><td>&quot;N&quot;</td><td>1</td><td>77.900002</td><td>1.0</td><td>0.5</td><td>10.0</td><td>0.0</td><td>1</td><td>92.150002</td><td>0.0</td><td>1.75</td><td>1</td><td>&quot;Queens&quot;</td><td>&quot;Brooklyn&quot;</td></tr></tbody></table></div>"
      ],
      "text/plain": [
       "shape: (36_636_097, 20)\n",
       "┌──────────┬────────────┬────────────┬───────────┬───┬───────────┬─────────┬───────────┬───────────┐\n",
       "│ VendorID ┆ tpep_picku ┆ tpep_dropo ┆ passenger ┆ … ┆ Airport_f ┆ literal ┆ pickup_bo ┆ dropoff_b │\n",
       "│ ---      ┆ p_datetime ┆ ff_datetim ┆ _count    ┆   ┆ ee        ┆ ---     ┆ rough     ┆ orough    │\n",
       "│ u8       ┆ ---        ┆ e          ┆ ---       ┆   ┆ ---       ┆ u8      ┆ ---       ┆ ---       │\n",
       "│          ┆ datetime[m ┆ ---        ┆ u8        ┆   ┆ f32       ┆         ┆ str       ┆ str       │\n",
       "│          ┆ s]         ┆ datetime[m ┆           ┆   ┆           ┆         ┆           ┆           │\n",
       "│          ┆            ┆ s]         ┆           ┆   ┆           ┆         ┆           ┆           │\n",
       "╞══════════╪════════════╪════════════╪═══════════╪═══╪═══════════╪═════════╪═══════════╪═══════════╡\n",
       "│ 2        ┆ 2024-01-01 ┆ 2024-01-01 ┆ 1         ┆ … ┆ 0.0       ┆ 1       ┆ Manhattan ┆ Manhattan │\n",
       "│          ┆ 00:57:55   ┆ 01:17:43   ┆           ┆   ┆           ┆         ┆           ┆           │\n",
       "│ 1        ┆ 2024-01-01 ┆ 2024-01-01 ┆ 1         ┆ … ┆ 0.0       ┆ 1       ┆ Manhattan ┆ Manhattan │\n",
       "│          ┆ 00:03:00   ┆ 00:09:36   ┆           ┆   ┆           ┆         ┆           ┆           │\n",
       "│ 1        ┆ 2024-01-01 ┆ 2024-01-01 ┆ 1         ┆ … ┆ 0.0       ┆ 1       ┆ Manhattan ┆ Manhattan │\n",
       "│          ┆ 00:17:06   ┆ 00:35:01   ┆           ┆   ┆           ┆         ┆           ┆           │\n",
       "│ 1        ┆ 2024-01-01 ┆ 2024-01-01 ┆ 1         ┆ … ┆ 0.0       ┆ 1       ┆ Manhattan ┆ Manhattan │\n",
       "│          ┆ 00:36:38   ┆ 00:44:56   ┆           ┆   ┆           ┆         ┆           ┆           │\n",
       "│ 1        ┆ 2024-01-01 ┆ 2024-01-01 ┆ 1         ┆ … ┆ 0.0       ┆ 1       ┆ Manhattan ┆ Manhattan │\n",
       "│          ┆ 00:46:51   ┆ 00:52:57   ┆           ┆   ┆           ┆         ┆           ┆           │\n",
       "│ …        ┆ …          ┆ …          ┆ …         ┆ … ┆ …         ┆ …       ┆ …         ┆ …         │\n",
       "│ 2        ┆ 2024-12-31 ┆ 2024-12-31 ┆ 1         ┆ … ┆ 0.0       ┆ 1       ┆ Manhattan ┆ Manhattan │\n",
       "│          ┆ 22:56:33   ┆ 23:05:57   ┆           ┆   ┆           ┆         ┆           ┆           │\n",
       "│ 2        ┆ 2024-12-31 ┆ 2024-12-31 ┆ 1         ┆ … ┆ 0.0       ┆ 1       ┆ Manhattan ┆ Queens    │\n",
       "│          ┆ 23:18:37   ┆ 23:32:32   ┆           ┆   ┆           ┆         ┆           ┆           │\n",
       "│ 2        ┆ 2024-12-31 ┆ 2024-12-31 ┆ 1         ┆ … ┆ 0.0       ┆ 1       ┆ Manhattan ┆ Brooklyn  │\n",
       "│          ┆ 23:08:52   ┆ 23:34:59   ┆           ┆   ┆           ┆         ┆           ┆           │\n",
       "│ 2        ┆ 2024-12-31 ┆ 2024-12-31 ┆ 1         ┆ … ┆ 0.0       ┆ 1       ┆ Manhattan ┆ Manhattan │\n",
       "│          ┆ 23:15:55   ┆ 23:24:24   ┆           ┆   ┆           ┆         ┆           ┆           │\n",
       "│ 2        ┆ 2024-12-31 ┆ 2024-12-31 ┆ 1         ┆ … ┆ 1.75      ┆ 1       ┆ Queens    ┆ Brooklyn  │\n",
       "│          ┆ 23:13:22   ┆ 23:49:57   ┆           ┆   ┆           ┆         ┆           ┆           │\n",
       "└──────────┴────────────┴────────────┴───────────┴───┴───────────┴─────────┴───────────┴───────────┘"
      ]
     },
     "execution_count": 75,
     "metadata": {},
     "output_type": "execute_result"
    }
   ],
   "source": [
    "df"
   ]
  },
  {
   "cell_type": "code",
   "execution_count": 76,
   "id": "177e4aff",
   "metadata": {},
   "outputs": [],
   "source": [
    "# add boolean variable is_airport_ride, true if there is non-zero airport fee\n",
    "df = df.with_columns((pl.col(\"Airport_fee\") > 0).alias(\"is_airport_ride\"))"
   ]
  },
  {
   "cell_type": "code",
   "execution_count": 77,
   "id": "61c83ddc",
   "metadata": {},
   "outputs": [],
   "source": [
    "# add boolean variable is_rush_hour, rush hours are defined as 6:30–9:30 and 15:30-20:00 during weekdays\n",
    "df = df.with_columns(\n",
    "    pl.when(\n",
    "        (\n",
    "            (\n",
    "                (pl.col(\"tpep_pickup_datetime\").dt.hour() >= 6)\n",
    "                & (pl.col(\"tpep_pickup_datetime\").dt.hour() < 9)\n",
    "                & (pl.col(\"tpep_pickup_datetime\").dt.minute() >= 30)\n",
    "            )\n",
    "            | (\n",
    "                (pl.col(\"tpep_pickup_datetime\").dt.hour() >= 15)\n",
    "                & (pl.col(\"tpep_pickup_datetime\").dt.hour() < 20)\n",
    "            )\n",
    "        )\n",
    "        & (pl.col(\"tpep_pickup_datetime\").dt.weekday() < 5)\n",
    "    )\n",
    "    .then(True)\n",
    "    .otherwise(False)\n",
    "    .alias(\"is_rush_hour\")\n",
    ")"
   ]
  },
  {
   "cell_type": "code",
   "execution_count": 78,
   "id": "9a621d93",
   "metadata": {},
   "outputs": [
    {
     "data": {
      "text/html": [
       "<div><style>\n",
       ".dataframe > thead > tr,\n",
       ".dataframe > tbody > tr {\n",
       "  text-align: right;\n",
       "  white-space: pre-wrap;\n",
       "}\n",
       "</style>\n",
       "<small>shape: (36_636_097, 22)</small><table border=\"1\" class=\"dataframe\"><thead><tr><th>VendorID</th><th>tpep_pickup_datetime</th><th>tpep_dropoff_datetime</th><th>passenger_count</th><th>trip_distance</th><th>RatecodeID</th><th>store_and_fwd_flag</th><th>payment_type</th><th>fare_amount</th><th>extra</th><th>mta_tax</th><th>tip_amount</th><th>tolls_amount</th><th>improvement_surcharge</th><th>total_amount</th><th>congestion_surcharge</th><th>Airport_fee</th><th>literal</th><th>pickup_borough</th><th>dropoff_borough</th><th>is_airport_ride</th><th>is_rush_hour</th></tr><tr><td>u8</td><td>datetime[ms]</td><td>datetime[ms]</td><td>u8</td><td>f32</td><td>u8</td><td>str</td><td>u8</td><td>f32</td><td>f32</td><td>f32</td><td>f32</td><td>f32</td><td>i8</td><td>f32</td><td>f32</td><td>f32</td><td>u8</td><td>str</td><td>str</td><td>bool</td><td>bool</td></tr></thead><tbody><tr><td>2</td><td>2024-01-01 00:57:55</td><td>2024-01-01 01:17:43</td><td>1</td><td>1.72</td><td>1</td><td>&quot;N&quot;</td><td>2</td><td>17.700001</td><td>1.0</td><td>0.5</td><td>0.0</td><td>0.0</td><td>1</td><td>22.700001</td><td>2.5</td><td>0.0</td><td>1</td><td>&quot;Manhattan&quot;</td><td>&quot;Manhattan&quot;</td><td>false</td><td>false</td></tr><tr><td>1</td><td>2024-01-01 00:03:00</td><td>2024-01-01 00:09:36</td><td>1</td><td>1.8</td><td>1</td><td>&quot;N&quot;</td><td>1</td><td>10.0</td><td>3.5</td><td>0.5</td><td>3.75</td><td>0.0</td><td>1</td><td>18.75</td><td>2.5</td><td>0.0</td><td>1</td><td>&quot;Manhattan&quot;</td><td>&quot;Manhattan&quot;</td><td>false</td><td>false</td></tr><tr><td>1</td><td>2024-01-01 00:17:06</td><td>2024-01-01 00:35:01</td><td>1</td><td>4.7</td><td>1</td><td>&quot;N&quot;</td><td>1</td><td>23.299999</td><td>3.5</td><td>0.5</td><td>3.0</td><td>0.0</td><td>1</td><td>31.299999</td><td>2.5</td><td>0.0</td><td>1</td><td>&quot;Manhattan&quot;</td><td>&quot;Manhattan&quot;</td><td>false</td><td>false</td></tr><tr><td>1</td><td>2024-01-01 00:36:38</td><td>2024-01-01 00:44:56</td><td>1</td><td>1.4</td><td>1</td><td>&quot;N&quot;</td><td>1</td><td>10.0</td><td>3.5</td><td>0.5</td><td>2.0</td><td>0.0</td><td>1</td><td>17.0</td><td>2.5</td><td>0.0</td><td>1</td><td>&quot;Manhattan&quot;</td><td>&quot;Manhattan&quot;</td><td>false</td><td>false</td></tr><tr><td>1</td><td>2024-01-01 00:46:51</td><td>2024-01-01 00:52:57</td><td>1</td><td>0.8</td><td>1</td><td>&quot;N&quot;</td><td>1</td><td>7.9</td><td>3.5</td><td>0.5</td><td>3.2</td><td>0.0</td><td>1</td><td>16.1</td><td>2.5</td><td>0.0</td><td>1</td><td>&quot;Manhattan&quot;</td><td>&quot;Manhattan&quot;</td><td>false</td><td>false</td></tr><tr><td>&hellip;</td><td>&hellip;</td><td>&hellip;</td><td>&hellip;</td><td>&hellip;</td><td>&hellip;</td><td>&hellip;</td><td>&hellip;</td><td>&hellip;</td><td>&hellip;</td><td>&hellip;</td><td>&hellip;</td><td>&hellip;</td><td>&hellip;</td><td>&hellip;</td><td>&hellip;</td><td>&hellip;</td><td>&hellip;</td><td>&hellip;</td><td>&hellip;</td><td>&hellip;</td><td>&hellip;</td></tr><tr><td>2</td><td>2024-12-31 22:56:33</td><td>2024-12-31 23:05:57</td><td>1</td><td>1.9</td><td>1</td><td>&quot;N&quot;</td><td>1</td><td>12.1</td><td>1.0</td><td>0.5</td><td>1.88</td><td>0.0</td><td>1</td><td>18.98</td><td>2.5</td><td>0.0</td><td>1</td><td>&quot;Manhattan&quot;</td><td>&quot;Manhattan&quot;</td><td>false</td><td>false</td></tr><tr><td>2</td><td>2024-12-31 23:18:37</td><td>2024-12-31 23:32:32</td><td>1</td><td>3.88</td><td>1</td><td>&quot;N&quot;</td><td>2</td><td>19.1</td><td>1.0</td><td>0.5</td><td>0.0</td><td>0.0</td><td>1</td><td>24.1</td><td>2.5</td><td>0.0</td><td>1</td><td>&quot;Manhattan&quot;</td><td>&quot;Queens&quot;</td><td>false</td><td>false</td></tr><tr><td>2</td><td>2024-12-31 23:08:52</td><td>2024-12-31 23:34:59</td><td>1</td><td>5.53</td><td>1</td><td>&quot;N&quot;</td><td>1</td><td>29.6</td><td>1.0</td><td>0.5</td><td>2.0</td><td>0.0</td><td>1</td><td>36.599998</td><td>2.5</td><td>0.0</td><td>1</td><td>&quot;Manhattan&quot;</td><td>&quot;Brooklyn&quot;</td><td>false</td><td>false</td></tr><tr><td>2</td><td>2024-12-31 23:15:55</td><td>2024-12-31 23:24:24</td><td>1</td><td>0.89</td><td>1</td><td>&quot;N&quot;</td><td>1</td><td>9.3</td><td>1.0</td><td>0.5</td><td>2.14</td><td>0.0</td><td>1</td><td>16.440001</td><td>2.5</td><td>0.0</td><td>1</td><td>&quot;Manhattan&quot;</td><td>&quot;Manhattan&quot;</td><td>false</td><td>false</td></tr><tr><td>2</td><td>2024-12-31 23:13:22</td><td>2024-12-31 23:49:57</td><td>1</td><td>20.49</td><td>1</td><td>&quot;N&quot;</td><td>1</td><td>77.900002</td><td>1.0</td><td>0.5</td><td>10.0</td><td>0.0</td><td>1</td><td>92.150002</td><td>0.0</td><td>1.75</td><td>1</td><td>&quot;Queens&quot;</td><td>&quot;Brooklyn&quot;</td><td>true</td><td>false</td></tr></tbody></table></div>"
      ],
      "text/plain": [
       "shape: (36_636_097, 22)\n",
       "┌──────────┬───────────┬───────────┬───────────┬───┬───────────┬───────────┬───────────┬───────────┐\n",
       "│ VendorID ┆ tpep_pick ┆ tpep_drop ┆ passenger ┆ … ┆ pickup_bo ┆ dropoff_b ┆ is_airpor ┆ is_rush_h │\n",
       "│ ---      ┆ up_dateti ┆ off_datet ┆ _count    ┆   ┆ rough     ┆ orough    ┆ t_ride    ┆ our       │\n",
       "│ u8       ┆ me        ┆ ime       ┆ ---       ┆   ┆ ---       ┆ ---       ┆ ---       ┆ ---       │\n",
       "│          ┆ ---       ┆ ---       ┆ u8        ┆   ┆ str       ┆ str       ┆ bool      ┆ bool      │\n",
       "│          ┆ datetime[ ┆ datetime[ ┆           ┆   ┆           ┆           ┆           ┆           │\n",
       "│          ┆ ms]       ┆ ms]       ┆           ┆   ┆           ┆           ┆           ┆           │\n",
       "╞══════════╪═══════════╪═══════════╪═══════════╪═══╪═══════════╪═══════════╪═══════════╪═══════════╡\n",
       "│ 2        ┆ 2024-01-0 ┆ 2024-01-0 ┆ 1         ┆ … ┆ Manhattan ┆ Manhattan ┆ false     ┆ false     │\n",
       "│          ┆ 1         ┆ 1         ┆           ┆   ┆           ┆           ┆           ┆           │\n",
       "│          ┆ 00:57:55  ┆ 01:17:43  ┆           ┆   ┆           ┆           ┆           ┆           │\n",
       "│ 1        ┆ 2024-01-0 ┆ 2024-01-0 ┆ 1         ┆ … ┆ Manhattan ┆ Manhattan ┆ false     ┆ false     │\n",
       "│          ┆ 1         ┆ 1         ┆           ┆   ┆           ┆           ┆           ┆           │\n",
       "│          ┆ 00:03:00  ┆ 00:09:36  ┆           ┆   ┆           ┆           ┆           ┆           │\n",
       "│ 1        ┆ 2024-01-0 ┆ 2024-01-0 ┆ 1         ┆ … ┆ Manhattan ┆ Manhattan ┆ false     ┆ false     │\n",
       "│          ┆ 1         ┆ 1         ┆           ┆   ┆           ┆           ┆           ┆           │\n",
       "│          ┆ 00:17:06  ┆ 00:35:01  ┆           ┆   ┆           ┆           ┆           ┆           │\n",
       "│ 1        ┆ 2024-01-0 ┆ 2024-01-0 ┆ 1         ┆ … ┆ Manhattan ┆ Manhattan ┆ false     ┆ false     │\n",
       "│          ┆ 1         ┆ 1         ┆           ┆   ┆           ┆           ┆           ┆           │\n",
       "│          ┆ 00:36:38  ┆ 00:44:56  ┆           ┆   ┆           ┆           ┆           ┆           │\n",
       "│ 1        ┆ 2024-01-0 ┆ 2024-01-0 ┆ 1         ┆ … ┆ Manhattan ┆ Manhattan ┆ false     ┆ false     │\n",
       "│          ┆ 1         ┆ 1         ┆           ┆   ┆           ┆           ┆           ┆           │\n",
       "│          ┆ 00:46:51  ┆ 00:52:57  ┆           ┆   ┆           ┆           ┆           ┆           │\n",
       "│ …        ┆ …         ┆ …         ┆ …         ┆ … ┆ …         ┆ …         ┆ …         ┆ …         │\n",
       "│ 2        ┆ 2024-12-3 ┆ 2024-12-3 ┆ 1         ┆ … ┆ Manhattan ┆ Manhattan ┆ false     ┆ false     │\n",
       "│          ┆ 1         ┆ 1         ┆           ┆   ┆           ┆           ┆           ┆           │\n",
       "│          ┆ 22:56:33  ┆ 23:05:57  ┆           ┆   ┆           ┆           ┆           ┆           │\n",
       "│ 2        ┆ 2024-12-3 ┆ 2024-12-3 ┆ 1         ┆ … ┆ Manhattan ┆ Queens    ┆ false     ┆ false     │\n",
       "│          ┆ 1         ┆ 1         ┆           ┆   ┆           ┆           ┆           ┆           │\n",
       "│          ┆ 23:18:37  ┆ 23:32:32  ┆           ┆   ┆           ┆           ┆           ┆           │\n",
       "│ 2        ┆ 2024-12-3 ┆ 2024-12-3 ┆ 1         ┆ … ┆ Manhattan ┆ Brooklyn  ┆ false     ┆ false     │\n",
       "│          ┆ 1         ┆ 1         ┆           ┆   ┆           ┆           ┆           ┆           │\n",
       "│          ┆ 23:08:52  ┆ 23:34:59  ┆           ┆   ┆           ┆           ┆           ┆           │\n",
       "│ 2        ┆ 2024-12-3 ┆ 2024-12-3 ┆ 1         ┆ … ┆ Manhattan ┆ Manhattan ┆ false     ┆ false     │\n",
       "│          ┆ 1         ┆ 1         ┆           ┆   ┆           ┆           ┆           ┆           │\n",
       "│          ┆ 23:15:55  ┆ 23:24:24  ┆           ┆   ┆           ┆           ┆           ┆           │\n",
       "│ 2        ┆ 2024-12-3 ┆ 2024-12-3 ┆ 1         ┆ … ┆ Queens    ┆ Brooklyn  ┆ true      ┆ false     │\n",
       "│          ┆ 1         ┆ 1         ┆           ┆   ┆           ┆           ┆           ┆           │\n",
       "│          ┆ 23:13:22  ┆ 23:49:57  ┆           ┆   ┆           ┆           ┆           ┆           │\n",
       "└──────────┴───────────┴───────────┴───────────┴───┴───────────┴───────────┴───────────┴───────────┘"
      ]
     },
     "execution_count": 78,
     "metadata": {},
     "output_type": "execute_result"
    }
   ],
   "source": [
    "df"
   ]
  },
  {
   "cell_type": "markdown",
   "id": "1d1724e2",
   "metadata": {},
   "source": [
    "# 4. Freature extraction <a id=\"feature-extraction\"></a>"
   ]
  },
  {
   "cell_type": "code",
   "execution_count": 79,
   "id": "f25f28b4",
   "metadata": {},
   "outputs": [],
   "source": [
    "df = df.with_columns(pl.col(\"tpep_pickup_datetime\").dt.date().alias(\"date\"))"
   ]
  },
  {
   "cell_type": "code",
   "execution_count": 80,
   "id": "e66c7ba9",
   "metadata": {},
   "outputs": [
    {
     "data": {
      "text/html": [
       "<div><style>\n",
       ".dataframe > thead > tr,\n",
       ".dataframe > tbody > tr {\n",
       "  text-align: right;\n",
       "  white-space: pre-wrap;\n",
       "}\n",
       "</style>\n",
       "<small>shape: (36_636_097, 23)</small><table border=\"1\" class=\"dataframe\"><thead><tr><th>VendorID</th><th>tpep_pickup_datetime</th><th>tpep_dropoff_datetime</th><th>passenger_count</th><th>trip_distance</th><th>RatecodeID</th><th>store_and_fwd_flag</th><th>payment_type</th><th>fare_amount</th><th>extra</th><th>mta_tax</th><th>tip_amount</th><th>tolls_amount</th><th>improvement_surcharge</th><th>total_amount</th><th>congestion_surcharge</th><th>Airport_fee</th><th>literal</th><th>pickup_borough</th><th>dropoff_borough</th><th>is_airport_ride</th><th>is_rush_hour</th><th>date</th></tr><tr><td>u8</td><td>datetime[ms]</td><td>datetime[ms]</td><td>u8</td><td>f32</td><td>u8</td><td>str</td><td>u8</td><td>f32</td><td>f32</td><td>f32</td><td>f32</td><td>f32</td><td>i8</td><td>f32</td><td>f32</td><td>f32</td><td>u8</td><td>str</td><td>str</td><td>bool</td><td>bool</td><td>date</td></tr></thead><tbody><tr><td>2</td><td>2024-01-01 00:57:55</td><td>2024-01-01 01:17:43</td><td>1</td><td>1.72</td><td>1</td><td>&quot;N&quot;</td><td>2</td><td>17.700001</td><td>1.0</td><td>0.5</td><td>0.0</td><td>0.0</td><td>1</td><td>22.700001</td><td>2.5</td><td>0.0</td><td>1</td><td>&quot;Manhattan&quot;</td><td>&quot;Manhattan&quot;</td><td>false</td><td>false</td><td>2024-01-01</td></tr><tr><td>1</td><td>2024-01-01 00:03:00</td><td>2024-01-01 00:09:36</td><td>1</td><td>1.8</td><td>1</td><td>&quot;N&quot;</td><td>1</td><td>10.0</td><td>3.5</td><td>0.5</td><td>3.75</td><td>0.0</td><td>1</td><td>18.75</td><td>2.5</td><td>0.0</td><td>1</td><td>&quot;Manhattan&quot;</td><td>&quot;Manhattan&quot;</td><td>false</td><td>false</td><td>2024-01-01</td></tr><tr><td>1</td><td>2024-01-01 00:17:06</td><td>2024-01-01 00:35:01</td><td>1</td><td>4.7</td><td>1</td><td>&quot;N&quot;</td><td>1</td><td>23.299999</td><td>3.5</td><td>0.5</td><td>3.0</td><td>0.0</td><td>1</td><td>31.299999</td><td>2.5</td><td>0.0</td><td>1</td><td>&quot;Manhattan&quot;</td><td>&quot;Manhattan&quot;</td><td>false</td><td>false</td><td>2024-01-01</td></tr><tr><td>1</td><td>2024-01-01 00:36:38</td><td>2024-01-01 00:44:56</td><td>1</td><td>1.4</td><td>1</td><td>&quot;N&quot;</td><td>1</td><td>10.0</td><td>3.5</td><td>0.5</td><td>2.0</td><td>0.0</td><td>1</td><td>17.0</td><td>2.5</td><td>0.0</td><td>1</td><td>&quot;Manhattan&quot;</td><td>&quot;Manhattan&quot;</td><td>false</td><td>false</td><td>2024-01-01</td></tr><tr><td>1</td><td>2024-01-01 00:46:51</td><td>2024-01-01 00:52:57</td><td>1</td><td>0.8</td><td>1</td><td>&quot;N&quot;</td><td>1</td><td>7.9</td><td>3.5</td><td>0.5</td><td>3.2</td><td>0.0</td><td>1</td><td>16.1</td><td>2.5</td><td>0.0</td><td>1</td><td>&quot;Manhattan&quot;</td><td>&quot;Manhattan&quot;</td><td>false</td><td>false</td><td>2024-01-01</td></tr><tr><td>&hellip;</td><td>&hellip;</td><td>&hellip;</td><td>&hellip;</td><td>&hellip;</td><td>&hellip;</td><td>&hellip;</td><td>&hellip;</td><td>&hellip;</td><td>&hellip;</td><td>&hellip;</td><td>&hellip;</td><td>&hellip;</td><td>&hellip;</td><td>&hellip;</td><td>&hellip;</td><td>&hellip;</td><td>&hellip;</td><td>&hellip;</td><td>&hellip;</td><td>&hellip;</td><td>&hellip;</td><td>&hellip;</td></tr><tr><td>2</td><td>2024-12-31 22:56:33</td><td>2024-12-31 23:05:57</td><td>1</td><td>1.9</td><td>1</td><td>&quot;N&quot;</td><td>1</td><td>12.1</td><td>1.0</td><td>0.5</td><td>1.88</td><td>0.0</td><td>1</td><td>18.98</td><td>2.5</td><td>0.0</td><td>1</td><td>&quot;Manhattan&quot;</td><td>&quot;Manhattan&quot;</td><td>false</td><td>false</td><td>2024-12-31</td></tr><tr><td>2</td><td>2024-12-31 23:18:37</td><td>2024-12-31 23:32:32</td><td>1</td><td>3.88</td><td>1</td><td>&quot;N&quot;</td><td>2</td><td>19.1</td><td>1.0</td><td>0.5</td><td>0.0</td><td>0.0</td><td>1</td><td>24.1</td><td>2.5</td><td>0.0</td><td>1</td><td>&quot;Manhattan&quot;</td><td>&quot;Queens&quot;</td><td>false</td><td>false</td><td>2024-12-31</td></tr><tr><td>2</td><td>2024-12-31 23:08:52</td><td>2024-12-31 23:34:59</td><td>1</td><td>5.53</td><td>1</td><td>&quot;N&quot;</td><td>1</td><td>29.6</td><td>1.0</td><td>0.5</td><td>2.0</td><td>0.0</td><td>1</td><td>36.599998</td><td>2.5</td><td>0.0</td><td>1</td><td>&quot;Manhattan&quot;</td><td>&quot;Brooklyn&quot;</td><td>false</td><td>false</td><td>2024-12-31</td></tr><tr><td>2</td><td>2024-12-31 23:15:55</td><td>2024-12-31 23:24:24</td><td>1</td><td>0.89</td><td>1</td><td>&quot;N&quot;</td><td>1</td><td>9.3</td><td>1.0</td><td>0.5</td><td>2.14</td><td>0.0</td><td>1</td><td>16.440001</td><td>2.5</td><td>0.0</td><td>1</td><td>&quot;Manhattan&quot;</td><td>&quot;Manhattan&quot;</td><td>false</td><td>false</td><td>2024-12-31</td></tr><tr><td>2</td><td>2024-12-31 23:13:22</td><td>2024-12-31 23:49:57</td><td>1</td><td>20.49</td><td>1</td><td>&quot;N&quot;</td><td>1</td><td>77.900002</td><td>1.0</td><td>0.5</td><td>10.0</td><td>0.0</td><td>1</td><td>92.150002</td><td>0.0</td><td>1.75</td><td>1</td><td>&quot;Queens&quot;</td><td>&quot;Brooklyn&quot;</td><td>true</td><td>false</td><td>2024-12-31</td></tr></tbody></table></div>"
      ],
      "text/plain": [
       "shape: (36_636_097, 23)\n",
       "┌──────────┬───────────┬───────────┬───────────┬───┬───────────┬───────────┬───────────┬───────────┐\n",
       "│ VendorID ┆ tpep_pick ┆ tpep_drop ┆ passenger ┆ … ┆ dropoff_b ┆ is_airpor ┆ is_rush_h ┆ date      │\n",
       "│ ---      ┆ up_dateti ┆ off_datet ┆ _count    ┆   ┆ orough    ┆ t_ride    ┆ our       ┆ ---       │\n",
       "│ u8       ┆ me        ┆ ime       ┆ ---       ┆   ┆ ---       ┆ ---       ┆ ---       ┆ date      │\n",
       "│          ┆ ---       ┆ ---       ┆ u8        ┆   ┆ str       ┆ bool      ┆ bool      ┆           │\n",
       "│          ┆ datetime[ ┆ datetime[ ┆           ┆   ┆           ┆           ┆           ┆           │\n",
       "│          ┆ ms]       ┆ ms]       ┆           ┆   ┆           ┆           ┆           ┆           │\n",
       "╞══════════╪═══════════╪═══════════╪═══════════╪═══╪═══════════╪═══════════╪═══════════╪═══════════╡\n",
       "│ 2        ┆ 2024-01-0 ┆ 2024-01-0 ┆ 1         ┆ … ┆ Manhattan ┆ false     ┆ false     ┆ 2024-01-0 │\n",
       "│          ┆ 1         ┆ 1         ┆           ┆   ┆           ┆           ┆           ┆ 1         │\n",
       "│          ┆ 00:57:55  ┆ 01:17:43  ┆           ┆   ┆           ┆           ┆           ┆           │\n",
       "│ 1        ┆ 2024-01-0 ┆ 2024-01-0 ┆ 1         ┆ … ┆ Manhattan ┆ false     ┆ false     ┆ 2024-01-0 │\n",
       "│          ┆ 1         ┆ 1         ┆           ┆   ┆           ┆           ┆           ┆ 1         │\n",
       "│          ┆ 00:03:00  ┆ 00:09:36  ┆           ┆   ┆           ┆           ┆           ┆           │\n",
       "│ 1        ┆ 2024-01-0 ┆ 2024-01-0 ┆ 1         ┆ … ┆ Manhattan ┆ false     ┆ false     ┆ 2024-01-0 │\n",
       "│          ┆ 1         ┆ 1         ┆           ┆   ┆           ┆           ┆           ┆ 1         │\n",
       "│          ┆ 00:17:06  ┆ 00:35:01  ┆           ┆   ┆           ┆           ┆           ┆           │\n",
       "│ 1        ┆ 2024-01-0 ┆ 2024-01-0 ┆ 1         ┆ … ┆ Manhattan ┆ false     ┆ false     ┆ 2024-01-0 │\n",
       "│          ┆ 1         ┆ 1         ┆           ┆   ┆           ┆           ┆           ┆ 1         │\n",
       "│          ┆ 00:36:38  ┆ 00:44:56  ┆           ┆   ┆           ┆           ┆           ┆           │\n",
       "│ 1        ┆ 2024-01-0 ┆ 2024-01-0 ┆ 1         ┆ … ┆ Manhattan ┆ false     ┆ false     ┆ 2024-01-0 │\n",
       "│          ┆ 1         ┆ 1         ┆           ┆   ┆           ┆           ┆           ┆ 1         │\n",
       "│          ┆ 00:46:51  ┆ 00:52:57  ┆           ┆   ┆           ┆           ┆           ┆           │\n",
       "│ …        ┆ …         ┆ …         ┆ …         ┆ … ┆ …         ┆ …         ┆ …         ┆ …         │\n",
       "│ 2        ┆ 2024-12-3 ┆ 2024-12-3 ┆ 1         ┆ … ┆ Manhattan ┆ false     ┆ false     ┆ 2024-12-3 │\n",
       "│          ┆ 1         ┆ 1         ┆           ┆   ┆           ┆           ┆           ┆ 1         │\n",
       "│          ┆ 22:56:33  ┆ 23:05:57  ┆           ┆   ┆           ┆           ┆           ┆           │\n",
       "│ 2        ┆ 2024-12-3 ┆ 2024-12-3 ┆ 1         ┆ … ┆ Queens    ┆ false     ┆ false     ┆ 2024-12-3 │\n",
       "│          ┆ 1         ┆ 1         ┆           ┆   ┆           ┆           ┆           ┆ 1         │\n",
       "│          ┆ 23:18:37  ┆ 23:32:32  ┆           ┆   ┆           ┆           ┆           ┆           │\n",
       "│ 2        ┆ 2024-12-3 ┆ 2024-12-3 ┆ 1         ┆ … ┆ Brooklyn  ┆ false     ┆ false     ┆ 2024-12-3 │\n",
       "│          ┆ 1         ┆ 1         ┆           ┆   ┆           ┆           ┆           ┆ 1         │\n",
       "│          ┆ 23:08:52  ┆ 23:34:59  ┆           ┆   ┆           ┆           ┆           ┆           │\n",
       "│ 2        ┆ 2024-12-3 ┆ 2024-12-3 ┆ 1         ┆ … ┆ Manhattan ┆ false     ┆ false     ┆ 2024-12-3 │\n",
       "│          ┆ 1         ┆ 1         ┆           ┆   ┆           ┆           ┆           ┆ 1         │\n",
       "│          ┆ 23:15:55  ┆ 23:24:24  ┆           ┆   ┆           ┆           ┆           ┆           │\n",
       "│ 2        ┆ 2024-12-3 ┆ 2024-12-3 ┆ 1         ┆ … ┆ Brooklyn  ┆ true      ┆ false     ┆ 2024-12-3 │\n",
       "│          ┆ 1         ┆ 1         ┆           ┆   ┆           ┆           ┆           ┆ 1         │\n",
       "│          ┆ 23:13:22  ┆ 23:49:57  ┆           ┆   ┆           ┆           ┆           ┆           │\n",
       "└──────────┴───────────┴───────────┴───────────┴───┴───────────┴───────────┴───────────┴───────────┘"
      ]
     },
     "execution_count": 80,
     "metadata": {},
     "output_type": "execute_result"
    }
   ],
   "source": [
    "df"
   ]
  },
  {
   "cell_type": "code",
   "execution_count": 81,
   "id": "75ee447a",
   "metadata": {},
   "outputs": [],
   "source": [
    "# add features aggregating daily rides information:\n",
    "# move it before dummy encoding, as I need payment_type value for aggregation and\n",
    "# it is easier to do it before make payment_type column dummy encoding\n",
    "\n",
    "\n",
    "df_to_join = df.group_by(\"date\").agg(\n",
    "    [\n",
    "        pl.mean(\"fare_amount\").alias(\"mean_daily_fare_amount\"),\n",
    "        pl.median(\"trip_distance\").alias(\"median_daily_trip_distance\"),\n",
    "        pl.sum(\"total_amount\").alias(\"total_daily_sum\"),\n",
    "        pl.when(pl.col(\"payment_type\") == 1)\n",
    "        .then(pl.col(\"total_amount\"))\n",
    "        .otherwise(0)\n",
    "        .sum()\n",
    "        .alias(\"card_payment_daily_sum\"),\n",
    "        pl.when(pl.col(\"payment_type\") == 2)\n",
    "        .then(pl.col(\"total_amount\"))\n",
    "        .otherwise(0)\n",
    "        .sum()\n",
    "        .alias(\"cash_payment_daily_sum\"),\n",
    "        pl.when(~pl.col(\"payment_type\").is_in([1, 2]))\n",
    "        .then(pl.col(\"total_amount\"))\n",
    "        .otherwise(0)\n",
    "        .sum()\n",
    "        .alias(\"other_payment_daily_sum\"),\n",
    "        pl.sum(\"congestion_surcharge\").alias(\"total_daily_congestion_surcharge\"),\n",
    "        pl.sum(\"passenger_count\").alias(\"total_daily_passenger_count\"),\n",
    "    ]\n",
    ")\n",
    "\n",
    "df = df.join(df_to_join, on=\"date\", how=\"left\")"
   ]
  },
  {
   "cell_type": "code",
   "execution_count": 82,
   "id": "ce97aca1",
   "metadata": {},
   "outputs": [],
   "source": [
    "# #apply dummy encoding to features:\n",
    "# # payment type\n",
    "# # pickup borough\n",
    "# dropoff borough\n",
    "# Dummy encoding (one-hot) for selected columns\n",
    "df = df.to_dummies(\n",
    "    columns=[\"payment_type\", \"pickup_borough\", \"dropoff_borough\"], drop_first=True\n",
    ")"
   ]
  },
  {
   "cell_type": "code",
   "execution_count": 83,
   "id": "ec1431b4",
   "metadata": {},
   "outputs": [
    {
     "data": {
      "text/html": [
       "<div><style>\n",
       ".dataframe > thead > tr,\n",
       ".dataframe > tbody > tr {\n",
       "  text-align: right;\n",
       "  white-space: pre-wrap;\n",
       "}\n",
       "</style>\n",
       "<small>shape: (36_636_097, 44)</small><table border=\"1\" class=\"dataframe\"><thead><tr><th>VendorID</th><th>tpep_pickup_datetime</th><th>tpep_dropoff_datetime</th><th>passenger_count</th><th>trip_distance</th><th>RatecodeID</th><th>store_and_fwd_flag</th><th>payment_type_1</th><th>payment_type_4</th><th>fare_amount</th><th>extra</th><th>mta_tax</th><th>tip_amount</th><th>tolls_amount</th><th>improvement_surcharge</th><th>total_amount</th><th>congestion_surcharge</th><th>Airport_fee</th><th>literal</th><th>pickup_borough_Bronx</th><th>pickup_borough_Brooklyn</th><th>pickup_borough_EWR</th><th>pickup_borough_N/A</th><th>pickup_borough_Queens</th><th>pickup_borough_Staten Island</th><th>pickup_borough_Unknown</th><th>dropoff_borough_Bronx</th><th>dropoff_borough_Brooklyn</th><th>dropoff_borough_EWR</th><th>dropoff_borough_N/A</th><th>dropoff_borough_Queens</th><th>dropoff_borough_Staten Island</th><th>dropoff_borough_Unknown</th><th>is_airport_ride</th><th>is_rush_hour</th><th>date</th><th>mean_daily_fare_amount</th><th>median_daily_trip_distance</th><th>total_daily_sum</th><th>card_payment_daily_sum</th><th>cash_payment_daily_sum</th><th>other_payment_daily_sum</th><th>total_daily_congestion_surcharge</th><th>total_daily_passenger_count</th></tr><tr><td>u8</td><td>datetime[ms]</td><td>datetime[ms]</td><td>u8</td><td>f32</td><td>u8</td><td>str</td><td>u8</td><td>u8</td><td>f32</td><td>f32</td><td>f32</td><td>f32</td><td>f32</td><td>i8</td><td>f32</td><td>f32</td><td>f32</td><td>u8</td><td>u8</td><td>u8</td><td>u8</td><td>u8</td><td>u8</td><td>u8</td><td>u8</td><td>u8</td><td>u8</td><td>u8</td><td>u8</td><td>u8</td><td>u8</td><td>u8</td><td>bool</td><td>bool</td><td>date</td><td>f32</td><td>f32</td><td>f32</td><td>f32</td><td>f32</td><td>f32</td><td>f32</td><td>i64</td></tr></thead><tbody><tr><td>2</td><td>2024-01-01 00:57:55</td><td>2024-01-01 01:17:43</td><td>1</td><td>1.72</td><td>1</td><td>&quot;N&quot;</td><td>0</td><td>0</td><td>17.700001</td><td>1.0</td><td>0.5</td><td>0.0</td><td>0.0</td><td>1</td><td>22.700001</td><td>2.5</td><td>0.0</td><td>1</td><td>0</td><td>0</td><td>0</td><td>0</td><td>0</td><td>0</td><td>0</td><td>0</td><td>0</td><td>0</td><td>0</td><td>0</td><td>0</td><td>0</td><td>false</td><td>false</td><td>2024-01-01</td><td>22.217703</td><td>2.09</td><td>2.185003e6</td><td>1.7445e6</td><td>384659.9375</td><td>55778.90625</td><td>156123.25</td><td>109145</td></tr><tr><td>1</td><td>2024-01-01 00:03:00</td><td>2024-01-01 00:09:36</td><td>1</td><td>1.8</td><td>1</td><td>&quot;N&quot;</td><td>1</td><td>0</td><td>10.0</td><td>3.5</td><td>0.5</td><td>3.75</td><td>0.0</td><td>1</td><td>18.75</td><td>2.5</td><td>0.0</td><td>1</td><td>0</td><td>0</td><td>0</td><td>0</td><td>0</td><td>0</td><td>0</td><td>0</td><td>0</td><td>0</td><td>0</td><td>0</td><td>0</td><td>0</td><td>false</td><td>false</td><td>2024-01-01</td><td>22.217703</td><td>2.09</td><td>2.185003e6</td><td>1.7445e6</td><td>384659.9375</td><td>55778.90625</td><td>156123.25</td><td>109145</td></tr><tr><td>1</td><td>2024-01-01 00:17:06</td><td>2024-01-01 00:35:01</td><td>1</td><td>4.7</td><td>1</td><td>&quot;N&quot;</td><td>1</td><td>0</td><td>23.299999</td><td>3.5</td><td>0.5</td><td>3.0</td><td>0.0</td><td>1</td><td>31.299999</td><td>2.5</td><td>0.0</td><td>1</td><td>0</td><td>0</td><td>0</td><td>0</td><td>0</td><td>0</td><td>0</td><td>0</td><td>0</td><td>0</td><td>0</td><td>0</td><td>0</td><td>0</td><td>false</td><td>false</td><td>2024-01-01</td><td>22.217703</td><td>2.09</td><td>2.185003e6</td><td>1.7445e6</td><td>384659.9375</td><td>55778.90625</td><td>156123.25</td><td>109145</td></tr><tr><td>1</td><td>2024-01-01 00:36:38</td><td>2024-01-01 00:44:56</td><td>1</td><td>1.4</td><td>1</td><td>&quot;N&quot;</td><td>1</td><td>0</td><td>10.0</td><td>3.5</td><td>0.5</td><td>2.0</td><td>0.0</td><td>1</td><td>17.0</td><td>2.5</td><td>0.0</td><td>1</td><td>0</td><td>0</td><td>0</td><td>0</td><td>0</td><td>0</td><td>0</td><td>0</td><td>0</td><td>0</td><td>0</td><td>0</td><td>0</td><td>0</td><td>false</td><td>false</td><td>2024-01-01</td><td>22.217703</td><td>2.09</td><td>2.185003e6</td><td>1.7445e6</td><td>384659.9375</td><td>55778.90625</td><td>156123.25</td><td>109145</td></tr><tr><td>1</td><td>2024-01-01 00:46:51</td><td>2024-01-01 00:52:57</td><td>1</td><td>0.8</td><td>1</td><td>&quot;N&quot;</td><td>1</td><td>0</td><td>7.9</td><td>3.5</td><td>0.5</td><td>3.2</td><td>0.0</td><td>1</td><td>16.1</td><td>2.5</td><td>0.0</td><td>1</td><td>0</td><td>0</td><td>0</td><td>0</td><td>0</td><td>0</td><td>0</td><td>0</td><td>0</td><td>0</td><td>0</td><td>0</td><td>0</td><td>0</td><td>false</td><td>false</td><td>2024-01-01</td><td>22.217703</td><td>2.09</td><td>2.185003e6</td><td>1.7445e6</td><td>384659.9375</td><td>55778.90625</td><td>156123.25</td><td>109145</td></tr><tr><td>&hellip;</td><td>&hellip;</td><td>&hellip;</td><td>&hellip;</td><td>&hellip;</td><td>&hellip;</td><td>&hellip;</td><td>&hellip;</td><td>&hellip;</td><td>&hellip;</td><td>&hellip;</td><td>&hellip;</td><td>&hellip;</td><td>&hellip;</td><td>&hellip;</td><td>&hellip;</td><td>&hellip;</td><td>&hellip;</td><td>&hellip;</td><td>&hellip;</td><td>&hellip;</td><td>&hellip;</td><td>&hellip;</td><td>&hellip;</td><td>&hellip;</td><td>&hellip;</td><td>&hellip;</td><td>&hellip;</td><td>&hellip;</td><td>&hellip;</td><td>&hellip;</td><td>&hellip;</td><td>&hellip;</td><td>&hellip;</td><td>&hellip;</td><td>&hellip;</td><td>&hellip;</td><td>&hellip;</td><td>&hellip;</td><td>&hellip;</td><td>&hellip;</td><td>&hellip;</td><td>&hellip;</td><td>&hellip;</td></tr><tr><td>2</td><td>2024-12-31 22:56:33</td><td>2024-12-31 23:05:57</td><td>1</td><td>1.9</td><td>1</td><td>&quot;N&quot;</td><td>1</td><td>0</td><td>12.1</td><td>1.0</td><td>0.5</td><td>1.88</td><td>0.0</td><td>1</td><td>18.98</td><td>2.5</td><td>0.0</td><td>1</td><td>0</td><td>0</td><td>0</td><td>0</td><td>0</td><td>0</td><td>0</td><td>0</td><td>0</td><td>0</td><td>0</td><td>0</td><td>0</td><td>0</td><td>false</td><td>false</td><td>2024-12-31</td><td>18.428528</td><td>1.61</td><td>2.0853e6</td><td>1.6291e6</td><td>353587.65625</td><td>102561.742188</td><td>175165.0</td><td>113288</td></tr><tr><td>2</td><td>2024-12-31 23:18:37</td><td>2024-12-31 23:32:32</td><td>1</td><td>3.88</td><td>1</td><td>&quot;N&quot;</td><td>0</td><td>0</td><td>19.1</td><td>1.0</td><td>0.5</td><td>0.0</td><td>0.0</td><td>1</td><td>24.1</td><td>2.5</td><td>0.0</td><td>1</td><td>0</td><td>0</td><td>0</td><td>0</td><td>0</td><td>0</td><td>0</td><td>0</td><td>0</td><td>0</td><td>0</td><td>1</td><td>0</td><td>0</td><td>false</td><td>false</td><td>2024-12-31</td><td>18.428528</td><td>1.61</td><td>2.0853e6</td><td>1.6291e6</td><td>353587.65625</td><td>102561.742188</td><td>175165.0</td><td>113288</td></tr><tr><td>2</td><td>2024-12-31 23:08:52</td><td>2024-12-31 23:34:59</td><td>1</td><td>5.53</td><td>1</td><td>&quot;N&quot;</td><td>1</td><td>0</td><td>29.6</td><td>1.0</td><td>0.5</td><td>2.0</td><td>0.0</td><td>1</td><td>36.599998</td><td>2.5</td><td>0.0</td><td>1</td><td>0</td><td>0</td><td>0</td><td>0</td><td>0</td><td>0</td><td>0</td><td>0</td><td>1</td><td>0</td><td>0</td><td>0</td><td>0</td><td>0</td><td>false</td><td>false</td><td>2024-12-31</td><td>18.428528</td><td>1.61</td><td>2.0853e6</td><td>1.6291e6</td><td>353587.65625</td><td>102561.742188</td><td>175165.0</td><td>113288</td></tr><tr><td>2</td><td>2024-12-31 23:15:55</td><td>2024-12-31 23:24:24</td><td>1</td><td>0.89</td><td>1</td><td>&quot;N&quot;</td><td>1</td><td>0</td><td>9.3</td><td>1.0</td><td>0.5</td><td>2.14</td><td>0.0</td><td>1</td><td>16.440001</td><td>2.5</td><td>0.0</td><td>1</td><td>0</td><td>0</td><td>0</td><td>0</td><td>0</td><td>0</td><td>0</td><td>0</td><td>0</td><td>0</td><td>0</td><td>0</td><td>0</td><td>0</td><td>false</td><td>false</td><td>2024-12-31</td><td>18.428528</td><td>1.61</td><td>2.0853e6</td><td>1.6291e6</td><td>353587.65625</td><td>102561.742188</td><td>175165.0</td><td>113288</td></tr><tr><td>2</td><td>2024-12-31 23:13:22</td><td>2024-12-31 23:49:57</td><td>1</td><td>20.49</td><td>1</td><td>&quot;N&quot;</td><td>1</td><td>0</td><td>77.900002</td><td>1.0</td><td>0.5</td><td>10.0</td><td>0.0</td><td>1</td><td>92.150002</td><td>0.0</td><td>1.75</td><td>1</td><td>0</td><td>0</td><td>0</td><td>0</td><td>1</td><td>0</td><td>0</td><td>0</td><td>1</td><td>0</td><td>0</td><td>0</td><td>0</td><td>0</td><td>true</td><td>false</td><td>2024-12-31</td><td>18.428528</td><td>1.61</td><td>2.0853e6</td><td>1.6291e6</td><td>353587.65625</td><td>102561.742188</td><td>175165.0</td><td>113288</td></tr></tbody></table></div>"
      ],
      "text/plain": [
       "shape: (36_636_097, 44)\n",
       "┌──────────┬───────────┬───────────┬───────────┬───┬───────────┬───────────┬───────────┬───────────┐\n",
       "│ VendorID ┆ tpep_pick ┆ tpep_drop ┆ passenger ┆ … ┆ cash_paym ┆ other_pay ┆ total_dai ┆ total_dai │\n",
       "│ ---      ┆ up_dateti ┆ off_datet ┆ _count    ┆   ┆ ent_daily ┆ ment_dail ┆ ly_conges ┆ ly_passen │\n",
       "│ u8       ┆ me        ┆ ime       ┆ ---       ┆   ┆ _sum      ┆ y_sum     ┆ tion_surc ┆ ger_count │\n",
       "│          ┆ ---       ┆ ---       ┆ u8        ┆   ┆ ---       ┆ ---       ┆ har…      ┆ ---       │\n",
       "│          ┆ datetime[ ┆ datetime[ ┆           ┆   ┆ f32       ┆ f32       ┆ ---       ┆ i64       │\n",
       "│          ┆ ms]       ┆ ms]       ┆           ┆   ┆           ┆           ┆ f32       ┆           │\n",
       "╞══════════╪═══════════╪═══════════╪═══════════╪═══╪═══════════╪═══════════╪═══════════╪═══════════╡\n",
       "│ 2        ┆ 2024-01-0 ┆ 2024-01-0 ┆ 1         ┆ … ┆ 384659.93 ┆ 55778.906 ┆ 156123.25 ┆ 109145    │\n",
       "│          ┆ 1         ┆ 1         ┆           ┆   ┆ 75        ┆ 25        ┆           ┆           │\n",
       "│          ┆ 00:57:55  ┆ 01:17:43  ┆           ┆   ┆           ┆           ┆           ┆           │\n",
       "│ 1        ┆ 2024-01-0 ┆ 2024-01-0 ┆ 1         ┆ … ┆ 384659.93 ┆ 55778.906 ┆ 156123.25 ┆ 109145    │\n",
       "│          ┆ 1         ┆ 1         ┆           ┆   ┆ 75        ┆ 25        ┆           ┆           │\n",
       "│          ┆ 00:03:00  ┆ 00:09:36  ┆           ┆   ┆           ┆           ┆           ┆           │\n",
       "│ 1        ┆ 2024-01-0 ┆ 2024-01-0 ┆ 1         ┆ … ┆ 384659.93 ┆ 55778.906 ┆ 156123.25 ┆ 109145    │\n",
       "│          ┆ 1         ┆ 1         ┆           ┆   ┆ 75        ┆ 25        ┆           ┆           │\n",
       "│          ┆ 00:17:06  ┆ 00:35:01  ┆           ┆   ┆           ┆           ┆           ┆           │\n",
       "│ 1        ┆ 2024-01-0 ┆ 2024-01-0 ┆ 1         ┆ … ┆ 384659.93 ┆ 55778.906 ┆ 156123.25 ┆ 109145    │\n",
       "│          ┆ 1         ┆ 1         ┆           ┆   ┆ 75        ┆ 25        ┆           ┆           │\n",
       "│          ┆ 00:36:38  ┆ 00:44:56  ┆           ┆   ┆           ┆           ┆           ┆           │\n",
       "│ 1        ┆ 2024-01-0 ┆ 2024-01-0 ┆ 1         ┆ … ┆ 384659.93 ┆ 55778.906 ┆ 156123.25 ┆ 109145    │\n",
       "│          ┆ 1         ┆ 1         ┆           ┆   ┆ 75        ┆ 25        ┆           ┆           │\n",
       "│          ┆ 00:46:51  ┆ 00:52:57  ┆           ┆   ┆           ┆           ┆           ┆           │\n",
       "│ …        ┆ …         ┆ …         ┆ …         ┆ … ┆ …         ┆ …         ┆ …         ┆ …         │\n",
       "│ 2        ┆ 2024-12-3 ┆ 2024-12-3 ┆ 1         ┆ … ┆ 353587.65 ┆ 102561.74 ┆ 175165.0  ┆ 113288    │\n",
       "│          ┆ 1         ┆ 1         ┆           ┆   ┆ 625       ┆ 2188      ┆           ┆           │\n",
       "│          ┆ 22:56:33  ┆ 23:05:57  ┆           ┆   ┆           ┆           ┆           ┆           │\n",
       "│ 2        ┆ 2024-12-3 ┆ 2024-12-3 ┆ 1         ┆ … ┆ 353587.65 ┆ 102561.74 ┆ 175165.0  ┆ 113288    │\n",
       "│          ┆ 1         ┆ 1         ┆           ┆   ┆ 625       ┆ 2188      ┆           ┆           │\n",
       "│          ┆ 23:18:37  ┆ 23:32:32  ┆           ┆   ┆           ┆           ┆           ┆           │\n",
       "│ 2        ┆ 2024-12-3 ┆ 2024-12-3 ┆ 1         ┆ … ┆ 353587.65 ┆ 102561.74 ┆ 175165.0  ┆ 113288    │\n",
       "│          ┆ 1         ┆ 1         ┆           ┆   ┆ 625       ┆ 2188      ┆           ┆           │\n",
       "│          ┆ 23:08:52  ┆ 23:34:59  ┆           ┆   ┆           ┆           ┆           ┆           │\n",
       "│ 2        ┆ 2024-12-3 ┆ 2024-12-3 ┆ 1         ┆ … ┆ 353587.65 ┆ 102561.74 ┆ 175165.0  ┆ 113288    │\n",
       "│          ┆ 1         ┆ 1         ┆           ┆   ┆ 625       ┆ 2188      ┆           ┆           │\n",
       "│          ┆ 23:15:55  ┆ 23:24:24  ┆           ┆   ┆           ┆           ┆           ┆           │\n",
       "│ 2        ┆ 2024-12-3 ┆ 2024-12-3 ┆ 1         ┆ … ┆ 353587.65 ┆ 102561.74 ┆ 175165.0  ┆ 113288    │\n",
       "│          ┆ 1         ┆ 1         ┆           ┆   ┆ 625       ┆ 2188      ┆           ┆           │\n",
       "│          ┆ 23:13:22  ┆ 23:49:57  ┆           ┆   ┆           ┆           ┆           ┆           │\n",
       "└──────────┴───────────┴───────────┴───────────┴───┴───────────┴───────────┴───────────┴───────────┘"
      ]
     },
     "execution_count": 83,
     "metadata": {},
     "output_type": "execute_result"
    }
   ],
   "source": [
    "df"
   ]
  },
  {
   "cell_type": "code",
   "execution_count": 84,
   "id": "0fbec6a7",
   "metadata": {},
   "outputs": [
    {
     "name": "stderr",
     "output_type": "stream",
     "text": [
      "/var/folders/_n/zfchkhnd1kd1krd5j2g884c40000gn/T/ipykernel_73053/2585411685.py:4: DeprecationWarning: `pl.count()` is deprecated. Please use `pl.len()` instead.\n",
      "(Deprecated in version 0.20.5)\n",
      "  .agg([pl.count().alias(\"total_amount_of_rides\"),\n"
     ]
    }
   ],
   "source": [
    "# add integer variables for counting daily events\n",
    "\n",
    "df_to_join = df.group_by(\"date\").agg(\n",
    "    [\n",
    "        pl.count().alias(\"total_amount_of_rides\"),\n",
    "        pl.col(\"is_airport_ride\").sum().alias(\"total_amount_of_airport_rides\"),\n",
    "        pl.col(\"is_rush_hour\").sum().alias(\"total_amount_of_rush_hour_rides\"),\n",
    "    ]\n",
    ")\n",
    "\n",
    "df = df.join(df_to_join, on=\"date\", how=\"left\")"
   ]
  },
  {
   "cell_type": "code",
   "execution_count": 85,
   "id": "b57265f2",
   "metadata": {},
   "outputs": [],
   "source": [
    "# add time features:\n",
    "# quarter\n",
    "# month\n",
    "# day_of_month\n",
    "# day_of_week\n",
    "# is_weekend (boolean)\n",
    "\n",
    "\n",
    "df = df.with_columns(\n",
    "    pl.col(\"tpep_pickup_datetime\").dt.quarter().alias(\"quarter\"),\n",
    "    pl.col(\"tpep_pickup_datetime\").dt.month().alias(\"month\"),\n",
    "    pl.col(\"tpep_pickup_datetime\").dt.day().alias(\"day_of_month\"),\n",
    "    pl.col(\"tpep_pickup_datetime\").dt.weekday().alias(\"day_of_week\"),\n",
    "    (pl.col(\"tpep_pickup_datetime\").dt.weekday() >= 5).alias(\"is_weekend\"),\n",
    ")"
   ]
  },
  {
   "cell_type": "code",
   "execution_count": 86,
   "id": "48aab30a",
   "metadata": {},
   "outputs": [
    {
     "data": {
      "text/html": [
       "<div><style>\n",
       ".dataframe > thead > tr,\n",
       ".dataframe > tbody > tr {\n",
       "  text-align: right;\n",
       "  white-space: pre-wrap;\n",
       "}\n",
       "</style>\n",
       "<small>shape: (36_636_097, 52)</small><table border=\"1\" class=\"dataframe\"><thead><tr><th>VendorID</th><th>tpep_pickup_datetime</th><th>tpep_dropoff_datetime</th><th>passenger_count</th><th>trip_distance</th><th>RatecodeID</th><th>store_and_fwd_flag</th><th>payment_type_1</th><th>payment_type_4</th><th>fare_amount</th><th>extra</th><th>mta_tax</th><th>tip_amount</th><th>tolls_amount</th><th>improvement_surcharge</th><th>total_amount</th><th>congestion_surcharge</th><th>Airport_fee</th><th>literal</th><th>pickup_borough_Bronx</th><th>pickup_borough_Brooklyn</th><th>pickup_borough_EWR</th><th>pickup_borough_N/A</th><th>pickup_borough_Queens</th><th>pickup_borough_Staten Island</th><th>pickup_borough_Unknown</th><th>dropoff_borough_Bronx</th><th>dropoff_borough_Brooklyn</th><th>dropoff_borough_EWR</th><th>dropoff_borough_N/A</th><th>dropoff_borough_Queens</th><th>dropoff_borough_Staten Island</th><th>dropoff_borough_Unknown</th><th>is_airport_ride</th><th>is_rush_hour</th><th>date</th><th>mean_daily_fare_amount</th><th>median_daily_trip_distance</th><th>total_daily_sum</th><th>card_payment_daily_sum</th><th>cash_payment_daily_sum</th><th>other_payment_daily_sum</th><th>total_daily_congestion_surcharge</th><th>total_daily_passenger_count</th><th>total_amount_of_rides</th><th>total_amount_of_airport_rides</th><th>total_amount_of_rush_hour_rides</th><th>quarter</th><th>month</th><th>day_of_month</th><th>day_of_week</th><th>is_weekend</th></tr><tr><td>u8</td><td>datetime[ms]</td><td>datetime[ms]</td><td>u8</td><td>f32</td><td>u8</td><td>str</td><td>u8</td><td>u8</td><td>f32</td><td>f32</td><td>f32</td><td>f32</td><td>f32</td><td>i8</td><td>f32</td><td>f32</td><td>f32</td><td>u8</td><td>u8</td><td>u8</td><td>u8</td><td>u8</td><td>u8</td><td>u8</td><td>u8</td><td>u8</td><td>u8</td><td>u8</td><td>u8</td><td>u8</td><td>u8</td><td>u8</td><td>bool</td><td>bool</td><td>date</td><td>f32</td><td>f32</td><td>f32</td><td>f32</td><td>f32</td><td>f32</td><td>f32</td><td>i64</td><td>u32</td><td>u32</td><td>u32</td><td>i8</td><td>i8</td><td>i8</td><td>i8</td><td>bool</td></tr></thead><tbody><tr><td>2</td><td>2024-01-01 00:57:55</td><td>2024-01-01 01:17:43</td><td>1</td><td>1.72</td><td>1</td><td>&quot;N&quot;</td><td>0</td><td>0</td><td>17.700001</td><td>1.0</td><td>0.5</td><td>0.0</td><td>0.0</td><td>1</td><td>22.700001</td><td>2.5</td><td>0.0</td><td>1</td><td>0</td><td>0</td><td>0</td><td>0</td><td>0</td><td>0</td><td>0</td><td>0</td><td>0</td><td>0</td><td>0</td><td>0</td><td>0</td><td>0</td><td>false</td><td>false</td><td>2024-01-01</td><td>22.217703</td><td>2.09</td><td>2.185003e6</td><td>1.7445e6</td><td>384659.9375</td><td>55778.90625</td><td>156123.25</td><td>109145</td><td>69665</td><td>8352</td><td>19716</td><td>1</td><td>1</td><td>1</td><td>1</td><td>false</td></tr><tr><td>1</td><td>2024-01-01 00:03:00</td><td>2024-01-01 00:09:36</td><td>1</td><td>1.8</td><td>1</td><td>&quot;N&quot;</td><td>1</td><td>0</td><td>10.0</td><td>3.5</td><td>0.5</td><td>3.75</td><td>0.0</td><td>1</td><td>18.75</td><td>2.5</td><td>0.0</td><td>1</td><td>0</td><td>0</td><td>0</td><td>0</td><td>0</td><td>0</td><td>0</td><td>0</td><td>0</td><td>0</td><td>0</td><td>0</td><td>0</td><td>0</td><td>false</td><td>false</td><td>2024-01-01</td><td>22.217703</td><td>2.09</td><td>2.185003e6</td><td>1.7445e6</td><td>384659.9375</td><td>55778.90625</td><td>156123.25</td><td>109145</td><td>69665</td><td>8352</td><td>19716</td><td>1</td><td>1</td><td>1</td><td>1</td><td>false</td></tr><tr><td>1</td><td>2024-01-01 00:17:06</td><td>2024-01-01 00:35:01</td><td>1</td><td>4.7</td><td>1</td><td>&quot;N&quot;</td><td>1</td><td>0</td><td>23.299999</td><td>3.5</td><td>0.5</td><td>3.0</td><td>0.0</td><td>1</td><td>31.299999</td><td>2.5</td><td>0.0</td><td>1</td><td>0</td><td>0</td><td>0</td><td>0</td><td>0</td><td>0</td><td>0</td><td>0</td><td>0</td><td>0</td><td>0</td><td>0</td><td>0</td><td>0</td><td>false</td><td>false</td><td>2024-01-01</td><td>22.217703</td><td>2.09</td><td>2.185003e6</td><td>1.7445e6</td><td>384659.9375</td><td>55778.90625</td><td>156123.25</td><td>109145</td><td>69665</td><td>8352</td><td>19716</td><td>1</td><td>1</td><td>1</td><td>1</td><td>false</td></tr><tr><td>1</td><td>2024-01-01 00:36:38</td><td>2024-01-01 00:44:56</td><td>1</td><td>1.4</td><td>1</td><td>&quot;N&quot;</td><td>1</td><td>0</td><td>10.0</td><td>3.5</td><td>0.5</td><td>2.0</td><td>0.0</td><td>1</td><td>17.0</td><td>2.5</td><td>0.0</td><td>1</td><td>0</td><td>0</td><td>0</td><td>0</td><td>0</td><td>0</td><td>0</td><td>0</td><td>0</td><td>0</td><td>0</td><td>0</td><td>0</td><td>0</td><td>false</td><td>false</td><td>2024-01-01</td><td>22.217703</td><td>2.09</td><td>2.185003e6</td><td>1.7445e6</td><td>384659.9375</td><td>55778.90625</td><td>156123.25</td><td>109145</td><td>69665</td><td>8352</td><td>19716</td><td>1</td><td>1</td><td>1</td><td>1</td><td>false</td></tr><tr><td>1</td><td>2024-01-01 00:46:51</td><td>2024-01-01 00:52:57</td><td>1</td><td>0.8</td><td>1</td><td>&quot;N&quot;</td><td>1</td><td>0</td><td>7.9</td><td>3.5</td><td>0.5</td><td>3.2</td><td>0.0</td><td>1</td><td>16.1</td><td>2.5</td><td>0.0</td><td>1</td><td>0</td><td>0</td><td>0</td><td>0</td><td>0</td><td>0</td><td>0</td><td>0</td><td>0</td><td>0</td><td>0</td><td>0</td><td>0</td><td>0</td><td>false</td><td>false</td><td>2024-01-01</td><td>22.217703</td><td>2.09</td><td>2.185003e6</td><td>1.7445e6</td><td>384659.9375</td><td>55778.90625</td><td>156123.25</td><td>109145</td><td>69665</td><td>8352</td><td>19716</td><td>1</td><td>1</td><td>1</td><td>1</td><td>false</td></tr><tr><td>&hellip;</td><td>&hellip;</td><td>&hellip;</td><td>&hellip;</td><td>&hellip;</td><td>&hellip;</td><td>&hellip;</td><td>&hellip;</td><td>&hellip;</td><td>&hellip;</td><td>&hellip;</td><td>&hellip;</td><td>&hellip;</td><td>&hellip;</td><td>&hellip;</td><td>&hellip;</td><td>&hellip;</td><td>&hellip;</td><td>&hellip;</td><td>&hellip;</td><td>&hellip;</td><td>&hellip;</td><td>&hellip;</td><td>&hellip;</td><td>&hellip;</td><td>&hellip;</td><td>&hellip;</td><td>&hellip;</td><td>&hellip;</td><td>&hellip;</td><td>&hellip;</td><td>&hellip;</td><td>&hellip;</td><td>&hellip;</td><td>&hellip;</td><td>&hellip;</td><td>&hellip;</td><td>&hellip;</td><td>&hellip;</td><td>&hellip;</td><td>&hellip;</td><td>&hellip;</td><td>&hellip;</td><td>&hellip;</td><td>&hellip;</td><td>&hellip;</td><td>&hellip;</td><td>&hellip;</td><td>&hellip;</td><td>&hellip;</td><td>&hellip;</td><td>&hellip;</td></tr><tr><td>2</td><td>2024-12-31 22:56:33</td><td>2024-12-31 23:05:57</td><td>1</td><td>1.9</td><td>1</td><td>&quot;N&quot;</td><td>1</td><td>0</td><td>12.1</td><td>1.0</td><td>0.5</td><td>1.88</td><td>0.0</td><td>1</td><td>18.98</td><td>2.5</td><td>0.0</td><td>1</td><td>0</td><td>0</td><td>0</td><td>0</td><td>0</td><td>0</td><td>0</td><td>0</td><td>0</td><td>0</td><td>0</td><td>0</td><td>0</td><td>0</td><td>false</td><td>false</td><td>2024-12-31</td><td>18.428528</td><td>1.61</td><td>2.0853e6</td><td>1.6291e6</td><td>353587.65625</td><td>102561.742188</td><td>175165.0</td><td>113288</td><td>77175</td><td>5291</td><td>27343</td><td>4</td><td>12</td><td>31</td><td>2</td><td>false</td></tr><tr><td>2</td><td>2024-12-31 23:18:37</td><td>2024-12-31 23:32:32</td><td>1</td><td>3.88</td><td>1</td><td>&quot;N&quot;</td><td>0</td><td>0</td><td>19.1</td><td>1.0</td><td>0.5</td><td>0.0</td><td>0.0</td><td>1</td><td>24.1</td><td>2.5</td><td>0.0</td><td>1</td><td>0</td><td>0</td><td>0</td><td>0</td><td>0</td><td>0</td><td>0</td><td>0</td><td>0</td><td>0</td><td>0</td><td>1</td><td>0</td><td>0</td><td>false</td><td>false</td><td>2024-12-31</td><td>18.428528</td><td>1.61</td><td>2.0853e6</td><td>1.6291e6</td><td>353587.65625</td><td>102561.742188</td><td>175165.0</td><td>113288</td><td>77175</td><td>5291</td><td>27343</td><td>4</td><td>12</td><td>31</td><td>2</td><td>false</td></tr><tr><td>2</td><td>2024-12-31 23:08:52</td><td>2024-12-31 23:34:59</td><td>1</td><td>5.53</td><td>1</td><td>&quot;N&quot;</td><td>1</td><td>0</td><td>29.6</td><td>1.0</td><td>0.5</td><td>2.0</td><td>0.0</td><td>1</td><td>36.599998</td><td>2.5</td><td>0.0</td><td>1</td><td>0</td><td>0</td><td>0</td><td>0</td><td>0</td><td>0</td><td>0</td><td>0</td><td>1</td><td>0</td><td>0</td><td>0</td><td>0</td><td>0</td><td>false</td><td>false</td><td>2024-12-31</td><td>18.428528</td><td>1.61</td><td>2.0853e6</td><td>1.6291e6</td><td>353587.65625</td><td>102561.742188</td><td>175165.0</td><td>113288</td><td>77175</td><td>5291</td><td>27343</td><td>4</td><td>12</td><td>31</td><td>2</td><td>false</td></tr><tr><td>2</td><td>2024-12-31 23:15:55</td><td>2024-12-31 23:24:24</td><td>1</td><td>0.89</td><td>1</td><td>&quot;N&quot;</td><td>1</td><td>0</td><td>9.3</td><td>1.0</td><td>0.5</td><td>2.14</td><td>0.0</td><td>1</td><td>16.440001</td><td>2.5</td><td>0.0</td><td>1</td><td>0</td><td>0</td><td>0</td><td>0</td><td>0</td><td>0</td><td>0</td><td>0</td><td>0</td><td>0</td><td>0</td><td>0</td><td>0</td><td>0</td><td>false</td><td>false</td><td>2024-12-31</td><td>18.428528</td><td>1.61</td><td>2.0853e6</td><td>1.6291e6</td><td>353587.65625</td><td>102561.742188</td><td>175165.0</td><td>113288</td><td>77175</td><td>5291</td><td>27343</td><td>4</td><td>12</td><td>31</td><td>2</td><td>false</td></tr><tr><td>2</td><td>2024-12-31 23:13:22</td><td>2024-12-31 23:49:57</td><td>1</td><td>20.49</td><td>1</td><td>&quot;N&quot;</td><td>1</td><td>0</td><td>77.900002</td><td>1.0</td><td>0.5</td><td>10.0</td><td>0.0</td><td>1</td><td>92.150002</td><td>0.0</td><td>1.75</td><td>1</td><td>0</td><td>0</td><td>0</td><td>0</td><td>1</td><td>0</td><td>0</td><td>0</td><td>1</td><td>0</td><td>0</td><td>0</td><td>0</td><td>0</td><td>true</td><td>false</td><td>2024-12-31</td><td>18.428528</td><td>1.61</td><td>2.0853e6</td><td>1.6291e6</td><td>353587.65625</td><td>102561.742188</td><td>175165.0</td><td>113288</td><td>77175</td><td>5291</td><td>27343</td><td>4</td><td>12</td><td>31</td><td>2</td><td>false</td></tr></tbody></table></div>"
      ],
      "text/plain": [
       "shape: (36_636_097, 52)\n",
       "┌──────────┬────────────┬────────────┬────────────┬───┬───────┬────────────┬───────────┬───────────┐\n",
       "│ VendorID ┆ tpep_picku ┆ tpep_dropo ┆ passenger_ ┆ … ┆ month ┆ day_of_mon ┆ day_of_we ┆ is_weeken │\n",
       "│ ---      ┆ p_datetime ┆ ff_datetim ┆ count      ┆   ┆ ---   ┆ th         ┆ ek        ┆ d         │\n",
       "│ u8       ┆ ---        ┆ e          ┆ ---        ┆   ┆ i8    ┆ ---        ┆ ---       ┆ ---       │\n",
       "│          ┆ datetime[m ┆ ---        ┆ u8         ┆   ┆       ┆ i8         ┆ i8        ┆ bool      │\n",
       "│          ┆ s]         ┆ datetime[m ┆            ┆   ┆       ┆            ┆           ┆           │\n",
       "│          ┆            ┆ s]         ┆            ┆   ┆       ┆            ┆           ┆           │\n",
       "╞══════════╪════════════╪════════════╪════════════╪═══╪═══════╪════════════╪═══════════╪═══════════╡\n",
       "│ 2        ┆ 2024-01-01 ┆ 2024-01-01 ┆ 1          ┆ … ┆ 1     ┆ 1          ┆ 1         ┆ false     │\n",
       "│          ┆ 00:57:55   ┆ 01:17:43   ┆            ┆   ┆       ┆            ┆           ┆           │\n",
       "│ 1        ┆ 2024-01-01 ┆ 2024-01-01 ┆ 1          ┆ … ┆ 1     ┆ 1          ┆ 1         ┆ false     │\n",
       "│          ┆ 00:03:00   ┆ 00:09:36   ┆            ┆   ┆       ┆            ┆           ┆           │\n",
       "│ 1        ┆ 2024-01-01 ┆ 2024-01-01 ┆ 1          ┆ … ┆ 1     ┆ 1          ┆ 1         ┆ false     │\n",
       "│          ┆ 00:17:06   ┆ 00:35:01   ┆            ┆   ┆       ┆            ┆           ┆           │\n",
       "│ 1        ┆ 2024-01-01 ┆ 2024-01-01 ┆ 1          ┆ … ┆ 1     ┆ 1          ┆ 1         ┆ false     │\n",
       "│          ┆ 00:36:38   ┆ 00:44:56   ┆            ┆   ┆       ┆            ┆           ┆           │\n",
       "│ 1        ┆ 2024-01-01 ┆ 2024-01-01 ┆ 1          ┆ … ┆ 1     ┆ 1          ┆ 1         ┆ false     │\n",
       "│          ┆ 00:46:51   ┆ 00:52:57   ┆            ┆   ┆       ┆            ┆           ┆           │\n",
       "│ …        ┆ …          ┆ …          ┆ …          ┆ … ┆ …     ┆ …          ┆ …         ┆ …         │\n",
       "│ 2        ┆ 2024-12-31 ┆ 2024-12-31 ┆ 1          ┆ … ┆ 12    ┆ 31         ┆ 2         ┆ false     │\n",
       "│          ┆ 22:56:33   ┆ 23:05:57   ┆            ┆   ┆       ┆            ┆           ┆           │\n",
       "│ 2        ┆ 2024-12-31 ┆ 2024-12-31 ┆ 1          ┆ … ┆ 12    ┆ 31         ┆ 2         ┆ false     │\n",
       "│          ┆ 23:18:37   ┆ 23:32:32   ┆            ┆   ┆       ┆            ┆           ┆           │\n",
       "│ 2        ┆ 2024-12-31 ┆ 2024-12-31 ┆ 1          ┆ … ┆ 12    ┆ 31         ┆ 2         ┆ false     │\n",
       "│          ┆ 23:08:52   ┆ 23:34:59   ┆            ┆   ┆       ┆            ┆           ┆           │\n",
       "│ 2        ┆ 2024-12-31 ┆ 2024-12-31 ┆ 1          ┆ … ┆ 12    ┆ 31         ┆ 2         ┆ false     │\n",
       "│          ┆ 23:15:55   ┆ 23:24:24   ┆            ┆   ┆       ┆            ┆           ┆           │\n",
       "│ 2        ┆ 2024-12-31 ┆ 2024-12-31 ┆ 1          ┆ … ┆ 12    ┆ 31         ┆ 2         ┆ false     │\n",
       "│          ┆ 23:13:22   ┆ 23:49:57   ┆            ┆   ┆       ┆            ┆           ┆           │\n",
       "└──────────┴────────────┴────────────┴────────────┴───┴───────┴────────────┴───────────┴───────────┘"
      ]
     },
     "execution_count": 86,
     "metadata": {},
     "output_type": "execute_result"
    }
   ],
   "source": [
    "df"
   ]
  },
  {
   "cell_type": "code",
   "execution_count": 87,
   "id": "3ef985ea",
   "metadata": {},
   "outputs": [],
   "source": [
    "# drop unneeded columns\n",
    "df = df.drop([\"VendorID\", \"tpep_pickup_datetime\", \"tpep_dropoff_datetime\"])"
   ]
  },
  {
   "cell_type": "code",
   "execution_count": 88,
   "id": "ee328b80",
   "metadata": {},
   "outputs": [
    {
     "data": {
      "text/plain": [
       "(36636097, 49)"
      ]
     },
     "execution_count": 88,
     "metadata": {},
     "output_type": "execute_result"
    }
   ],
   "source": [
    "df.shape"
   ]
  },
  {
   "cell_type": "code",
   "execution_count": 89,
   "id": "1464f4c3",
   "metadata": {},
   "outputs": [
    {
     "data": {
      "text/html": [
       "<div><style>\n",
       ".dataframe > thead > tr,\n",
       ".dataframe > tbody > tr {\n",
       "  text-align: right;\n",
       "  white-space: pre-wrap;\n",
       "}\n",
       "</style>\n",
       "<small>shape: (36_636_097, 49)</small><table border=\"1\" class=\"dataframe\"><thead><tr><th>passenger_count</th><th>trip_distance</th><th>RatecodeID</th><th>store_and_fwd_flag</th><th>payment_type_1</th><th>payment_type_4</th><th>fare_amount</th><th>extra</th><th>mta_tax</th><th>tip_amount</th><th>tolls_amount</th><th>improvement_surcharge</th><th>total_amount</th><th>congestion_surcharge</th><th>Airport_fee</th><th>literal</th><th>pickup_borough_Bronx</th><th>pickup_borough_Brooklyn</th><th>pickup_borough_EWR</th><th>pickup_borough_N/A</th><th>pickup_borough_Queens</th><th>pickup_borough_Staten Island</th><th>pickup_borough_Unknown</th><th>dropoff_borough_Bronx</th><th>dropoff_borough_Brooklyn</th><th>dropoff_borough_EWR</th><th>dropoff_borough_N/A</th><th>dropoff_borough_Queens</th><th>dropoff_borough_Staten Island</th><th>dropoff_borough_Unknown</th><th>is_airport_ride</th><th>is_rush_hour</th><th>date</th><th>mean_daily_fare_amount</th><th>median_daily_trip_distance</th><th>total_daily_sum</th><th>card_payment_daily_sum</th><th>cash_payment_daily_sum</th><th>other_payment_daily_sum</th><th>total_daily_congestion_surcharge</th><th>total_daily_passenger_count</th><th>total_amount_of_rides</th><th>total_amount_of_airport_rides</th><th>total_amount_of_rush_hour_rides</th><th>quarter</th><th>month</th><th>day_of_month</th><th>day_of_week</th><th>is_weekend</th></tr><tr><td>u8</td><td>f32</td><td>u8</td><td>str</td><td>u8</td><td>u8</td><td>f32</td><td>f32</td><td>f32</td><td>f32</td><td>f32</td><td>i8</td><td>f32</td><td>f32</td><td>f32</td><td>u8</td><td>u8</td><td>u8</td><td>u8</td><td>u8</td><td>u8</td><td>u8</td><td>u8</td><td>u8</td><td>u8</td><td>u8</td><td>u8</td><td>u8</td><td>u8</td><td>u8</td><td>bool</td><td>bool</td><td>date</td><td>f32</td><td>f32</td><td>f32</td><td>f32</td><td>f32</td><td>f32</td><td>f32</td><td>i64</td><td>u32</td><td>u32</td><td>u32</td><td>i8</td><td>i8</td><td>i8</td><td>i8</td><td>bool</td></tr></thead><tbody><tr><td>1</td><td>1.72</td><td>1</td><td>&quot;N&quot;</td><td>0</td><td>0</td><td>17.700001</td><td>1.0</td><td>0.5</td><td>0.0</td><td>0.0</td><td>1</td><td>22.700001</td><td>2.5</td><td>0.0</td><td>1</td><td>0</td><td>0</td><td>0</td><td>0</td><td>0</td><td>0</td><td>0</td><td>0</td><td>0</td><td>0</td><td>0</td><td>0</td><td>0</td><td>0</td><td>false</td><td>false</td><td>2024-01-01</td><td>22.217703</td><td>2.09</td><td>2.185003e6</td><td>1.7445e6</td><td>384659.9375</td><td>55778.90625</td><td>156123.25</td><td>109145</td><td>69665</td><td>8352</td><td>19716</td><td>1</td><td>1</td><td>1</td><td>1</td><td>false</td></tr><tr><td>1</td><td>1.8</td><td>1</td><td>&quot;N&quot;</td><td>1</td><td>0</td><td>10.0</td><td>3.5</td><td>0.5</td><td>3.75</td><td>0.0</td><td>1</td><td>18.75</td><td>2.5</td><td>0.0</td><td>1</td><td>0</td><td>0</td><td>0</td><td>0</td><td>0</td><td>0</td><td>0</td><td>0</td><td>0</td><td>0</td><td>0</td><td>0</td><td>0</td><td>0</td><td>false</td><td>false</td><td>2024-01-01</td><td>22.217703</td><td>2.09</td><td>2.185003e6</td><td>1.7445e6</td><td>384659.9375</td><td>55778.90625</td><td>156123.25</td><td>109145</td><td>69665</td><td>8352</td><td>19716</td><td>1</td><td>1</td><td>1</td><td>1</td><td>false</td></tr><tr><td>1</td><td>4.7</td><td>1</td><td>&quot;N&quot;</td><td>1</td><td>0</td><td>23.299999</td><td>3.5</td><td>0.5</td><td>3.0</td><td>0.0</td><td>1</td><td>31.299999</td><td>2.5</td><td>0.0</td><td>1</td><td>0</td><td>0</td><td>0</td><td>0</td><td>0</td><td>0</td><td>0</td><td>0</td><td>0</td><td>0</td><td>0</td><td>0</td><td>0</td><td>0</td><td>false</td><td>false</td><td>2024-01-01</td><td>22.217703</td><td>2.09</td><td>2.185003e6</td><td>1.7445e6</td><td>384659.9375</td><td>55778.90625</td><td>156123.25</td><td>109145</td><td>69665</td><td>8352</td><td>19716</td><td>1</td><td>1</td><td>1</td><td>1</td><td>false</td></tr><tr><td>1</td><td>1.4</td><td>1</td><td>&quot;N&quot;</td><td>1</td><td>0</td><td>10.0</td><td>3.5</td><td>0.5</td><td>2.0</td><td>0.0</td><td>1</td><td>17.0</td><td>2.5</td><td>0.0</td><td>1</td><td>0</td><td>0</td><td>0</td><td>0</td><td>0</td><td>0</td><td>0</td><td>0</td><td>0</td><td>0</td><td>0</td><td>0</td><td>0</td><td>0</td><td>false</td><td>false</td><td>2024-01-01</td><td>22.217703</td><td>2.09</td><td>2.185003e6</td><td>1.7445e6</td><td>384659.9375</td><td>55778.90625</td><td>156123.25</td><td>109145</td><td>69665</td><td>8352</td><td>19716</td><td>1</td><td>1</td><td>1</td><td>1</td><td>false</td></tr><tr><td>1</td><td>0.8</td><td>1</td><td>&quot;N&quot;</td><td>1</td><td>0</td><td>7.9</td><td>3.5</td><td>0.5</td><td>3.2</td><td>0.0</td><td>1</td><td>16.1</td><td>2.5</td><td>0.0</td><td>1</td><td>0</td><td>0</td><td>0</td><td>0</td><td>0</td><td>0</td><td>0</td><td>0</td><td>0</td><td>0</td><td>0</td><td>0</td><td>0</td><td>0</td><td>false</td><td>false</td><td>2024-01-01</td><td>22.217703</td><td>2.09</td><td>2.185003e6</td><td>1.7445e6</td><td>384659.9375</td><td>55778.90625</td><td>156123.25</td><td>109145</td><td>69665</td><td>8352</td><td>19716</td><td>1</td><td>1</td><td>1</td><td>1</td><td>false</td></tr><tr><td>&hellip;</td><td>&hellip;</td><td>&hellip;</td><td>&hellip;</td><td>&hellip;</td><td>&hellip;</td><td>&hellip;</td><td>&hellip;</td><td>&hellip;</td><td>&hellip;</td><td>&hellip;</td><td>&hellip;</td><td>&hellip;</td><td>&hellip;</td><td>&hellip;</td><td>&hellip;</td><td>&hellip;</td><td>&hellip;</td><td>&hellip;</td><td>&hellip;</td><td>&hellip;</td><td>&hellip;</td><td>&hellip;</td><td>&hellip;</td><td>&hellip;</td><td>&hellip;</td><td>&hellip;</td><td>&hellip;</td><td>&hellip;</td><td>&hellip;</td><td>&hellip;</td><td>&hellip;</td><td>&hellip;</td><td>&hellip;</td><td>&hellip;</td><td>&hellip;</td><td>&hellip;</td><td>&hellip;</td><td>&hellip;</td><td>&hellip;</td><td>&hellip;</td><td>&hellip;</td><td>&hellip;</td><td>&hellip;</td><td>&hellip;</td><td>&hellip;</td><td>&hellip;</td><td>&hellip;</td><td>&hellip;</td></tr><tr><td>1</td><td>1.9</td><td>1</td><td>&quot;N&quot;</td><td>1</td><td>0</td><td>12.1</td><td>1.0</td><td>0.5</td><td>1.88</td><td>0.0</td><td>1</td><td>18.98</td><td>2.5</td><td>0.0</td><td>1</td><td>0</td><td>0</td><td>0</td><td>0</td><td>0</td><td>0</td><td>0</td><td>0</td><td>0</td><td>0</td><td>0</td><td>0</td><td>0</td><td>0</td><td>false</td><td>false</td><td>2024-12-31</td><td>18.428528</td><td>1.61</td><td>2.0853e6</td><td>1.6291e6</td><td>353587.65625</td><td>102561.742188</td><td>175165.0</td><td>113288</td><td>77175</td><td>5291</td><td>27343</td><td>4</td><td>12</td><td>31</td><td>2</td><td>false</td></tr><tr><td>1</td><td>3.88</td><td>1</td><td>&quot;N&quot;</td><td>0</td><td>0</td><td>19.1</td><td>1.0</td><td>0.5</td><td>0.0</td><td>0.0</td><td>1</td><td>24.1</td><td>2.5</td><td>0.0</td><td>1</td><td>0</td><td>0</td><td>0</td><td>0</td><td>0</td><td>0</td><td>0</td><td>0</td><td>0</td><td>0</td><td>0</td><td>1</td><td>0</td><td>0</td><td>false</td><td>false</td><td>2024-12-31</td><td>18.428528</td><td>1.61</td><td>2.0853e6</td><td>1.6291e6</td><td>353587.65625</td><td>102561.742188</td><td>175165.0</td><td>113288</td><td>77175</td><td>5291</td><td>27343</td><td>4</td><td>12</td><td>31</td><td>2</td><td>false</td></tr><tr><td>1</td><td>5.53</td><td>1</td><td>&quot;N&quot;</td><td>1</td><td>0</td><td>29.6</td><td>1.0</td><td>0.5</td><td>2.0</td><td>0.0</td><td>1</td><td>36.599998</td><td>2.5</td><td>0.0</td><td>1</td><td>0</td><td>0</td><td>0</td><td>0</td><td>0</td><td>0</td><td>0</td><td>0</td><td>1</td><td>0</td><td>0</td><td>0</td><td>0</td><td>0</td><td>false</td><td>false</td><td>2024-12-31</td><td>18.428528</td><td>1.61</td><td>2.0853e6</td><td>1.6291e6</td><td>353587.65625</td><td>102561.742188</td><td>175165.0</td><td>113288</td><td>77175</td><td>5291</td><td>27343</td><td>4</td><td>12</td><td>31</td><td>2</td><td>false</td></tr><tr><td>1</td><td>0.89</td><td>1</td><td>&quot;N&quot;</td><td>1</td><td>0</td><td>9.3</td><td>1.0</td><td>0.5</td><td>2.14</td><td>0.0</td><td>1</td><td>16.440001</td><td>2.5</td><td>0.0</td><td>1</td><td>0</td><td>0</td><td>0</td><td>0</td><td>0</td><td>0</td><td>0</td><td>0</td><td>0</td><td>0</td><td>0</td><td>0</td><td>0</td><td>0</td><td>false</td><td>false</td><td>2024-12-31</td><td>18.428528</td><td>1.61</td><td>2.0853e6</td><td>1.6291e6</td><td>353587.65625</td><td>102561.742188</td><td>175165.0</td><td>113288</td><td>77175</td><td>5291</td><td>27343</td><td>4</td><td>12</td><td>31</td><td>2</td><td>false</td></tr><tr><td>1</td><td>20.49</td><td>1</td><td>&quot;N&quot;</td><td>1</td><td>0</td><td>77.900002</td><td>1.0</td><td>0.5</td><td>10.0</td><td>0.0</td><td>1</td><td>92.150002</td><td>0.0</td><td>1.75</td><td>1</td><td>0</td><td>0</td><td>0</td><td>0</td><td>1</td><td>0</td><td>0</td><td>0</td><td>1</td><td>0</td><td>0</td><td>0</td><td>0</td><td>0</td><td>true</td><td>false</td><td>2024-12-31</td><td>18.428528</td><td>1.61</td><td>2.0853e6</td><td>1.6291e6</td><td>353587.65625</td><td>102561.742188</td><td>175165.0</td><td>113288</td><td>77175</td><td>5291</td><td>27343</td><td>4</td><td>12</td><td>31</td><td>2</td><td>false</td></tr></tbody></table></div>"
      ],
      "text/plain": [
       "shape: (36_636_097, 49)\n",
       "┌────────────┬────────────┬────────────┬───────────┬───┬───────┬───────────┬───────────┬───────────┐\n",
       "│ passenger_ ┆ trip_dista ┆ RatecodeID ┆ store_and ┆ … ┆ month ┆ day_of_mo ┆ day_of_we ┆ is_weeken │\n",
       "│ count      ┆ nce        ┆ ---        ┆ _fwd_flag ┆   ┆ ---   ┆ nth       ┆ ek        ┆ d         │\n",
       "│ ---        ┆ ---        ┆ u8         ┆ ---       ┆   ┆ i8    ┆ ---       ┆ ---       ┆ ---       │\n",
       "│ u8         ┆ f32        ┆            ┆ str       ┆   ┆       ┆ i8        ┆ i8        ┆ bool      │\n",
       "╞════════════╪════════════╪════════════╪═══════════╪═══╪═══════╪═══════════╪═══════════╪═══════════╡\n",
       "│ 1          ┆ 1.72       ┆ 1          ┆ N         ┆ … ┆ 1     ┆ 1         ┆ 1         ┆ false     │\n",
       "│ 1          ┆ 1.8        ┆ 1          ┆ N         ┆ … ┆ 1     ┆ 1         ┆ 1         ┆ false     │\n",
       "│ 1          ┆ 4.7        ┆ 1          ┆ N         ┆ … ┆ 1     ┆ 1         ┆ 1         ┆ false     │\n",
       "│ 1          ┆ 1.4        ┆ 1          ┆ N         ┆ … ┆ 1     ┆ 1         ┆ 1         ┆ false     │\n",
       "│ 1          ┆ 0.8        ┆ 1          ┆ N         ┆ … ┆ 1     ┆ 1         ┆ 1         ┆ false     │\n",
       "│ …          ┆ …          ┆ …          ┆ …         ┆ … ┆ …     ┆ …         ┆ …         ┆ …         │\n",
       "│ 1          ┆ 1.9        ┆ 1          ┆ N         ┆ … ┆ 12    ┆ 31        ┆ 2         ┆ false     │\n",
       "│ 1          ┆ 3.88       ┆ 1          ┆ N         ┆ … ┆ 12    ┆ 31        ┆ 2         ┆ false     │\n",
       "│ 1          ┆ 5.53       ┆ 1          ┆ N         ┆ … ┆ 12    ┆ 31        ┆ 2         ┆ false     │\n",
       "│ 1          ┆ 0.89       ┆ 1          ┆ N         ┆ … ┆ 12    ┆ 31        ┆ 2         ┆ false     │\n",
       "│ 1          ┆ 20.49      ┆ 1          ┆ N         ┆ … ┆ 12    ┆ 31        ┆ 2         ┆ false     │\n",
       "└────────────┴────────────┴────────────┴───────────┴───┴───────┴───────────┴───────────┴───────────┘"
      ]
     },
     "execution_count": 89,
     "metadata": {},
     "output_type": "execute_result"
    }
   ],
   "source": [
    "df"
   ]
  },
  {
   "cell_type": "code",
   "execution_count": 97,
   "id": "da233200",
   "metadata": {},
   "outputs": [
    {
     "data": {
      "text/plain": [
       "(366, 49)"
      ]
     },
     "execution_count": 97,
     "metadata": {},
     "output_type": "execute_result"
    }
   ],
   "source": [
    "df = df.unique(subset=[\"date\"])\n",
    "df.shape"
   ]
  },
  {
   "cell_type": "code",
   "execution_count": 98,
   "id": "86e38786",
   "metadata": {},
   "outputs": [],
   "source": [
    "df.write_parquet(\"data/dataset.parquet\")"
   ]
  },
  {
   "cell_type": "markdown",
   "id": "95e2143b",
   "metadata": {},
   "source": [
    "# 5. Data analysis <a id=\"data-analysis\"></a>"
   ]
  },
  {
   "cell_type": "code",
   "execution_count": 99,
   "id": "09261e73",
   "metadata": {},
   "outputs": [
    {
     "data": {
      "text/plain": [
       "(366, 49)"
      ]
     },
     "execution_count": 99,
     "metadata": {},
     "output_type": "execute_result"
    }
   ],
   "source": [
    "# shape\n",
    "df.shape"
   ]
  },
  {
   "cell_type": "code",
   "execution_count": 100,
   "id": "19826a9a",
   "metadata": {},
   "outputs": [
    {
     "data": {
      "text/html": [
       "<div><style>\n",
       ".dataframe > thead > tr,\n",
       ".dataframe > tbody > tr {\n",
       "  text-align: right;\n",
       "  white-space: pre-wrap;\n",
       "}\n",
       "</style>\n",
       "<small>shape: (5, 49)</small><table border=\"1\" class=\"dataframe\"><thead><tr><th>passenger_count</th><th>trip_distance</th><th>RatecodeID</th><th>store_and_fwd_flag</th><th>payment_type_1</th><th>payment_type_4</th><th>fare_amount</th><th>extra</th><th>mta_tax</th><th>tip_amount</th><th>tolls_amount</th><th>improvement_surcharge</th><th>total_amount</th><th>congestion_surcharge</th><th>Airport_fee</th><th>literal</th><th>pickup_borough_Bronx</th><th>pickup_borough_Brooklyn</th><th>pickup_borough_EWR</th><th>pickup_borough_N/A</th><th>pickup_borough_Queens</th><th>pickup_borough_Staten Island</th><th>pickup_borough_Unknown</th><th>dropoff_borough_Bronx</th><th>dropoff_borough_Brooklyn</th><th>dropoff_borough_EWR</th><th>dropoff_borough_N/A</th><th>dropoff_borough_Queens</th><th>dropoff_borough_Staten Island</th><th>dropoff_borough_Unknown</th><th>is_airport_ride</th><th>is_rush_hour</th><th>date</th><th>mean_daily_fare_amount</th><th>median_daily_trip_distance</th><th>total_daily_sum</th><th>card_payment_daily_sum</th><th>cash_payment_daily_sum</th><th>other_payment_daily_sum</th><th>total_daily_congestion_surcharge</th><th>total_daily_passenger_count</th><th>total_amount_of_rides</th><th>total_amount_of_airport_rides</th><th>total_amount_of_rush_hour_rides</th><th>quarter</th><th>month</th><th>day_of_month</th><th>day_of_week</th><th>is_weekend</th></tr><tr><td>u8</td><td>f32</td><td>u8</td><td>str</td><td>u8</td><td>u8</td><td>f32</td><td>f32</td><td>f32</td><td>f32</td><td>f32</td><td>i8</td><td>f32</td><td>f32</td><td>f32</td><td>u8</td><td>u8</td><td>u8</td><td>u8</td><td>u8</td><td>u8</td><td>u8</td><td>u8</td><td>u8</td><td>u8</td><td>u8</td><td>u8</td><td>u8</td><td>u8</td><td>u8</td><td>bool</td><td>bool</td><td>date</td><td>f32</td><td>f32</td><td>f32</td><td>f32</td><td>f32</td><td>f32</td><td>f32</td><td>i64</td><td>u32</td><td>u32</td><td>u32</td><td>i8</td><td>i8</td><td>i8</td><td>i8</td><td>bool</td></tr></thead><tbody><tr><td>1</td><td>3.31</td><td>1</td><td>&quot;N&quot;</td><td>1</td><td>0</td><td>18.4</td><td>0.0</td><td>0.5</td><td>5.6</td><td>0.0</td><td>1</td><td>28.0</td><td>2.5</td><td>0.0</td><td>1</td><td>0</td><td>0</td><td>0</td><td>0</td><td>0</td><td>0</td><td>0</td><td>0</td><td>0</td><td>0</td><td>0</td><td>0</td><td>0</td><td>0</td><td>false</td><td>false</td><td>2024-08-13</td><td>19.668505</td><td>1.72</td><td>2486149.5</td><td>2.0651e6</td><td>347920.5</td><td>73074.296875</td><td>195765.0</td><td>113634</td><td>86373</td><td>8125</td><td>33530</td><td>3</td><td>8</td><td>13</td><td>2</td><td>false</td></tr><tr><td>3</td><td>0.8</td><td>1</td><td>&quot;N&quot;</td><td>0</td><td>0</td><td>13.5</td><td>5.0</td><td>0.5</td><td>0.0</td><td>0.0</td><td>1</td><td>20.0</td><td>2.5</td><td>0.0</td><td>3</td><td>0</td><td>0</td><td>0</td><td>0</td><td>0</td><td>0</td><td>0</td><td>0</td><td>0</td><td>0</td><td>0</td><td>0</td><td>0</td><td>0</td><td>false</td><td>true</td><td>2024-12-10</td><td>20.81846</td><td>1.6</td><td>3.8605e6</td><td>3367785.5</td><td>403011.5</td><td>89639.007812</td><td>294258.25</td><td>159734</td><td>126222</td><td>10328</td><td>48046</td><td>4</td><td>12</td><td>10</td><td>2</td><td>false</td></tr><tr><td>1</td><td>3.54</td><td>1</td><td>&quot;N&quot;</td><td>0</td><td>0</td><td>24.0</td><td>0.0</td><td>0.5</td><td>0.0</td><td>0.0</td><td>1</td><td>28.0</td><td>2.5</td><td>0.0</td><td>1</td><td>0</td><td>0</td><td>0</td><td>0</td><td>0</td><td>0</td><td>0</td><td>0</td><td>0</td><td>0</td><td>0</td><td>0</td><td>0</td><td>0</td><td>false</td><td>false</td><td>2024-03-20</td><td>19.149832</td><td>1.69</td><td>3.0301e6</td><td>2.6018e6</td><td>364914.3125</td><td>63296.335938</td><td>245295.0</td><td>135691</td><td>106121</td><td>8360</td><td>41827</td><td>1</td><td>3</td><td>20</td><td>3</td><td>false</td></tr><tr><td>1</td><td>4.46</td><td>1</td><td>&quot;N&quot;</td><td>1</td><td>0</td><td>31.0</td><td>0.0</td><td>0.5</td><td>5.25</td><td>0.0</td><td>1</td><td>40.25</td><td>2.5</td><td>0.0</td><td>1</td><td>0</td><td>0</td><td>0</td><td>0</td><td>0</td><td>0</td><td>0</td><td>0</td><td>0</td><td>0</td><td>0</td><td>0</td><td>0</td><td>0</td><td>false</td><td>false</td><td>2024-04-04</td><td>19.731695</td><td>1.7</td><td>3.3377e6</td><td>2.8347e6</td><td>431983.875</td><td>71002.875</td><td>263692.5</td><td>151778</td><td>114363</td><td>10381</td><td>43296</td><td>2</td><td>4</td><td>4</td><td>4</td><td>false</td></tr><tr><td>1</td><td>0.8</td><td>1</td><td>&quot;N&quot;</td><td>1</td><td>0</td><td>8.6</td><td>3.5</td><td>0.5</td><td>3.4</td><td>0.0</td><td>1</td><td>17.0</td><td>2.5</td><td>0.0</td><td>1</td><td>0</td><td>0</td><td>0</td><td>0</td><td>0</td><td>0</td><td>0</td><td>0</td><td>0</td><td>0</td><td>0</td><td>0</td><td>0</td><td>0</td><td>false</td><td>false</td><td>2024-12-07</td><td>19.461647</td><td>1.61</td><td>3.6303e6</td><td>3077163.5</td><td>429207.46875</td><td>123894.6875</td><td>306871.0</td><td>189260</td><td>130649</td><td>7806</td><td>0</td><td>4</td><td>12</td><td>7</td><td>6</td><td>true</td></tr></tbody></table></div>"
      ],
      "text/plain": [
       "shape: (5, 49)\n",
       "┌────────────┬────────────┬────────────┬───────────┬───┬───────┬───────────┬───────────┬───────────┐\n",
       "│ passenger_ ┆ trip_dista ┆ RatecodeID ┆ store_and ┆ … ┆ month ┆ day_of_mo ┆ day_of_we ┆ is_weeken │\n",
       "│ count      ┆ nce        ┆ ---        ┆ _fwd_flag ┆   ┆ ---   ┆ nth       ┆ ek        ┆ d         │\n",
       "│ ---        ┆ ---        ┆ u8         ┆ ---       ┆   ┆ i8    ┆ ---       ┆ ---       ┆ ---       │\n",
       "│ u8         ┆ f32        ┆            ┆ str       ┆   ┆       ┆ i8        ┆ i8        ┆ bool      │\n",
       "╞════════════╪════════════╪════════════╪═══════════╪═══╪═══════╪═══════════╪═══════════╪═══════════╡\n",
       "│ 1          ┆ 3.31       ┆ 1          ┆ N         ┆ … ┆ 8     ┆ 13        ┆ 2         ┆ false     │\n",
       "│ 3          ┆ 0.8        ┆ 1          ┆ N         ┆ … ┆ 12    ┆ 10        ┆ 2         ┆ false     │\n",
       "│ 1          ┆ 3.54       ┆ 1          ┆ N         ┆ … ┆ 3     ┆ 20        ┆ 3         ┆ false     │\n",
       "│ 1          ┆ 4.46       ┆ 1          ┆ N         ┆ … ┆ 4     ┆ 4         ┆ 4         ┆ false     │\n",
       "│ 1          ┆ 0.8        ┆ 1          ┆ N         ┆ … ┆ 12    ┆ 7         ┆ 6         ┆ true      │\n",
       "└────────────┴────────────┴────────────┴───────────┴───┴───────┴───────────┴───────────┴───────────┘"
      ]
     },
     "execution_count": 100,
     "metadata": {},
     "output_type": "execute_result"
    }
   ],
   "source": [
    "# top rows\n",
    "df.head()"
   ]
  },
  {
   "cell_type": "code",
   "execution_count": 101,
   "id": "8827c40f",
   "metadata": {},
   "outputs": [
    {
     "data": {
      "text/html": [
       "<div><style>\n",
       ".dataframe > thead > tr,\n",
       ".dataframe > tbody > tr {\n",
       "  text-align: right;\n",
       "  white-space: pre-wrap;\n",
       "}\n",
       "</style>\n",
       "<small>shape: (9, 50)</small><table border=\"1\" class=\"dataframe\"><thead><tr><th>statistic</th><th>passenger_count</th><th>trip_distance</th><th>RatecodeID</th><th>store_and_fwd_flag</th><th>payment_type_1</th><th>payment_type_4</th><th>fare_amount</th><th>extra</th><th>mta_tax</th><th>tip_amount</th><th>tolls_amount</th><th>improvement_surcharge</th><th>total_amount</th><th>congestion_surcharge</th><th>Airport_fee</th><th>literal</th><th>pickup_borough_Bronx</th><th>pickup_borough_Brooklyn</th><th>pickup_borough_EWR</th><th>pickup_borough_N/A</th><th>pickup_borough_Queens</th><th>pickup_borough_Staten Island</th><th>pickup_borough_Unknown</th><th>dropoff_borough_Bronx</th><th>dropoff_borough_Brooklyn</th><th>dropoff_borough_EWR</th><th>dropoff_borough_N/A</th><th>dropoff_borough_Queens</th><th>dropoff_borough_Staten Island</th><th>dropoff_borough_Unknown</th><th>is_airport_ride</th><th>is_rush_hour</th><th>date</th><th>mean_daily_fare_amount</th><th>median_daily_trip_distance</th><th>total_daily_sum</th><th>card_payment_daily_sum</th><th>cash_payment_daily_sum</th><th>other_payment_daily_sum</th><th>total_daily_congestion_surcharge</th><th>total_daily_passenger_count</th><th>total_amount_of_rides</th><th>total_amount_of_airport_rides</th><th>total_amount_of_rush_hour_rides</th><th>quarter</th><th>month</th><th>day_of_month</th><th>day_of_week</th><th>is_weekend</th></tr><tr><td>str</td><td>f64</td><td>f64</td><td>f64</td><td>str</td><td>f64</td><td>f64</td><td>f64</td><td>f64</td><td>f64</td><td>f64</td><td>f64</td><td>f64</td><td>f64</td><td>f64</td><td>f64</td><td>f64</td><td>f64</td><td>f64</td><td>f64</td><td>f64</td><td>f64</td><td>f64</td><td>f64</td><td>f64</td><td>f64</td><td>f64</td><td>f64</td><td>f64</td><td>f64</td><td>f64</td><td>f64</td><td>f64</td><td>str</td><td>f64</td><td>f64</td><td>f64</td><td>f64</td><td>f64</td><td>f64</td><td>f64</td><td>f64</td><td>f64</td><td>f64</td><td>f64</td><td>f64</td><td>f64</td><td>f64</td><td>f64</td><td>f64</td></tr></thead><tbody><tr><td>&quot;count&quot;</td><td>366.0</td><td>366.0</td><td>366.0</td><td>&quot;366&quot;</td><td>366.0</td><td>366.0</td><td>366.0</td><td>366.0</td><td>366.0</td><td>366.0</td><td>366.0</td><td>366.0</td><td>366.0</td><td>366.0</td><td>366.0</td><td>366.0</td><td>366.0</td><td>366.0</td><td>366.0</td><td>366.0</td><td>366.0</td><td>366.0</td><td>366.0</td><td>366.0</td><td>366.0</td><td>366.0</td><td>366.0</td><td>366.0</td><td>366.0</td><td>366.0</td><td>366.0</td><td>366.0</td><td>&quot;366&quot;</td><td>366.0</td><td>366.0</td><td>366.0</td><td>366.0</td><td>366.0</td><td>366.0</td><td>366.0</td><td>366.0</td><td>366.0</td><td>366.0</td><td>366.0</td><td>366.0</td><td>366.0</td><td>366.0</td><td>366.0</td><td>366.0</td></tr><tr><td>&quot;null_count&quot;</td><td>0.0</td><td>0.0</td><td>0.0</td><td>&quot;0&quot;</td><td>0.0</td><td>0.0</td><td>0.0</td><td>0.0</td><td>0.0</td><td>0.0</td><td>0.0</td><td>0.0</td><td>0.0</td><td>0.0</td><td>0.0</td><td>0.0</td><td>0.0</td><td>0.0</td><td>0.0</td><td>0.0</td><td>0.0</td><td>0.0</td><td>0.0</td><td>0.0</td><td>0.0</td><td>0.0</td><td>0.0</td><td>0.0</td><td>0.0</td><td>0.0</td><td>0.0</td><td>0.0</td><td>&quot;0&quot;</td><td>0.0</td><td>0.0</td><td>0.0</td><td>0.0</td><td>0.0</td><td>0.0</td><td>0.0</td><td>0.0</td><td>0.0</td><td>0.0</td><td>0.0</td><td>0.0</td><td>0.0</td><td>0.0</td><td>0.0</td><td>0.0</td></tr><tr><td>&quot;mean&quot;</td><td>1.516393</td><td>3.888224</td><td>2.166667</td><td>null</td><td>0.814208</td><td>0.019126</td><td>21.772131</td><td>1.54235</td><td>0.494536</td><td>3.715519</td><td>0.724645</td><td>0.991803</td><td>31.159016</td><td>2.26776</td><td>0.143443</td><td>1.516393</td><td>0.002732</td><td>0.019126</td><td>0.0</td><td>0.0</td><td>0.095628</td><td>0.0</td><td>0.0</td><td>0.008197</td><td>0.043716</td><td>0.002732</td><td>0.005464</td><td>0.068306</td><td>0.0</td><td>0.010929</td><td>0.081967</td><td>0.202186</td><td>&quot;2024-07-01 12:00:00&quot;</td><td>19.953608</td><td>1.718648</td><td>2.9114e6</td><td>2.4610e6</td><td>372266.0625</td><td>78165.875</td><td>230205.828125</td><td>134964.191257</td><td>100098.625683</td><td>8978.631148</td><td>22682.562842</td><td>2.505464</td><td>6.513661</td><td>15.756831</td><td>3.986339</td><td>0.42623</td></tr><tr><td>&quot;std&quot;</td><td>1.006012</td><td>4.934895</td><td>10.203791</td><td>null</td><td>0.389471</td><td>0.137154</td><td>18.099333</td><td>1.912625</td><td>0.052056</td><td>4.027246</td><td>2.335971</td><td>0.090287</td><td>22.791344</td><td>0.726711</td><td>0.480708</td><td>1.006012</td><td>0.052271</td><td>0.137154</td><td>0.0</td><td>0.0</td><td>0.294484</td><td>0.0</td><td>0.0</td><td>0.090287</td><td>0.204742</td><td>0.052271</td><td>0.073821</td><td>0.252616</td><td>0.0</td><td>0.104111</td><td>null</td><td>null</td><td>null</td><td>1.204955</td><td>0.100899</td><td>461672.59375</td><td>428988.71875</td><td>36204.21875</td><td>17271.240234</td><td>37866.164062</td><td>18726.374743</td><td>15373.530846</td><td>1716.749204</td><td>20115.821654</td><td>1.119551</td><td>3.455958</td><td>8.823592</td><td>2.006108</td><td>null</td></tr><tr><td>&quot;min&quot;</td><td>1.0</td><td>0.0</td><td>1.0</td><td>&quot;N&quot;</td><td>0.0</td><td>0.0</td><td>3.7</td><td>0.0</td><td>0.0</td><td>0.0</td><td>0.0</td><td>0.0</td><td>7.92</td><td>0.0</td><td>0.0</td><td>1.0</td><td>0.0</td><td>0.0</td><td>0.0</td><td>0.0</td><td>0.0</td><td>0.0</td><td>0.0</td><td>0.0</td><td>0.0</td><td>0.0</td><td>0.0</td><td>0.0</td><td>0.0</td><td>0.0</td><td>0.0</td><td>0.0</td><td>&quot;2024-01-01&quot;</td><td>16.676249</td><td>1.5</td><td>1.3260e6</td><td>996571.4375</td><td>240632.921875</td><td>41303.871094</td><td>107825.0</td><td>74199.0</td><td>47391.0</td><td>3355.0</td><td>0.0</td><td>1.0</td><td>1.0</td><td>1.0</td><td>1.0</td><td>0.0</td></tr><tr><td>&quot;25%&quot;</td><td>1.0</td><td>1.1</td><td>1.0</td><td>null</td><td>1.0</td><td>0.0</td><td>10.0</td><td>0.0</td><td>0.5</td><td>0.0</td><td>0.0</td><td>1.0</td><td>16.799999</td><td>2.5</td><td>0.0</td><td>1.0</td><td>0.0</td><td>0.0</td><td>0.0</td><td>0.0</td><td>0.0</td><td>0.0</td><td>0.0</td><td>0.0</td><td>0.0</td><td>0.0</td><td>0.0</td><td>0.0</td><td>0.0</td><td>0.0</td><td>null</td><td>null</td><td>&quot;2024-04-01&quot;</td><td>19.125853</td><td>1.66</td><td>2581948.5</td><td>2170285.5</td><td>352428.375</td><td>65781.96875</td><td>203501.0</td><td>122222.0</td><td>89573.0</td><td>7869.0</td><td>0.0</td><td>2.0</td><td>4.0</td><td>8.0</td><td>2.0</td><td>null</td></tr><tr><td>&quot;50%&quot;</td><td>1.0</td><td>2.02</td><td>1.0</td><td>null</td><td>1.0</td><td>0.0</td><td>16.299999</td><td>1.0</td><td>0.5</td><td>3.0</td><td>0.0</td><td>1.0</td><td>23.5</td><td>2.5</td><td>0.0</td><td>1.0</td><td>0.0</td><td>0.0</td><td>0.0</td><td>0.0</td><td>0.0</td><td>0.0</td><td>0.0</td><td>0.0</td><td>0.0</td><td>0.0</td><td>0.0</td><td>0.0</td><td>0.0</td><td>0.0</td><td>null</td><td>null</td><td>&quot;2024-07-02&quot;</td><td>19.952921</td><td>1.7</td><td>2.916712e6</td><td>2463090.5</td><td>375976.8125</td><td>79217.171875</td><td>232825.0</td><td>134084.0</td><td>100782.0</td><td>9020.0</td><td>33530.0</td><td>3.0</td><td>7.0</td><td>16.0</td><td>4.0</td><td>null</td></tr><tr><td>&quot;75%&quot;</td><td>2.0</td><td>4.0</td><td>1.0</td><td>null</td><td>1.0</td><td>0.0</td><td>25.4</td><td>2.5</td><td>0.5</td><td>4.95</td><td>0.0</td><td>1.0</td><td>35.299999</td><td>2.5</td><td>0.0</td><td>2.0</td><td>0.0</td><td>0.0</td><td>0.0</td><td>0.0</td><td>0.0</td><td>0.0</td><td>0.0</td><td>0.0</td><td>0.0</td><td>0.0</td><td>0.0</td><td>0.0</td><td>0.0</td><td>0.0</td><td>null</td><td>null</td><td>&quot;2024-10-01&quot;</td><td>20.713577</td><td>1.77</td><td>3.2230e6</td><td>2.7452e6</td><td>398647.90625</td><td>90279.65625</td><td>256942.0</td><td>147192.0</td><td>110805.0</td><td>10144.0</td><td>41062.0</td><td>4.0</td><td>10.0</td><td>23.0</td><td>6.0</td><td>null</td></tr><tr><td>&quot;max&quot;</td><td>6.0</td><td>31.41</td><td>99.0</td><td>&quot;Y&quot;</td><td>1.0</td><td>1.0</td><td>160.5</td><td>10.25</td><td>0.5</td><td>22.98</td><td>22.32</td><td>1.0</td><td>171.440002</td><td>2.5</td><td>1.75</td><td>6.0</td><td>1.0</td><td>1.0</td><td>0.0</td><td>0.0</td><td>1.0</td><td>0.0</td><td>0.0</td><td>1.0</td><td>1.0</td><td>1.0</td><td>1.0</td><td>1.0</td><td>0.0</td><td>1.0</td><td>1.0</td><td>1.0</td><td>&quot;2024-12-31&quot;</td><td>24.447693</td><td>2.2</td><td>4.464577e6</td><td>3.918411e6</td><td>449946.96875</td><td>123894.6875</td><td>330475.0</td><td>199445.0</td><td>141702.0</td><td>14904.0</td><td>53180.0</td><td>4.0</td><td>12.0</td><td>31.0</td><td>7.0</td><td>1.0</td></tr></tbody></table></div>"
      ],
      "text/plain": [
       "shape: (9, 50)\n",
       "┌───────────┬───────────┬───────────┬───────────┬───┬──────────┬───────────┬───────────┬───────────┐\n",
       "│ statistic ┆ passenger ┆ trip_dist ┆ RatecodeI ┆ … ┆ month    ┆ day_of_mo ┆ day_of_we ┆ is_weeken │\n",
       "│ ---       ┆ _count    ┆ ance      ┆ D         ┆   ┆ ---      ┆ nth       ┆ ek        ┆ d         │\n",
       "│ str       ┆ ---       ┆ ---       ┆ ---       ┆   ┆ f64      ┆ ---       ┆ ---       ┆ ---       │\n",
       "│           ┆ f64       ┆ f64       ┆ f64       ┆   ┆          ┆ f64       ┆ f64       ┆ f64       │\n",
       "╞═══════════╪═══════════╪═══════════╪═══════════╪═══╪══════════╪═══════════╪═══════════╪═══════════╡\n",
       "│ count     ┆ 366.0     ┆ 366.0     ┆ 366.0     ┆ … ┆ 366.0    ┆ 366.0     ┆ 366.0     ┆ 366.0     │\n",
       "│ null_coun ┆ 0.0       ┆ 0.0       ┆ 0.0       ┆ … ┆ 0.0      ┆ 0.0       ┆ 0.0       ┆ 0.0       │\n",
       "│ t         ┆           ┆           ┆           ┆   ┆          ┆           ┆           ┆           │\n",
       "│ mean      ┆ 1.516393  ┆ 3.888224  ┆ 2.166667  ┆ … ┆ 6.513661 ┆ 15.756831 ┆ 3.986339  ┆ 0.42623   │\n",
       "│ std       ┆ 1.006012  ┆ 4.934895  ┆ 10.203791 ┆ … ┆ 3.455958 ┆ 8.823592  ┆ 2.006108  ┆ null      │\n",
       "│ min       ┆ 1.0       ┆ 0.0       ┆ 1.0       ┆ … ┆ 1.0      ┆ 1.0       ┆ 1.0       ┆ 0.0       │\n",
       "│ 25%       ┆ 1.0       ┆ 1.1       ┆ 1.0       ┆ … ┆ 4.0      ┆ 8.0       ┆ 2.0       ┆ null      │\n",
       "│ 50%       ┆ 1.0       ┆ 2.02      ┆ 1.0       ┆ … ┆ 7.0      ┆ 16.0      ┆ 4.0       ┆ null      │\n",
       "│ 75%       ┆ 2.0       ┆ 4.0       ┆ 1.0       ┆ … ┆ 10.0     ┆ 23.0      ┆ 6.0       ┆ null      │\n",
       "│ max       ┆ 6.0       ┆ 31.41     ┆ 99.0      ┆ … ┆ 12.0     ┆ 31.0      ┆ 7.0       ┆ 1.0       │\n",
       "└───────────┴───────────┴───────────┴───────────┴───┴──────────┴───────────┴───────────┴───────────┘"
      ]
     },
     "execution_count": 101,
     "metadata": {},
     "output_type": "execute_result"
    }
   ],
   "source": [
    "# stats\n",
    "df.describe()"
   ]
  },
  {
   "cell_type": "code",
   "execution_count": 102,
   "id": "fd6a15f6",
   "metadata": {},
   "outputs": [
    {
     "data": {
      "text/plain": [
       "Schema([('passenger_count', UInt8),\n",
       "        ('trip_distance', Float32),\n",
       "        ('RatecodeID', UInt8),\n",
       "        ('store_and_fwd_flag', String),\n",
       "        ('payment_type_1', UInt8),\n",
       "        ('payment_type_4', UInt8),\n",
       "        ('fare_amount', Float32),\n",
       "        ('extra', Float32),\n",
       "        ('mta_tax', Float32),\n",
       "        ('tip_amount', Float32),\n",
       "        ('tolls_amount', Float32),\n",
       "        ('improvement_surcharge', Int8),\n",
       "        ('total_amount', Float32),\n",
       "        ('congestion_surcharge', Float32),\n",
       "        ('Airport_fee', Float32),\n",
       "        ('literal', UInt8),\n",
       "        ('pickup_borough_Bronx', UInt8),\n",
       "        ('pickup_borough_Brooklyn', UInt8),\n",
       "        ('pickup_borough_EWR', UInt8),\n",
       "        ('pickup_borough_N/A', UInt8),\n",
       "        ('pickup_borough_Queens', UInt8),\n",
       "        ('pickup_borough_Staten Island', UInt8),\n",
       "        ('pickup_borough_Unknown', UInt8),\n",
       "        ('dropoff_borough_Bronx', UInt8),\n",
       "        ('dropoff_borough_Brooklyn', UInt8),\n",
       "        ('dropoff_borough_EWR', UInt8),\n",
       "        ('dropoff_borough_N/A', UInt8),\n",
       "        ('dropoff_borough_Queens', UInt8),\n",
       "        ('dropoff_borough_Staten Island', UInt8),\n",
       "        ('dropoff_borough_Unknown', UInt8),\n",
       "        ('is_airport_ride', Boolean),\n",
       "        ('is_rush_hour', Boolean),\n",
       "        ('date', Date),\n",
       "        ('mean_daily_fare_amount', Float32),\n",
       "        ('median_daily_trip_distance', Float32),\n",
       "        ('total_daily_sum', Float32),\n",
       "        ('card_payment_daily_sum', Float32),\n",
       "        ('cash_payment_daily_sum', Float32),\n",
       "        ('other_payment_daily_sum', Float32),\n",
       "        ('total_daily_congestion_surcharge', Float32),\n",
       "        ('total_daily_passenger_count', Int64),\n",
       "        ('total_amount_of_rides', UInt32),\n",
       "        ('total_amount_of_airport_rides', UInt32),\n",
       "        ('total_amount_of_rush_hour_rides', UInt32),\n",
       "        ('quarter', Int8),\n",
       "        ('month', Int8),\n",
       "        ('day_of_month', Int8),\n",
       "        ('day_of_week', Int8),\n",
       "        ('is_weekend', Boolean)])"
      ]
     },
     "execution_count": 102,
     "metadata": {},
     "output_type": "execute_result"
    }
   ],
   "source": [
    "# schema\n",
    "df.schema"
   ]
  },
  {
   "cell_type": "code",
   "execution_count": 104,
   "id": "4b669ade",
   "metadata": {},
   "outputs": [
    {
     "data": {
      "image/png": "[encoded data removed]",
      "text/plain": [
       "<Figure size 800x400 with 1 Axes>"
      ]
     },
     "metadata": {},
     "output_type": "display_data"
    },
    {
     "data": {
      "image/png": "[encoded data removed]",
      "text/plain": [
       "<Figure size 1200x500 with 1 Axes>"
      ]
     },
     "metadata": {},
     "output_type": "display_data"
    }
   ],
   "source": [
    "# plot target variable (daily number of rides)\n",
    "\n",
    "# Histogram of daily number of rides\n",
    "plt.figure(figsize=(8, 4))\n",
    "plt.hist(\n",
    "    df[\"total_amount_of_rides\"].to_numpy(), bins=30, color=\"skyblue\", edgecolor=\"black\"\n",
    ")\n",
    "plt.xlabel(\"Number of rides per day\")\n",
    "plt.ylabel(\"Frequency\")\n",
    "plt.title(\"Histogram of daily number of rides\")\n",
    "plt.show()\n",
    "\n",
    "# Line plot: date vs number of rides\n",
    "df_sorted = df.sort(\"date\")\n",
    "plt.figure(figsize=(12, 5))\n",
    "plt.plot(\n",
    "    df_sorted[\"date\"].to_numpy(),\n",
    "    df_sorted[\"total_amount_of_rides\"].to_numpy(),\n",
    "    marker=\"o\",\n",
    "    linestyle=\"-\",\n",
    ")\n",
    "plt.xlabel(\"Date\")\n",
    "plt.ylabel(\"Number of rides\")\n",
    "plt.title(\"Daily number of rides over time\")\n",
    "plt.tight_layout()\n",
    "plt.show()"
   ]
  },
  {
   "cell_type": "markdown",
   "id": "d3a48552",
   "metadata": {},
   "source": []
  }
 ],
 "metadata": {
  "kernelspec": {
   "display_name": "Python 3 (ipykernel)",
   "language": "python",
   "name": "python3"
  },
  "language_info": {
   "codemirror_mode": {
    "name": "ipython",
    "version": 3
   },
   "file_extension": ".py",
   "mimetype": "text/x-python",
   "name": "python",
   "nbconvert_exporter": "python",
   "pygments_lexer": "ipython3",
   "version": "3.12.9"
  }
 },
 "nbformat": 4,
 "nbformat_minor": 5
}
